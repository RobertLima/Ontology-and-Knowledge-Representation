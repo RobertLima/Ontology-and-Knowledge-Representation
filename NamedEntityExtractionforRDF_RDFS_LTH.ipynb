{
  "nbformat": 4,
  "nbformat_minor": 0,
  "metadata": {
    "colab": {
      "name": "NamedEntityExtractionforRDF/RDFS_Lim Teck Huat_P107443_final",
      "provenance": [],
      "collapsed_sections": [
        "uKTmYVJOpQ3j",
        "hRUgYEb5EyOb"
      ]
    },
    "kernelspec": {
      "name": "python3",
      "display_name": "Python 3"
    },
    "language_info": {
      "name": "python"
    }
  },
  "cells": [
    {
      "cell_type": "markdown",
      "source": [
        "#FAANG"
      ],
      "metadata": {
        "id": "egb9DCoxZveg"
      }
    },
    {
      "cell_type": "markdown",
      "source": [
        "##Initialize"
      ],
      "metadata": {
        "id": "uKTmYVJOpQ3j"
      }
    },
    {
      "cell_type": "code",
      "source": [
        "!pip install -U spacy==3.2.0"
      ],
      "metadata": {
        "colab": {
          "base_uri": "https://localhost:8080/"
        },
        "id": "Sl4rcaBVjsIr",
        "outputId": "4b413fb1-cea3-4a04-a8c2-8021dbb9de6c"
      },
      "execution_count": 1,
      "outputs": [
        {
          "output_type": "stream",
          "name": "stdout",
          "text": [
            "Collecting spacy==3.2.0\n",
            "  Downloading spacy-3.2.0-cp37-cp37m-manylinux_2_17_x86_64.manylinux2014_x86_64.whl (6.0 MB)\n",
            "\u001b[K     |████████████████████████████████| 6.0 MB 6.8 MB/s \n",
            "\u001b[?25hRequirement already satisfied: murmurhash<1.1.0,>=0.28.0 in /usr/local/lib/python3.7/dist-packages (from spacy==3.2.0) (1.0.6)\n",
            "Requirement already satisfied: cymem<2.1.0,>=2.0.2 in /usr/local/lib/python3.7/dist-packages (from spacy==3.2.0) (2.0.6)\n",
            "Collecting pydantic!=1.8,!=1.8.1,<1.9.0,>=1.7.4\n",
            "  Downloading pydantic-1.8.2-cp37-cp37m-manylinux2014_x86_64.whl (10.1 MB)\n",
            "\u001b[K     |████████████████████████████████| 10.1 MB 46.9 MB/s \n",
            "\u001b[?25hCollecting srsly<3.0.0,>=2.4.1\n",
            "  Downloading srsly-2.4.2-cp37-cp37m-manylinux_2_17_x86_64.manylinux2014_x86_64.whl (451 kB)\n",
            "\u001b[K     |████████████████████████████████| 451 kB 75.9 MB/s \n",
            "\u001b[?25hRequirement already satisfied: typing-extensions<4.0.0.0,>=3.7.4 in /usr/local/lib/python3.7/dist-packages (from spacy==3.2.0) (3.10.0.2)\n",
            "Collecting langcodes<4.0.0,>=3.2.0\n",
            "  Downloading langcodes-3.3.0-py3-none-any.whl (181 kB)\n",
            "\u001b[K     |████████████████████████████████| 181 kB 77.7 MB/s \n",
            "\u001b[?25hCollecting spacy-loggers<2.0.0,>=1.0.0\n",
            "  Downloading spacy_loggers-1.0.1-py3-none-any.whl (7.0 kB)\n",
            "Requirement already satisfied: jinja2 in /usr/local/lib/python3.7/dist-packages (from spacy==3.2.0) (2.11.3)\n",
            "Requirement already satisfied: requests<3.0.0,>=2.13.0 in /usr/local/lib/python3.7/dist-packages (from spacy==3.2.0) (2.23.0)\n",
            "Requirement already satisfied: wasabi<1.1.0,>=0.8.1 in /usr/local/lib/python3.7/dist-packages (from spacy==3.2.0) (0.9.0)\n",
            "Requirement already satisfied: preshed<3.1.0,>=3.0.2 in /usr/local/lib/python3.7/dist-packages (from spacy==3.2.0) (3.0.6)\n",
            "Collecting typer<0.5.0,>=0.3.0\n",
            "  Downloading typer-0.4.0-py3-none-any.whl (27 kB)\n",
            "Collecting catalogue<2.1.0,>=2.0.6\n",
            "  Downloading catalogue-2.0.6-py3-none-any.whl (17 kB)\n",
            "Requirement already satisfied: numpy>=1.15.0 in /usr/local/lib/python3.7/dist-packages (from spacy==3.2.0) (1.21.5)\n",
            "Requirement already satisfied: blis<0.8.0,>=0.4.0 in /usr/local/lib/python3.7/dist-packages (from spacy==3.2.0) (0.4.1)\n",
            "Requirement already satisfied: tqdm<5.0.0,>=4.38.0 in /usr/local/lib/python3.7/dist-packages (from spacy==3.2.0) (4.62.3)\n",
            "Collecting spacy-legacy<3.1.0,>=3.0.8\n",
            "  Downloading spacy_legacy-3.0.8-py2.py3-none-any.whl (14 kB)\n",
            "Requirement already satisfied: packaging>=20.0 in /usr/local/lib/python3.7/dist-packages (from spacy==3.2.0) (21.3)\n",
            "Requirement already satisfied: setuptools in /usr/local/lib/python3.7/dist-packages (from spacy==3.2.0) (57.4.0)\n",
            "Collecting pathy>=0.3.5\n",
            "  Downloading pathy-0.6.1-py3-none-any.whl (42 kB)\n",
            "\u001b[K     |████████████████████████████████| 42 kB 1.5 MB/s \n",
            "\u001b[?25hCollecting thinc<8.1.0,>=8.0.12\n",
            "  Downloading thinc-8.0.13-cp37-cp37m-manylinux_2_17_x86_64.manylinux2014_x86_64.whl (628 kB)\n",
            "\u001b[K     |████████████████████████████████| 628 kB 73.2 MB/s \n",
            "\u001b[?25hRequirement already satisfied: zipp>=0.5 in /usr/local/lib/python3.7/dist-packages (from catalogue<2.1.0,>=2.0.6->spacy==3.2.0) (3.7.0)\n",
            "Requirement already satisfied: pyparsing!=3.0.5,>=2.0.2 in /usr/local/lib/python3.7/dist-packages (from packaging>=20.0->spacy==3.2.0) (3.0.7)\n",
            "Requirement already satisfied: smart-open<6.0.0,>=5.0.0 in /usr/local/lib/python3.7/dist-packages (from pathy>=0.3.5->spacy==3.2.0) (5.2.1)\n",
            "Requirement already satisfied: chardet<4,>=3.0.2 in /usr/local/lib/python3.7/dist-packages (from requests<3.0.0,>=2.13.0->spacy==3.2.0) (3.0.4)\n",
            "Requirement already satisfied: certifi>=2017.4.17 in /usr/local/lib/python3.7/dist-packages (from requests<3.0.0,>=2.13.0->spacy==3.2.0) (2021.10.8)\n",
            "Requirement already satisfied: idna<3,>=2.5 in /usr/local/lib/python3.7/dist-packages (from requests<3.0.0,>=2.13.0->spacy==3.2.0) (2.10)\n",
            "Requirement already satisfied: urllib3!=1.25.0,!=1.25.1,<1.26,>=1.21.1 in /usr/local/lib/python3.7/dist-packages (from requests<3.0.0,>=2.13.0->spacy==3.2.0) (1.24.3)\n",
            "Requirement already satisfied: click<9.0.0,>=7.1.1 in /usr/local/lib/python3.7/dist-packages (from typer<0.5.0,>=0.3.0->spacy==3.2.0) (7.1.2)\n",
            "Requirement already satisfied: MarkupSafe>=0.23 in /usr/local/lib/python3.7/dist-packages (from jinja2->spacy==3.2.0) (2.0.1)\n",
            "Installing collected packages: catalogue, typer, srsly, pydantic, thinc, spacy-loggers, spacy-legacy, pathy, langcodes, spacy\n",
            "  Attempting uninstall: catalogue\n",
            "    Found existing installation: catalogue 1.0.0\n",
            "    Uninstalling catalogue-1.0.0:\n",
            "      Successfully uninstalled catalogue-1.0.0\n",
            "  Attempting uninstall: srsly\n",
            "    Found existing installation: srsly 1.0.5\n",
            "    Uninstalling srsly-1.0.5:\n",
            "      Successfully uninstalled srsly-1.0.5\n",
            "  Attempting uninstall: thinc\n",
            "    Found existing installation: thinc 7.4.0\n",
            "    Uninstalling thinc-7.4.0:\n",
            "      Successfully uninstalled thinc-7.4.0\n",
            "  Attempting uninstall: spacy\n",
            "    Found existing installation: spacy 2.2.4\n",
            "    Uninstalling spacy-2.2.4:\n",
            "      Successfully uninstalled spacy-2.2.4\n",
            "Successfully installed catalogue-2.0.6 langcodes-3.3.0 pathy-0.6.1 pydantic-1.8.2 spacy-3.2.0 spacy-legacy-3.0.8 spacy-loggers-1.0.1 srsly-2.4.2 thinc-8.0.13 typer-0.4.0\n"
          ]
        }
      ]
    },
    {
      "cell_type": "code",
      "source": [
        "#!python -m spacy download en"
      ],
      "metadata": {
        "id": "qXryds_OmGGl"
      },
      "execution_count": 2,
      "outputs": []
    },
    {
      "cell_type": "code",
      "source": [
        "#!python -m spacy download en_core_web_sm"
      ],
      "metadata": {
        "id": "oEHDCfRHpjwF"
      },
      "execution_count": 3,
      "outputs": []
    },
    {
      "cell_type": "code",
      "source": [
        "!python -m spacy download en_core_web_md "
      ],
      "metadata": {
        "id": "SnPkcDVzishW",
        "colab": {
          "base_uri": "https://localhost:8080/"
        },
        "outputId": "ae4e87f3-08d9-47c5-a648-7c4289823ae8"
      },
      "execution_count": 4,
      "outputs": [
        {
          "output_type": "stream",
          "name": "stdout",
          "text": [
            "Collecting en-core-web-md==3.2.0\n",
            "  Downloading https://github.com/explosion/spacy-models/releases/download/en_core_web_md-3.2.0/en_core_web_md-3.2.0-py3-none-any.whl (45.7 MB)\n",
            "\u001b[K     |████████████████████████████████| 45.7 MB 1.4 MB/s \n",
            "\u001b[?25hRequirement already satisfied: spacy<3.3.0,>=3.2.0 in /usr/local/lib/python3.7/dist-packages (from en-core-web-md==3.2.0) (3.2.0)\n",
            "Requirement already satisfied: langcodes<4.0.0,>=3.2.0 in /usr/local/lib/python3.7/dist-packages (from spacy<3.3.0,>=3.2.0->en-core-web-md==3.2.0) (3.3.0)\n",
            "Requirement already satisfied: spacy-loggers<2.0.0,>=1.0.0 in /usr/local/lib/python3.7/dist-packages (from spacy<3.3.0,>=3.2.0->en-core-web-md==3.2.0) (1.0.1)\n",
            "Requirement already satisfied: packaging>=20.0 in /usr/local/lib/python3.7/dist-packages (from spacy<3.3.0,>=3.2.0->en-core-web-md==3.2.0) (21.3)\n",
            "Requirement already satisfied: thinc<8.1.0,>=8.0.12 in /usr/local/lib/python3.7/dist-packages (from spacy<3.3.0,>=3.2.0->en-core-web-md==3.2.0) (8.0.13)\n",
            "Requirement already satisfied: srsly<3.0.0,>=2.4.1 in /usr/local/lib/python3.7/dist-packages (from spacy<3.3.0,>=3.2.0->en-core-web-md==3.2.0) (2.4.2)\n",
            "Requirement already satisfied: catalogue<2.1.0,>=2.0.6 in /usr/local/lib/python3.7/dist-packages (from spacy<3.3.0,>=3.2.0->en-core-web-md==3.2.0) (2.0.6)\n",
            "Requirement already satisfied: pathy>=0.3.5 in /usr/local/lib/python3.7/dist-packages (from spacy<3.3.0,>=3.2.0->en-core-web-md==3.2.0) (0.6.1)\n",
            "Requirement already satisfied: setuptools in /usr/local/lib/python3.7/dist-packages (from spacy<3.3.0,>=3.2.0->en-core-web-md==3.2.0) (57.4.0)\n",
            "Requirement already satisfied: jinja2 in /usr/local/lib/python3.7/dist-packages (from spacy<3.3.0,>=3.2.0->en-core-web-md==3.2.0) (2.11.3)\n",
            "Requirement already satisfied: spacy-legacy<3.1.0,>=3.0.8 in /usr/local/lib/python3.7/dist-packages (from spacy<3.3.0,>=3.2.0->en-core-web-md==3.2.0) (3.0.8)\n",
            "Requirement already satisfied: typer<0.5.0,>=0.3.0 in /usr/local/lib/python3.7/dist-packages (from spacy<3.3.0,>=3.2.0->en-core-web-md==3.2.0) (0.4.0)\n",
            "Requirement already satisfied: murmurhash<1.1.0,>=0.28.0 in /usr/local/lib/python3.7/dist-packages (from spacy<3.3.0,>=3.2.0->en-core-web-md==3.2.0) (1.0.6)\n",
            "Requirement already satisfied: numpy>=1.15.0 in /usr/local/lib/python3.7/dist-packages (from spacy<3.3.0,>=3.2.0->en-core-web-md==3.2.0) (1.21.5)\n",
            "Requirement already satisfied: preshed<3.1.0,>=3.0.2 in /usr/local/lib/python3.7/dist-packages (from spacy<3.3.0,>=3.2.0->en-core-web-md==3.2.0) (3.0.6)\n",
            "Requirement already satisfied: pydantic!=1.8,!=1.8.1,<1.9.0,>=1.7.4 in /usr/local/lib/python3.7/dist-packages (from spacy<3.3.0,>=3.2.0->en-core-web-md==3.2.0) (1.8.2)\n",
            "Requirement already satisfied: tqdm<5.0.0,>=4.38.0 in /usr/local/lib/python3.7/dist-packages (from spacy<3.3.0,>=3.2.0->en-core-web-md==3.2.0) (4.62.3)\n",
            "Requirement already satisfied: blis<0.8.0,>=0.4.0 in /usr/local/lib/python3.7/dist-packages (from spacy<3.3.0,>=3.2.0->en-core-web-md==3.2.0) (0.4.1)\n",
            "Requirement already satisfied: cymem<2.1.0,>=2.0.2 in /usr/local/lib/python3.7/dist-packages (from spacy<3.3.0,>=3.2.0->en-core-web-md==3.2.0) (2.0.6)\n",
            "Requirement already satisfied: requests<3.0.0,>=2.13.0 in /usr/local/lib/python3.7/dist-packages (from spacy<3.3.0,>=3.2.0->en-core-web-md==3.2.0) (2.23.0)\n",
            "Requirement already satisfied: wasabi<1.1.0,>=0.8.1 in /usr/local/lib/python3.7/dist-packages (from spacy<3.3.0,>=3.2.0->en-core-web-md==3.2.0) (0.9.0)\n",
            "Requirement already satisfied: typing-extensions<4.0.0.0,>=3.7.4 in /usr/local/lib/python3.7/dist-packages (from spacy<3.3.0,>=3.2.0->en-core-web-md==3.2.0) (3.10.0.2)\n",
            "Requirement already satisfied: zipp>=0.5 in /usr/local/lib/python3.7/dist-packages (from catalogue<2.1.0,>=2.0.6->spacy<3.3.0,>=3.2.0->en-core-web-md==3.2.0) (3.7.0)\n",
            "Requirement already satisfied: pyparsing!=3.0.5,>=2.0.2 in /usr/local/lib/python3.7/dist-packages (from packaging>=20.0->spacy<3.3.0,>=3.2.0->en-core-web-md==3.2.0) (3.0.7)\n",
            "Requirement already satisfied: smart-open<6.0.0,>=5.0.0 in /usr/local/lib/python3.7/dist-packages (from pathy>=0.3.5->spacy<3.3.0,>=3.2.0->en-core-web-md==3.2.0) (5.2.1)\n",
            "Requirement already satisfied: idna<3,>=2.5 in /usr/local/lib/python3.7/dist-packages (from requests<3.0.0,>=2.13.0->spacy<3.3.0,>=3.2.0->en-core-web-md==3.2.0) (2.10)\n",
            "Requirement already satisfied: certifi>=2017.4.17 in /usr/local/lib/python3.7/dist-packages (from requests<3.0.0,>=2.13.0->spacy<3.3.0,>=3.2.0->en-core-web-md==3.2.0) (2021.10.8)\n",
            "Requirement already satisfied: chardet<4,>=3.0.2 in /usr/local/lib/python3.7/dist-packages (from requests<3.0.0,>=2.13.0->spacy<3.3.0,>=3.2.0->en-core-web-md==3.2.0) (3.0.4)\n",
            "Requirement already satisfied: urllib3!=1.25.0,!=1.25.1,<1.26,>=1.21.1 in /usr/local/lib/python3.7/dist-packages (from requests<3.0.0,>=2.13.0->spacy<3.3.0,>=3.2.0->en-core-web-md==3.2.0) (1.24.3)\n",
            "Requirement already satisfied: click<9.0.0,>=7.1.1 in /usr/local/lib/python3.7/dist-packages (from typer<0.5.0,>=0.3.0->spacy<3.3.0,>=3.2.0->en-core-web-md==3.2.0) (7.1.2)\n",
            "Requirement already satisfied: MarkupSafe>=0.23 in /usr/local/lib/python3.7/dist-packages (from jinja2->spacy<3.3.0,>=3.2.0->en-core-web-md==3.2.0) (2.0.1)\n",
            "Installing collected packages: en-core-web-md\n",
            "Successfully installed en-core-web-md-3.2.0\n",
            "\u001b[38;5;2m✔ Download and installation successful\u001b[0m\n",
            "You can now load the package via spacy.load('en_core_web_md')\n"
          ]
        }
      ]
    },
    {
      "cell_type": "code",
      "source": [
        "#!python -m spacy download en_core_web_lg "
      ],
      "metadata": {
        "id": "tyGbt1JbjWvE"
      },
      "execution_count": 5,
      "outputs": []
    },
    {
      "cell_type": "code",
      "source": [
        "#!python -m spacy download en_core_web_trf "
      ],
      "metadata": {
        "id": "oPZX3KFQjWxj"
      },
      "execution_count": 6,
      "outputs": []
    },
    {
      "cell_type": "markdown",
      "metadata": {
        "id": "S1sk9cVCNF-n"
      },
      "source": [
        "##Import libraries"
      ]
    },
    {
      "cell_type": "code",
      "metadata": {
        "id": "ZEY6vjn6kNRy",
        "colab": {
          "base_uri": "https://localhost:8080/"
        },
        "outputId": "84a4b6f7-b83b-4d3e-ff4e-1d8f5fd8ac87"
      },
      "source": [
        "#import libraries\n",
        "import pandas as pd\n",
        "\n",
        "import spacy\n",
        "from spacy import displacy\n",
        "nlp = spacy.load('en_core_web_md')\n",
        "\n",
        "import nltk\n",
        "nltk.download('punkt')\n",
        "\n",
        "from collections import Counter\n",
        "\n",
        "from spacy.scorer import Scorer\n",
        "from spacy.tokens import Doc\n",
        "from spacy.training import Example\n",
        "\n",
        "import sys"
      ],
      "execution_count": 1,
      "outputs": [
        {
          "output_type": "stream",
          "name": "stdout",
          "text": [
            "[nltk_data] Downloading package punkt to /root/nltk_data...\n",
            "[nltk_data]   Unzipping tokenizers/punkt.zip.\n"
          ]
        }
      ]
    },
    {
      "cell_type": "markdown",
      "metadata": {
        "id": "_2a-s7wnN9ev"
      },
      "source": [
        "##Mount Google Drive"
      ]
    },
    {
      "cell_type": "code",
      "metadata": {
        "id": "dWzWu0XnSsF2",
        "colab": {
          "base_uri": "https://localhost:8080/"
        },
        "outputId": "2f255e29-f1e5-4378-e278-82da29577af4"
      },
      "source": [
        "#mount Google Drive\n",
        "from google.colab import drive\n",
        "drive.mount('/content/drive')"
      ],
      "execution_count": 2,
      "outputs": [
        {
          "output_type": "stream",
          "name": "stdout",
          "text": [
            "Mounted at /content/drive\n"
          ]
        }
      ]
    },
    {
      "cell_type": "markdown",
      "source": [
        "##1_Facebook"
      ],
      "metadata": {
        "id": "GhjvfGBEr-3f"
      }
    },
    {
      "cell_type": "markdown",
      "source": [
        "###Open and Load"
      ],
      "metadata": {
        "id": "TsMtKHxSkeUU"
      }
    },
    {
      "cell_type": "code",
      "source": [
        "#open the file\n",
        "faang_1 = \"/content/drive/MyDrive/Colab Notebooks/OKR_NEE_datasets/1_Facebook.txt\"\n",
        "file1 = open(faang_1, \"r\")\n",
        "#read the file\n",
        "Facebook = file1.read()\n",
        "Facebook"
      ],
      "metadata": {
        "id": "GhtqBrmQkhT8",
        "colab": {
          "base_uri": "https://localhost:8080/",
          "height": 0
        },
        "outputId": "75337bab-ee79-412c-c6a3-99c762aa8c41"
      },
      "execution_count": 3,
      "outputs": [
        {
          "output_type": "execute_result",
          "data": {
            "application/vnd.google.colaboratory.intrinsic+json": {
              "type": "string"
            },
            "text/plain": [
              "'Facebook is an American online social media and social networking service owned by Facebook, Inc. Founded in 2004 by Mark Zuckerberg with fellow Harvard College students and roommates Eduardo Saverin, Andrew McCollum, Dustin Moskovitz, and Chris Hughes, its name comes from the face book directories often given to American university students. Membership was initially limited to Harvard students, gradually expanding to other North American universities and, since 2006, anyone over 13 years old. As of 2020, Facebook claimed 2.8 billion monthly active users, and ranked seventh in global internet usage. It was the most downloaded mobile app of the 2010s. Facebook can be accessed from devices with Internet connectivity, such as personal computers, tablets and smartphones. After registering, users can create a profile revealing information about themselves. They can post text, photos and multimedia which are shared with any other users who have agreed to be their \"friend\" or, with different privacy settings, publicly. Users can also communicate directly with each other with Facebook Messenger, join common-interest groups, and receive notifications on the activities of their Facebook friends and pages they follow. The subject of numerous controversies, Facebook has often been criticized over issues such as user privacy (as with the Cambridge Analytica data scandal), political manipulation (as with the 2016 U.S. elections), mass surveillance, psychological effects such as addiction and low self-esteem, and content such as fake news, conspiracy theories, copyright infringement, and hate speech. Commentators have accused Facebook of willingly facilitating the spread of such content, as well as exaggerating its number of users to appeal to advertisers.'"
            ]
          },
          "metadata": {},
          "execution_count": 3
        }
      ]
    },
    {
      "cell_type": "code",
      "source": [
        "#load spacy\n",
        "NER_1 = spacy.load(\"en_core_web_md\")"
      ],
      "metadata": {
        "id": "WibKun7WQRmj"
      },
      "execution_count": 4,
      "outputs": []
    },
    {
      "cell_type": "markdown",
      "source": [
        "###spaCy and displaCy"
      ],
      "metadata": {
        "id": "rPMYzhGz9FCD"
      }
    },
    {
      "cell_type": "code",
      "source": [
        "#get the labels and entities\n",
        "Facebookdoc = NER_1(Facebook)\n",
        "\n",
        "Facebookentities = []\n",
        "Facebooklabels = []\n",
        "Facebookstartpos = []\n",
        "Facebookendpos = []\n",
        "\n",
        "for ent in Facebookdoc.ents:\n",
        "  Facebookentities.append(ent)\n",
        "  Facebooklabels.append(ent.label_)\n",
        "  Facebookstartpos.append(ent.start_char)\n",
        "  Facebookendpos.append(ent.end_char)\n",
        "    \n",
        "Facebookdf = pd.DataFrame({'Entities':Facebookentities,'Labels':Facebooklabels, 'Position_Start':Facebookstartpos, 'Position_End':Facebookendpos})\n",
        "\n",
        "Facebookdf\n",
        "\n",
        "Facebookdf.to_csv(r'/content/drive/MyDrive/Colab Notebooks/OKR_NEE_datasets/out.csv', index = False)"
      ],
      "metadata": {
        "id": "3YXiXpH0R8w7"
      },
      "execution_count": 5,
      "outputs": []
    },
    {
      "cell_type": "code",
      "source": [
        "#Count\n",
        "items_1 = [x.text for x in Facebookdoc.ents]\n",
        "y_1 = Counter(items_1).most_common(5) #top 5"
      ],
      "metadata": {
        "id": "VUqksRzcyAP7"
      },
      "execution_count": 6,
      "outputs": []
    },
    {
      "cell_type": "code",
      "source": [
        "y_1[0][0] #highest frequency"
      ],
      "metadata": {
        "colab": {
          "base_uri": "https://localhost:8080/",
          "height": 0
        },
        "id": "0t_LmQ5FzHGO",
        "outputId": "138e6228-670f-4dfc-cbc9-a57e4038d614"
      },
      "execution_count": 7,
      "outputs": [
        {
          "output_type": "execute_result",
          "data": {
            "application/vnd.google.colaboratory.intrinsic+json": {
              "type": "string"
            },
            "text/plain": [
              "'Facebook'"
            ]
          },
          "metadata": {},
          "execution_count": 7
        }
      ]
    },
    {
      "cell_type": "code",
      "source": [
        "#visualization\n",
        "doc_1 = NER_1(Facebook)\n",
        "displacy.render(doc_1, style=\"ent\", jupyter=True)"
      ],
      "metadata": {
        "id": "s-L0zZL5Ay3u",
        "colab": {
          "base_uri": "https://localhost:8080/",
          "height": 0
        },
        "outputId": "c28c704b-6399-4350-e7d9-9c1c9d4c329f"
      },
      "execution_count": 8,
      "outputs": [
        {
          "output_type": "display_data",
          "data": {
            "text/html": [
              "<span class=\"tex2jax_ignore\"><div class=\"entities\" style=\"line-height: 2.5; direction: ltr\">Facebook is an \n",
              "<mark class=\"entity\" style=\"background: #c887fb; padding: 0.45em 0.6em; margin: 0 0.25em; line-height: 1; border-radius: 0.35em;\">\n",
              "    American\n",
              "    <span style=\"font-size: 0.8em; font-weight: bold; line-height: 1; border-radius: 0.35em; vertical-align: middle; margin-left: 0.5rem\">NORP</span>\n",
              "</mark>\n",
              " online social media and social networking service owned by \n",
              "<mark class=\"entity\" style=\"background: #7aecec; padding: 0.45em 0.6em; margin: 0 0.25em; line-height: 1; border-radius: 0.35em;\">\n",
              "    Facebook,\n",
              "    <span style=\"font-size: 0.8em; font-weight: bold; line-height: 1; border-radius: 0.35em; vertical-align: middle; margin-left: 0.5rem\">ORG</span>\n",
              "</mark>\n",
              " Inc. Founded in \n",
              "<mark class=\"entity\" style=\"background: #bfe1d9; padding: 0.45em 0.6em; margin: 0 0.25em; line-height: 1; border-radius: 0.35em;\">\n",
              "    2004\n",
              "    <span style=\"font-size: 0.8em; font-weight: bold; line-height: 1; border-radius: 0.35em; vertical-align: middle; margin-left: 0.5rem\">DATE</span>\n",
              "</mark>\n",
              " by \n",
              "<mark class=\"entity\" style=\"background: #aa9cfc; padding: 0.45em 0.6em; margin: 0 0.25em; line-height: 1; border-radius: 0.35em;\">\n",
              "    Mark Zuckerberg\n",
              "    <span style=\"font-size: 0.8em; font-weight: bold; line-height: 1; border-radius: 0.35em; vertical-align: middle; margin-left: 0.5rem\">PERSON</span>\n",
              "</mark>\n",
              " with fellow \n",
              "<mark class=\"entity\" style=\"background: #7aecec; padding: 0.45em 0.6em; margin: 0 0.25em; line-height: 1; border-radius: 0.35em;\">\n",
              "    Harvard College\n",
              "    <span style=\"font-size: 0.8em; font-weight: bold; line-height: 1; border-radius: 0.35em; vertical-align: middle; margin-left: 0.5rem\">ORG</span>\n",
              "</mark>\n",
              " students and roommates \n",
              "<mark class=\"entity\" style=\"background: #aa9cfc; padding: 0.45em 0.6em; margin: 0 0.25em; line-height: 1; border-radius: 0.35em;\">\n",
              "    Eduardo Saverin\n",
              "    <span style=\"font-size: 0.8em; font-weight: bold; line-height: 1; border-radius: 0.35em; vertical-align: middle; margin-left: 0.5rem\">PERSON</span>\n",
              "</mark>\n",
              ", \n",
              "<mark class=\"entity\" style=\"background: #aa9cfc; padding: 0.45em 0.6em; margin: 0 0.25em; line-height: 1; border-radius: 0.35em;\">\n",
              "    Andrew McCollum\n",
              "    <span style=\"font-size: 0.8em; font-weight: bold; line-height: 1; border-radius: 0.35em; vertical-align: middle; margin-left: 0.5rem\">PERSON</span>\n",
              "</mark>\n",
              ", \n",
              "<mark class=\"entity\" style=\"background: #aa9cfc; padding: 0.45em 0.6em; margin: 0 0.25em; line-height: 1; border-radius: 0.35em;\">\n",
              "    Dustin Moskovitz\n",
              "    <span style=\"font-size: 0.8em; font-weight: bold; line-height: 1; border-radius: 0.35em; vertical-align: middle; margin-left: 0.5rem\">PERSON</span>\n",
              "</mark>\n",
              ", and \n",
              "<mark class=\"entity\" style=\"background: #aa9cfc; padding: 0.45em 0.6em; margin: 0 0.25em; line-height: 1; border-radius: 0.35em;\">\n",
              "    Chris Hughes\n",
              "    <span style=\"font-size: 0.8em; font-weight: bold; line-height: 1; border-radius: 0.35em; vertical-align: middle; margin-left: 0.5rem\">PERSON</span>\n",
              "</mark>\n",
              ", its name comes from the face book directories often given to \n",
              "<mark class=\"entity\" style=\"background: #c887fb; padding: 0.45em 0.6em; margin: 0 0.25em; line-height: 1; border-radius: 0.35em;\">\n",
              "    American\n",
              "    <span style=\"font-size: 0.8em; font-weight: bold; line-height: 1; border-radius: 0.35em; vertical-align: middle; margin-left: 0.5rem\">NORP</span>\n",
              "</mark>\n",
              " university students. Membership was initially limited to \n",
              "<mark class=\"entity\" style=\"background: #7aecec; padding: 0.45em 0.6em; margin: 0 0.25em; line-height: 1; border-radius: 0.35em;\">\n",
              "    Harvard\n",
              "    <span style=\"font-size: 0.8em; font-weight: bold; line-height: 1; border-radius: 0.35em; vertical-align: middle; margin-left: 0.5rem\">ORG</span>\n",
              "</mark>\n",
              " students, gradually expanding to other \n",
              "<mark class=\"entity\" style=\"background: #c887fb; padding: 0.45em 0.6em; margin: 0 0.25em; line-height: 1; border-radius: 0.35em;\">\n",
              "    North American\n",
              "    <span style=\"font-size: 0.8em; font-weight: bold; line-height: 1; border-radius: 0.35em; vertical-align: middle; margin-left: 0.5rem\">NORP</span>\n",
              "</mark>\n",
              " universities and, since \n",
              "<mark class=\"entity\" style=\"background: #bfe1d9; padding: 0.45em 0.6em; margin: 0 0.25em; line-height: 1; border-radius: 0.35em;\">\n",
              "    2006\n",
              "    <span style=\"font-size: 0.8em; font-weight: bold; line-height: 1; border-radius: 0.35em; vertical-align: middle; margin-left: 0.5rem\">DATE</span>\n",
              "</mark>\n",
              ", anyone over \n",
              "<mark class=\"entity\" style=\"background: #bfe1d9; padding: 0.45em 0.6em; margin: 0 0.25em; line-height: 1; border-radius: 0.35em;\">\n",
              "    13 years old\n",
              "    <span style=\"font-size: 0.8em; font-weight: bold; line-height: 1; border-radius: 0.35em; vertical-align: middle; margin-left: 0.5rem\">DATE</span>\n",
              "</mark>\n",
              ". As of \n",
              "<mark class=\"entity\" style=\"background: #bfe1d9; padding: 0.45em 0.6em; margin: 0 0.25em; line-height: 1; border-radius: 0.35em;\">\n",
              "    2020\n",
              "    <span style=\"font-size: 0.8em; font-weight: bold; line-height: 1; border-radius: 0.35em; vertical-align: middle; margin-left: 0.5rem\">DATE</span>\n",
              "</mark>\n",
              ", \n",
              "<mark class=\"entity\" style=\"background: #7aecec; padding: 0.45em 0.6em; margin: 0 0.25em; line-height: 1; border-radius: 0.35em;\">\n",
              "    Facebook\n",
              "    <span style=\"font-size: 0.8em; font-weight: bold; line-height: 1; border-radius: 0.35em; vertical-align: middle; margin-left: 0.5rem\">ORG</span>\n",
              "</mark>\n",
              " claimed \n",
              "<mark class=\"entity\" style=\"background: #e4e7d2; padding: 0.45em 0.6em; margin: 0 0.25em; line-height: 1; border-radius: 0.35em;\">\n",
              "    2.8 billion\n",
              "    <span style=\"font-size: 0.8em; font-weight: bold; line-height: 1; border-radius: 0.35em; vertical-align: middle; margin-left: 0.5rem\">CARDINAL</span>\n",
              "</mark>\n",
              " \n",
              "<mark class=\"entity\" style=\"background: #bfe1d9; padding: 0.45em 0.6em; margin: 0 0.25em; line-height: 1; border-radius: 0.35em;\">\n",
              "    monthly\n",
              "    <span style=\"font-size: 0.8em; font-weight: bold; line-height: 1; border-radius: 0.35em; vertical-align: middle; margin-left: 0.5rem\">DATE</span>\n",
              "</mark>\n",
              " active users, and ranked \n",
              "<mark class=\"entity\" style=\"background: #e4e7d2; padding: 0.45em 0.6em; margin: 0 0.25em; line-height: 1; border-radius: 0.35em;\">\n",
              "    seventh\n",
              "    <span style=\"font-size: 0.8em; font-weight: bold; line-height: 1; border-radius: 0.35em; vertical-align: middle; margin-left: 0.5rem\">ORDINAL</span>\n",
              "</mark>\n",
              " in global internet usage. It was the most downloaded mobile app of \n",
              "<mark class=\"entity\" style=\"background: #bfe1d9; padding: 0.45em 0.6em; margin: 0 0.25em; line-height: 1; border-radius: 0.35em;\">\n",
              "    the 2010s\n",
              "    <span style=\"font-size: 0.8em; font-weight: bold; line-height: 1; border-radius: 0.35em; vertical-align: middle; margin-left: 0.5rem\">DATE</span>\n",
              "</mark>\n",
              ". Facebook can be accessed from devices with Internet connectivity, such as personal computers, tablets and smartphones. After registering, users can create a profile revealing information about themselves. They can post text, photos and multimedia which are shared with any other users who have agreed to be their &quot;friend&quot; or, with different privacy settings, publicly. Users can also communicate directly with each other with \n",
              "<mark class=\"entity\" style=\"background: #aa9cfc; padding: 0.45em 0.6em; margin: 0 0.25em; line-height: 1; border-radius: 0.35em;\">\n",
              "    Facebook Messenger\n",
              "    <span style=\"font-size: 0.8em; font-weight: bold; line-height: 1; border-radius: 0.35em; vertical-align: middle; margin-left: 0.5rem\">PERSON</span>\n",
              "</mark>\n",
              ", join common-interest groups, and receive notifications on the activities of their \n",
              "<mark class=\"entity\" style=\"background: #7aecec; padding: 0.45em 0.6em; margin: 0 0.25em; line-height: 1; border-radius: 0.35em;\">\n",
              "    Facebook\n",
              "    <span style=\"font-size: 0.8em; font-weight: bold; line-height: 1; border-radius: 0.35em; vertical-align: middle; margin-left: 0.5rem\">ORG</span>\n",
              "</mark>\n",
              " friends and pages they follow. The subject of numerous controversies, \n",
              "<mark class=\"entity\" style=\"background: #7aecec; padding: 0.45em 0.6em; margin: 0 0.25em; line-height: 1; border-radius: 0.35em;\">\n",
              "    Facebook\n",
              "    <span style=\"font-size: 0.8em; font-weight: bold; line-height: 1; border-radius: 0.35em; vertical-align: middle; margin-left: 0.5rem\">ORG</span>\n",
              "</mark>\n",
              " has often been criticized over issues such as user privacy (as with the \n",
              "<mark class=\"entity\" style=\"background: #feca74; padding: 0.45em 0.6em; margin: 0 0.25em; line-height: 1; border-radius: 0.35em;\">\n",
              "    Cambridge Analytica\n",
              "    <span style=\"font-size: 0.8em; font-weight: bold; line-height: 1; border-radius: 0.35em; vertical-align: middle; margin-left: 0.5rem\">GPE</span>\n",
              "</mark>\n",
              " data scandal), political manipulation (as with the \n",
              "<mark class=\"entity\" style=\"background: #bfe1d9; padding: 0.45em 0.6em; margin: 0 0.25em; line-height: 1; border-radius: 0.35em;\">\n",
              "    2016\n",
              "    <span style=\"font-size: 0.8em; font-weight: bold; line-height: 1; border-radius: 0.35em; vertical-align: middle; margin-left: 0.5rem\">DATE</span>\n",
              "</mark>\n",
              " \n",
              "<mark class=\"entity\" style=\"background: #feca74; padding: 0.45em 0.6em; margin: 0 0.25em; line-height: 1; border-radius: 0.35em;\">\n",
              "    U.S.\n",
              "    <span style=\"font-size: 0.8em; font-weight: bold; line-height: 1; border-radius: 0.35em; vertical-align: middle; margin-left: 0.5rem\">GPE</span>\n",
              "</mark>\n",
              " elections), mass surveillance, psychological effects such as addiction and low self-esteem, and content such as fake news, conspiracy theories, copyright infringement, and hate speech. Commentators have accused Facebook of willingly facilitating the spread of such content, as well as exaggerating its number of users to appeal to advertisers.</div></span>"
            ],
            "text/plain": [
              "<IPython.core.display.HTML object>"
            ]
          },
          "metadata": {}
        }
      ]
    },
    {
      "cell_type": "markdown",
      "source": [
        "###Score"
      ],
      "metadata": {
        "id": "PZ2n8yBkuT3Q"
      }
    },
    {
      "cell_type": "code",
      "source": [
        "#equate\n",
        "nlp_1 = NER_1"
      ],
      "metadata": {
        "id": "FG5acwIBytJL"
      },
      "execution_count": 9,
      "outputs": []
    },
    {
      "cell_type": "code",
      "source": [
        "#working code\n",
        "\n",
        "Facebookexamples = []\n",
        "\n",
        "data_1 = [(Facebook, {\"entities\": [(0,8,'ORG'), (15,23,'NORP'), (83,97,'ORG'), (109,113,'DATE'), (117,132,'PERSON'),\n",
        "(145,160,'ORG'), (184,199,'PERSON'), (201,216,'PERSON'), (218,234,'PERSON'), (240,252,'PERSON'),\n",
        "(315,323,'NORP'), (381,388,'ORG'), (428,442,'NORP'), (467,471,'DATE'), (480,497,'DATE'),\n",
        "(505,509,'DATE'), (511,519,'ORG'), (528,539,'CARDINAL'), (540,547,'DATE'), (573,580,'ORDINAL'),\n",
        "(648,657,'DATE'), (659,667,'ORG'), (1085,1103,'PRODUCT'), (1187,1195,'ORG'), (1266,1274,'ORG'),\n",
        "(1347,1366,'ORG'), (1418,1422,'DATE'), (1423,1427,'GPE'), (1639,1647,'ORG')]})]\n",
        "\n",
        "for text_1, annots_1 in data_1:\n",
        "    doc_1 = nlp_1.make_doc(text_1)\n",
        "    Facebookexamples.append(Example.from_dict(doc_1, annots_1))\n",
        "\n",
        "#output to txt\n",
        "f = sys.stdout\n",
        "f = open('score_output.txt', 'a') #append to opened common file\n",
        " \n",
        "print(\"#Facebook score .\", file=f)\n",
        "print(nlp_1.evaluate(Facebookexamples), file=f) #Global and local entity metrics\n",
        "f.close() #close file     "
      ],
      "metadata": {
        "id": "8N0bvAZ0-rab"
      },
      "execution_count": 10,
      "outputs": []
    },
    {
      "cell_type": "code",
      "source": [
        "print(nlp_1.evaluate(Facebookexamples))"
      ],
      "metadata": {
        "colab": {
          "base_uri": "https://localhost:8080/"
        },
        "id": "ivF0pnJPRffH",
        "outputId": "09da7b11-510b-4710-df13-942c5ad66eac"
      },
      "execution_count": 11,
      "outputs": [
        {
          "output_type": "stream",
          "name": "stdout",
          "text": [
            "{'token_acc': 1.0, 'token_p': 1.0, 'token_r': 1.0, 'token_f': 1.0, 'tag_acc': None, 'sents_p': None, 'sents_r': None, 'sents_f': None, 'dep_uas': None, 'dep_las': None, 'dep_las_per_type': None, 'pos_acc': None, 'morph_acc': None, 'morph_micro_p': None, 'morph_micro_r': None, 'morph_micro_f': None, 'morph_per_feat': None, 'lemma_acc': None, 'ents_p': 0.8461538461538461, 'ents_r': 0.7586206896551724, 'ents_f': 0.8, 'ents_per_type': {'NORP': {'p': 1.0, 'r': 1.0, 'f': 1.0}, 'ORG': {'p': 0.8333333333333334, 'r': 0.5, 'f': 0.625}, 'DATE': {'p': 0.8571428571428571, 'r': 0.8571428571428571, 'f': 0.8571428571428571}, 'PERSON': {'p': 0.8333333333333334, 'r': 1.0, 'f': 0.9090909090909091}, 'CARDINAL': {'p': 1.0, 'r': 1.0, 'f': 1.0}, 'ORDINAL': {'p': 1.0, 'r': 1.0, 'f': 1.0}, 'GPE': {'p': 0.5, 'r': 1.0, 'f': 0.6666666666666666}, 'PRODUCT': {'p': 0.0, 'r': 0.0, 'f': 0.0}}, 'speed': 4915.409091806587}\n"
          ]
        }
      ]
    },
    {
      "cell_type": "markdown",
      "source": [
        "###Loop"
      ],
      "metadata": {
        "id": "IQBwNvTNj0qF"
      }
    },
    {
      "cell_type": "code",
      "source": [
        "#dataframing the entities and labels\n",
        "for ind in Facebookdf.index:\n",
        "  print(Facebookdf['Entities'][ind], Facebookdf['Labels'][ind])"
      ],
      "metadata": {
        "id": "ajX1OdyFj19L",
        "colab": {
          "base_uri": "https://localhost:8080/"
        },
        "outputId": "4e75c0ff-e24c-4a76-ff9d-d6b652ccb823"
      },
      "execution_count": 12,
      "outputs": [
        {
          "output_type": "stream",
          "name": "stdout",
          "text": [
            "American NORP\n",
            "Facebook, ORG\n",
            "2004 DATE\n",
            "Mark Zuckerberg PERSON\n",
            "Harvard College ORG\n",
            "Eduardo Saverin PERSON\n",
            "Andrew McCollum PERSON\n",
            "Dustin Moskovitz PERSON\n",
            "Chris Hughes PERSON\n",
            "American NORP\n",
            "Harvard ORG\n",
            "North American NORP\n",
            "2006 DATE\n",
            "13 years old DATE\n",
            "2020 DATE\n",
            "Facebook ORG\n",
            "2.8 billion CARDINAL\n",
            "monthly DATE\n",
            "seventh ORDINAL\n",
            "the 2010s DATE\n",
            "Facebook Messenger PERSON\n",
            "Facebook ORG\n",
            "Facebook ORG\n",
            "Cambridge Analytica GPE\n",
            "2016 DATE\n",
            "U.S. GPE\n"
          ]
        }
      ]
    },
    {
      "cell_type": "code",
      "source": [
        "#convert entities to list\n",
        "FacebooklistEntities = Facebookdf['Entities'].tolist()"
      ],
      "metadata": {
        "id": "oAxDsUaIlmUE"
      },
      "execution_count": 13,
      "outputs": []
    },
    {
      "cell_type": "code",
      "source": [
        "#entities sampling\n",
        "FacebooklistEntities[0]"
      ],
      "metadata": {
        "id": "OxDJM1ypnEyI",
        "colab": {
          "base_uri": "https://localhost:8080/"
        },
        "outputId": "b5dc606d-fb26-4040-c835-e3c6404779a2"
      },
      "execution_count": 14,
      "outputs": [
        {
          "output_type": "execute_result",
          "data": {
            "text/plain": [
              "American"
            ]
          },
          "metadata": {},
          "execution_count": 14
        }
      ]
    },
    {
      "cell_type": "code",
      "source": [
        "#convert labels to list\n",
        "FacebooklistLabels = Facebookdf['Labels'].tolist()"
      ],
      "metadata": {
        "id": "56V6khPinp8L"
      },
      "execution_count": 15,
      "outputs": []
    },
    {
      "cell_type": "code",
      "source": [
        "#label sampling\n",
        "FacebooklistLabels[0]"
      ],
      "metadata": {
        "id": "QmqURmDQnqGA",
        "colab": {
          "base_uri": "https://localhost:8080/",
          "height": 0
        },
        "outputId": "01fa8ec2-eac6-420d-a557-1d2d45158db2"
      },
      "execution_count": 16,
      "outputs": [
        {
          "output_type": "execute_result",
          "data": {
            "application/vnd.google.colaboratory.intrinsic+json": {
              "type": "string"
            },
            "text/plain": [
              "'NORP'"
            ]
          },
          "metadata": {},
          "execution_count": 16
        }
      ]
    },
    {
      "cell_type": "code",
      "source": [
        "#For Facebook\n",
        "\n",
        "#output to owl\n",
        "f = sys.stdout\n",
        "f = open('p107443_output.owl', 'a') #append to opened common file\n",
        "\n",
        "PropLabel_1 = y_1[0][0]\n",
        "\n",
        "#General Prefixes\n",
        "print(\"#Prefixes\", file=f)\n",
        "print(\"@prefix faang: <http://www.ftsm.ukm.my/faangOnt#> .\", file=f)\n",
        "print(\"@prefix rdf: <http://www.w3.org/1999/02/22-rdf-syntax-ns#> .\", file=f)\n",
        "print(\"@prefix rdfs: <http://www.w3.org/2000/01/rdf-schema#> .\", file=f)\n",
        "print(\"@prefix xsd: <http://www.w3.org/2001/XMLSchema#> .\", file=f)\n",
        "\n",
        "#General Class and SubClass\n",
        "print(\"\\n#Classes and SubClasses\", file=f)\n",
        "print(\"faang:BigTech rdf:type rdfs:Class .\", file=f) #Class\n",
        "print(\"faang:FAANG rdf:type rdfs:Class .\", file=f) #Class\n",
        "print(\"faang:FAANG rdfs:subClassOf faang:BigTech .\", file=f) #SubClass\n",
        "print(\"faang:{proplab_1} rdf:type rdfs:Class .\".format(proplab_1=PropLabel_1), file=f) #Class\n",
        "print(\"faang:{proplab_1} rdfs:subClassOf faang:FAANG .\".format(proplab_1=PropLabel_1), file=f) #Facebook SubClass\n",
        "\n",
        "#Facebook Individuals\n",
        "print(\"\\n#Facebook Individuals\", file=f)\n",
        "print(\"faang:{proplab_1}PERSON rdf:type faang:{proplab_1} .\".format(proplab_1=PropLabel_1), file=f) \n",
        "print(\"faang:{proplab_1}NORP rdf:type faang:{proplab_1} .\".format(proplab_1=PropLabel_1), file=f) \n",
        "print(\"faang:{proplab_1}FAC rdf:type faang:{proplab_1} .\".format(proplab_1=PropLabel_1), file=f) \n",
        "print(\"faang:{proplab_1}ORG rdf:type faang:{proplab_1} .\".format(proplab_1=PropLabel_1), file=f) \n",
        "print(\"faang:{proplab_1}GPE rdf:type faang:{proplab_1} .\".format(proplab_1=PropLabel_1), file=f) \n",
        "print(\"faang:{proplab_1}LOC rdf:type faang:{proplab_1} .\".format(proplab_1=PropLabel_1), file=f) \n",
        "print(\"faang:{proplab_1}PRODUCT rdf:type faang:{proplab_1} .\".format(proplab_1=PropLabel_1), file=f) \n",
        "print(\"faang:{proplab_1}EVENT rdf:type faang:{proplab_1} .\".format(proplab_1=PropLabel_1), file=f) \n",
        "print(\"faang:{proplab_1}WORK_OF_ART rdf:type faang:{proplab_1} .\".format(proplab_1=PropLabel_1), file=f) \n",
        "print(\"faang:{proplab_1}LAW rdf:type faang:{proplab_1} .\".format(proplab_1=PropLabel_1), file=f) \n",
        "print(\"faang:{proplab_1}LANGUAGE rdf:type faang:{proplab_1} .\".format(proplab_1=PropLabel_1), file=f) \n",
        "print(\"faang:{proplab_1}DATE rdf:type faang:{proplab_1} .\".format(proplab_1=PropLabel_1), file=f) \n",
        "print(\"faang:{proplab_1}TIME rdf:type faang:{proplab_1} .\".format(proplab_1=PropLabel_1), file=f) \n",
        "print(\"faang:{proplab_1}PERCENT rdf:type faang:{proplab_1} .\".format(proplab_1=PropLabel_1), file=f) \n",
        "print(\"faang:{proplab_1}MONEY rdf:type faang:{proplab_1} .\".format(proplab_1=PropLabel_1), file=f) \n",
        "print(\"faang:{proplab_1}QUANTITY rdf:type faang:{proplab_1} .\".format(proplab_1=PropLabel_1), file=f) \n",
        "print(\"faang:{proplab_1}ORDINAL rdf:type faang:{proplab_1} .\".format(proplab_1=PropLabel_1), file=f) \n",
        "print(\"faang:{proplab_1}CARDINAL rdf:type faang:{proplab_1} .\".format(proplab_1=PropLabel_1), file=f) \n",
        "\n",
        "#General spaCy labels to Data Properties\n",
        "print(\"\\n#spaCy labels\", file=f)\n",
        "PERSON = \"hasPersonName\" #1\n",
        "NORP = \"hasNationalityReligiousPolitical\" #2\n",
        "FAC = \"hasBuildingsAirportsHighwaysBridges\" #3\n",
        "ORG = \"hasCompaniesAgenciesInstitutions\" #4\n",
        "GPE = \"hasCountriesCitiesState\" #5\n",
        "LOC = \"hasLocation\" #6\n",
        "PRODUCT = \"hasProduct\" #7\n",
        "EVENT = \"hasEvent\" #8\n",
        "WORK_OF_ART = \"hasWorkOfArt\" #9\n",
        "LAW = \"hasLaw\" #10\n",
        "LANGUAGE = \"hasLanguage\" #11\n",
        "DATE = \"hasDate\" #12\n",
        "TIME = \"hasTime\" #13\n",
        "PERCENT = \"hasPercent\" #14\n",
        "MONEY = \"hasMoney\" #15\n",
        "QUANTITY = \"hasQuantity\" #16\n",
        "ORDINAL = \"hasOrdinal\" #17\n",
        "CARDINAL = \"hasCardinal\" #18\n",
        "\n",
        "#General Data Properties\n",
        "print(\"\\n#Data Properties\", file=f)\n",
        "print(\"faang:{} rdf:type rdf:Property .\" .format(PERSON), file=f) #1\n",
        "print(\"faang:{} rdfs:range xsd:string .\" .format(PERSON), file=f) #1a\n",
        "print(\"faang:{} rdf:type rdf:Property .\" .format(NORP), file=f) #2\n",
        "print(\"faang:{} rdfs:range xsd:string .\" .format(NORP), file=f) #2a\n",
        "print(\"faang:{} rdf:type rdf:Property .\" .format(FAC), file=f) #3\n",
        "print(\"faang:{} rdfs:range xsd:string .\" .format(FAC), file=f) #3a\n",
        "print(\"faang:{} rdf:type rdf:Property .\" .format(ORG), file=f) #4\n",
        "print(\"faang:{} rdfs:range xsd:string .\" .format(ORG), file=f) #4a\n",
        "print(\"faang:{} rdf:type rdf:Property .\" .format(GPE), file=f) #5\n",
        "print(\"faang:{} rdfs:range xsd:string .\" .format(GPE), file=f) #5a\n",
        "print(\"faang:{} rdf:type rdf:Property .\" .format(LOC), file=f) #6\n",
        "print(\"faang:{} rdfs:range xsd:string .\" .format(LOC), file=f) #6a\n",
        "print(\"faang:{} rdf:type rdf:Property .\" .format(PRODUCT), file=f) #7\n",
        "print(\"faang:{} rdfs:range xsd:string .\" .format(PRODUCT), file=f) #7a\n",
        "print(\"faang:{} rdf:type rdf:Property .\" .format(EVENT), file=f) #8\n",
        "print(\"faang:{} rdfs:range xsd:string .\" .format(EVENT), file=f) #8a\n",
        "print(\"faang:{} rdf:type rdf:Property .\" .format(WORK_OF_ART), file=f) #9\n",
        "print(\"faang:{} rdfs:range xsd:string .\" .format(WORK_OF_ART), file=f) #9a\n",
        "print(\"faang:{} rdf:type rdf:Property .\" .format(LAW), file=f) #10\n",
        "print(\"faang:{} rdfs:range xsd:string .\" .format(LAW), file=f) #10a\n",
        "print(\"faang:{} rdf:type rdf:Property .\" .format(LANGUAGE), file=f) #11\n",
        "print(\"faang:{} rdfs:range xsd:string .\" .format(LANGUAGE), file=f) #11a\n",
        "print(\"faang:{} rdf:type rdf:Property .\" .format(DATE), file=f) #12\n",
        "print(\"faang:{} rdfs:range xsd:string .\" .format(DATE), file=f) #12a\n",
        "print(\"faang:{} rdf:type rdf:Property .\" .format(TIME), file=f) #13\n",
        "print(\"faang:{} rdfs:range xsd:string .\" .format(TIME), file=f) #13a\n",
        "print(\"faang:{} rdf:type rdf:Property .\" .format(PERCENT), file=f) #14\n",
        "print(\"faang:{} rdfs:range xsd:string .\" .format(PERCENT), file=f) #14a\n",
        "print(\"faang:{} rdf:type rdf:Property .\" .format(MONEY), file=f) #15\n",
        "print(\"faang:{} rdfs:range xsd:string .\" .format(MONEY), file=f) #15a\n",
        "print(\"faang:{} rdf:type rdf:Property .\" .format(QUANTITY), file=f) #16\n",
        "print(\"faang:{} rdfs:range xsd:string .\" .format(QUANTITY), file=f) #16a\n",
        "print(\"faang:{} rdf:type rdf:Property .\" .format(ORDINAL), file=f) #17\n",
        "print(\"faang:{} rdfs:range xsd:string .\" .format(ORDINAL), file=f) #17a\n",
        "print(\"faang:{} rdf:type rdf:Property .\" .format(CARDINAL), file=f) #18\n",
        "print(\"faang:{} rdfs:range xsd:string .\" .format(CARDINAL), file=f) #18a\n",
        "\n",
        "#Specific Facebook Triples\n",
        "print(\"\\n#Facebook Triples\", file=f)\n",
        "for i in range(len(FacebooklistEntities)):\n",
        "  if FacebooklistLabels[i]=='PERSON':\n",
        "    print('faang:{proplab_1}PERSON faang:{lab} \"{ent}\"^^xsd:string .' .format(proplab_1=PropLabel_1, lab='hasPersonName', ent=FacebooklistEntities[i]), file=f)\n",
        "  elif FacebooklistLabels[i]=='NORP':\n",
        "    print('faang:{proplab_1}NORP faang:{lab} \"{ent}\"^^xsd:string .' .format(proplab_1=PropLabel_1, lab='hasNationalityReligiousPolitical', ent=FacebooklistEntities[i]), file=f)\n",
        "  elif FacebooklistLabels[i]=='FAC':\n",
        "    print('faang:{proplab_1}FAC faang:{lab} \"{ent}\"^^xsd:string .' .format(proplab_1=PropLabel_1, lab='hasBuildingsAirportsHighwaysBridges', ent=FacebooklistEntities[i]), file=f)\n",
        "  elif FacebooklistLabels[i]=='ORG':\n",
        "    print('faang:{proplab_1}ORG faang:{lab} \"{ent}\"^^xsd:string .' .format(proplab_1=PropLabel_1, lab='hasCompaniesAgenciesInstitutions', ent=FacebooklistEntities[i]), file=f)\n",
        "  elif FacebooklistLabels[i]=='GPE':\n",
        "    print('faang:{proplab_1}GPE faang:{lab} \"{ent}\"^^xsd:string .' .format(proplab_1=PropLabel_1, lab='hasCountriesCitiesState', ent=FacebooklistEntities[i]), file=f)\n",
        "  elif FacebooklistLabels[i]=='LOC':\n",
        "    print('faang:{proplab_1}LOC faang:{lab} \"{ent}\"^^xsd:string .' .format(proplab_1=PropLabel_1, lab='hasLocation', ent=FacebooklistEntities[i]), file=f)\n",
        "  elif FacebooklistLabels[i]=='PRODUCT':\n",
        "    print('faang:{proplab_1}PRODUCT faang:{lab} \"{ent}\"^^xsd:string .' .format(proplab_1=PropLabel_1, lab='hasProduct', ent=FacebooklistEntities[i]), file=f)\n",
        "  elif FacebooklistLabels[i]=='EVENT':\n",
        "    print('faang:{proplab_1}EVENT faang:{lab} \"{ent}\"^^xsd:string .' .format(proplab_1=PropLabel_1, lab='hasEvent', ent=FacebooklistEntities[i]), file=f)\n",
        "  elif FacebooklistLabels[i]=='WORK_OF_ART':\n",
        "    print('faang:{proplab_1}WORK_OF_ART faang:{lab} \"{ent}\"^^xsd:string .' .format(proplab_1=PropLabel_1, lab='hasWorkOfArt', ent=FacebooklistEntities[i]), file=f)\n",
        "  elif FacebooklistLabels[i]=='LAW':\n",
        "    print('faang:{proplab_1}LAW faang:{lab} \"{ent}\"^^xsd:string .' .format(proplab_1=PropLabel_1, lab='hasLaw', ent=FacebooklistEntities[i]), file=f)\n",
        "  elif FacebooklistLabels[i]=='LANGUAGE':\n",
        "    print('faang:{proplab_1}LANGUAGE faang:{lab} \"{ent}\"^^xsd:string .' .format(proplab_1=PropLabel_1, lab='hasLanguage', ent=FacebooklistEntities[i]), file=f)\n",
        "  elif FacebooklistLabels[i]=='DATE':\n",
        "    print('faang:{proplab_1}DATE faang:{lab} \"{ent}\"^^xsd:string .' .format(proplab_1=PropLabel_1, lab='hasDate', ent=FacebooklistEntities[i]), file=f)\n",
        "  elif FacebooklistLabels[i]=='TIME':\n",
        "    print('faang:{proplab_1}TIME faang:{lab} \"{ent}\"^^xsd:string .' .format(proplab_1=PropLabel_1, lab='hasTime', ent=FacebooklistEntities[i]), file=f)\n",
        "  elif FacebooklistLabels[i]=='PERCENT':\n",
        "    print('faang:{proplab_1}PERCENT faang:{lab} \"{ent}\"^^xsd:string .' .format(proplab_1=PropLabel_1, lab='hasPercent', ent=FacebooklistEntities[i]), file=f)\n",
        "  elif FacebooklistLabels[i]=='MONEY':\n",
        "    print('faang:{proplab_1}MONEY faang:{lab} \"{ent}\"^^xsd:string .' .format(proplab_1=PropLabel_1, lab='hasMoney', ent=FacebooklistEntities[i]), file=f)\n",
        "  elif FacebooklistLabels[i]=='QUANTITY':\n",
        "    print('faang:{proplab_1}QUANTITY faang:{lab} \"{ent}\"^^xsd:string .' .format(proplab_1=PropLabel_1, lab='hasQuantity', ent=FacebooklistEntities[i]), file=f)\n",
        "  elif FacebooklistLabels[i]=='ORDINAL':\n",
        "    print('faang:{proplab_1}ORDINAL faang:{lab} \"{ent}\"^^xsd:string .' .format(proplab_1=PropLabel_1, lab='hasOrdinal', ent=FacebooklistEntities[i]), file=f)\n",
        "  elif FacebooklistLabels[i]=='CARDINAL':\n",
        "    print('faang:{proplab_1}CARDINAL faang:{lab} \"{ent}\"^^xsd:string .' .format(proplab_1=PropLabel_1, lab='hasCardinal', ent=FacebooklistEntities[i]), file=f)\n",
        "f.close() #close file"
      ],
      "metadata": {
        "id": "eeS74xJon6Dq"
      },
      "execution_count": 17,
      "outputs": []
    },
    {
      "cell_type": "markdown",
      "source": [
        "##2_Amazon"
      ],
      "metadata": {
        "id": "Cer5KzlmsMkW"
      }
    },
    {
      "cell_type": "markdown",
      "source": [
        "###Open and Load"
      ],
      "metadata": {
        "id": "3M6rshsmseeV"
      }
    },
    {
      "cell_type": "code",
      "source": [
        "#open the file\n",
        "faang_2 = \"/content/drive/MyDrive/Colab Notebooks/OKR_NEE_datasets/2_Amazon.txt\"\n",
        "file2 = open(faang_2, \"r\")\n",
        "#read the file\n",
        "Amazon = file2.read()\n",
        "Amazon"
      ],
      "metadata": {
        "colab": {
          "base_uri": "https://localhost:8080/",
          "height": 0
        },
        "outputId": "dfa6d339-ab8a-4d4f-9d9d-b0dfa6aa3aef",
        "id": "8rmqbdicseeV"
      },
      "execution_count": 18,
      "outputs": [
        {
          "output_type": "execute_result",
          "data": {
            "application/vnd.google.colaboratory.intrinsic+json": {
              "type": "string"
            },
            "text/plain": [
              "'Amazon.com, Inc. (/ˈæməzɒn/ AM-ə-zon) is an American multinational technology company which focuses on e-commerce, cloud computing, digital streaming, and artificial intelligence. It is one of the Big Five companies in the U.S. information technology industry, along with Google, Apple, Microsoft, and Facebook. The company has been referred to as \"one of the most influential economic and cultural forces in the world\", as well as the world\\'s most valuable brand. Jeff Bezos founded Amazon from his garage in Bellevue, Washington, on July 5, 1994. It started as an online marketplace for books but expanded to sell electronics, software, video games, apparel, furniture, food, toys, and jewelry. In 2015, Amazon surpassed Walmart as the most valuable retailer in the United States by market capitalization. In 2017, Amazon acquired Whole Foods Market for US$13.4 billion, which substantially increased its footprint as a physical retailer. In 2018, its two-day delivery service, Amazon Prime, surpassed 100 million subscribers worldwide. Amazon is known for its disruption of well-established industries through technological innovation and mass scale. It is the world\\'s largest online marketplace, AI assistant provider, live-streaming platform and cloud computing platform as measured by revenue and market capitalization. Amazon is the largest Internet company by revenue in the world. It is the second largest private employer in the United States and one of the world\\'s most valuable companies. As of 2020, Amazon has the highest global brand valuation. Amazon distributes a variety of downloadable and streaming content through its Amazon Prime Video, Amazon Music, Twitch, and Audible subsidiaries. Amazon also has a publishing arm, Amazon Publishing, film and television studio Amazon Studios, and a cloud computing subsidiary, Amazon Web Services. It produces consumer electronics including Kindle e-readers, Fire tablets, Fire TV, and Echo devices. Its acquisitions over the years include Ring, Twitch, Whole Foods Market, and IMDb. Amazon is currently in the process of purchasing film and television studio, Metro-Goldwyn-Mayer. Amazon has been criticized for practices including technological surveillance overreach, a hyper-competitive and demanding work culture, tax avoidance, and anti-competitive behavior.'"
            ]
          },
          "metadata": {},
          "execution_count": 18
        }
      ]
    },
    {
      "cell_type": "code",
      "source": [
        "#load spacy\n",
        "NER_2 = spacy.load(\"en_core_web_md\")"
      ],
      "metadata": {
        "id": "U_iBQbfAseeW"
      },
      "execution_count": 19,
      "outputs": []
    },
    {
      "cell_type": "markdown",
      "source": [
        "###spaCy and displaCy"
      ],
      "metadata": {
        "id": "1fNfl2BBseeW"
      }
    },
    {
      "cell_type": "code",
      "source": [
        "#get the labels and entities\n",
        "Amazondoc = NER_2(Amazon)\n",
        "\n",
        "Amazonentities = []\n",
        "Amazonlabels = []\n",
        "Amazonstartpos = []\n",
        "Amazonendpos = []\n",
        "\n",
        "for ent in Amazondoc.ents:\n",
        "  Amazonentities.append(ent)\n",
        "  Amazonlabels.append(ent.label_)\n",
        "  Amazonstartpos.append(ent.start_char)\n",
        "  Amazonendpos.append(ent.end_char)\n",
        "    \n",
        "Amazondf = pd.DataFrame({'AmazonEntities':Amazonentities,'AmazonLabels':Amazonlabels, 'Position_Start':Amazonstartpos, 'Position_End':Amazonendpos})\n",
        "\n",
        "Amazondf\n",
        "\n",
        "Amazondf.to_csv(r'/content/drive/MyDrive/Colab Notebooks/OKR_NEE_datasets/out.csv', index = False)"
      ],
      "metadata": {
        "id": "uE2P97shseeW"
      },
      "execution_count": 20,
      "outputs": []
    },
    {
      "cell_type": "code",
      "source": [
        "#Count\n",
        "items_2 = [x.text for x in Amazondoc.ents]\n",
        "y_2 = Counter(items_2).most_common(5) #top 5"
      ],
      "metadata": {
        "id": "opwQzOXEMM5M"
      },
      "execution_count": 21,
      "outputs": []
    },
    {
      "cell_type": "code",
      "source": [
        "y_2[0][0] #highest frequency"
      ],
      "metadata": {
        "colab": {
          "base_uri": "https://localhost:8080/",
          "height": 0
        },
        "id": "Qde5x8_tMM9-",
        "outputId": "93b9eaef-f3b9-4554-e712-97bb43435292"
      },
      "execution_count": 22,
      "outputs": [
        {
          "output_type": "execute_result",
          "data": {
            "application/vnd.google.colaboratory.intrinsic+json": {
              "type": "string"
            },
            "text/plain": [
              "'Amazon'"
            ]
          },
          "metadata": {},
          "execution_count": 22
        }
      ]
    },
    {
      "cell_type": "code",
      "source": [
        "#visualization\n",
        "doc_2 = NER_2(Amazon)\n",
        "spacy.displacy.render(doc_2, style=\"ent\", jupyter=True)"
      ],
      "metadata": {
        "colab": {
          "base_uri": "https://localhost:8080/",
          "height": 0
        },
        "id": "-AXYdRpHCLD1",
        "outputId": "e3caa55b-ed22-43ba-8500-62ceb4d1663c"
      },
      "execution_count": 23,
      "outputs": [
        {
          "output_type": "display_data",
          "data": {
            "text/html": [
              "<span class=\"tex2jax_ignore\"><div class=\"entities\" style=\"line-height: 2.5; direction: ltr\">\n",
              "<mark class=\"entity\" style=\"background: #7aecec; padding: 0.45em 0.6em; margin: 0 0.25em; line-height: 1; border-radius: 0.35em;\">\n",
              "    Amazon.com, Inc.\n",
              "    <span style=\"font-size: 0.8em; font-weight: bold; line-height: 1; border-radius: 0.35em; vertical-align: middle; margin-left: 0.5rem\">ORG</span>\n",
              "</mark>\n",
              " (/ˈæməzɒn/ AM-ə-zon) is an \n",
              "<mark class=\"entity\" style=\"background: #c887fb; padding: 0.45em 0.6em; margin: 0 0.25em; line-height: 1; border-radius: 0.35em;\">\n",
              "    American\n",
              "    <span style=\"font-size: 0.8em; font-weight: bold; line-height: 1; border-radius: 0.35em; vertical-align: middle; margin-left: 0.5rem\">NORP</span>\n",
              "</mark>\n",
              " multinational technology company which focuses on e-commerce, cloud computing, digital streaming, and artificial intelligence. It is one of the Big \n",
              "<mark class=\"entity\" style=\"background: #e4e7d2; padding: 0.45em 0.6em; margin: 0 0.25em; line-height: 1; border-radius: 0.35em;\">\n",
              "    Five\n",
              "    <span style=\"font-size: 0.8em; font-weight: bold; line-height: 1; border-radius: 0.35em; vertical-align: middle; margin-left: 0.5rem\">CARDINAL</span>\n",
              "</mark>\n",
              " companies in the \n",
              "<mark class=\"entity\" style=\"background: #feca74; padding: 0.45em 0.6em; margin: 0 0.25em; line-height: 1; border-radius: 0.35em;\">\n",
              "    U.S.\n",
              "    <span style=\"font-size: 0.8em; font-weight: bold; line-height: 1; border-radius: 0.35em; vertical-align: middle; margin-left: 0.5rem\">GPE</span>\n",
              "</mark>\n",
              " information technology industry, along with \n",
              "<mark class=\"entity\" style=\"background: #7aecec; padding: 0.45em 0.6em; margin: 0 0.25em; line-height: 1; border-radius: 0.35em;\">\n",
              "    Google\n",
              "    <span style=\"font-size: 0.8em; font-weight: bold; line-height: 1; border-radius: 0.35em; vertical-align: middle; margin-left: 0.5rem\">ORG</span>\n",
              "</mark>\n",
              ", \n",
              "<mark class=\"entity\" style=\"background: #7aecec; padding: 0.45em 0.6em; margin: 0 0.25em; line-height: 1; border-radius: 0.35em;\">\n",
              "    Apple\n",
              "    <span style=\"font-size: 0.8em; font-weight: bold; line-height: 1; border-radius: 0.35em; vertical-align: middle; margin-left: 0.5rem\">ORG</span>\n",
              "</mark>\n",
              ", \n",
              "<mark class=\"entity\" style=\"background: #7aecec; padding: 0.45em 0.6em; margin: 0 0.25em; line-height: 1; border-radius: 0.35em;\">\n",
              "    Microsoft\n",
              "    <span style=\"font-size: 0.8em; font-weight: bold; line-height: 1; border-radius: 0.35em; vertical-align: middle; margin-left: 0.5rem\">ORG</span>\n",
              "</mark>\n",
              ", and \n",
              "<mark class=\"entity\" style=\"background: #7aecec; padding: 0.45em 0.6em; margin: 0 0.25em; line-height: 1; border-radius: 0.35em;\">\n",
              "    Facebook\n",
              "    <span style=\"font-size: 0.8em; font-weight: bold; line-height: 1; border-radius: 0.35em; vertical-align: middle; margin-left: 0.5rem\">ORG</span>\n",
              "</mark>\n",
              ". The company has been referred to as &quot;one of the most influential economic and cultural forces in the world&quot;, as well as the world's most valuable brand. \n",
              "<mark class=\"entity\" style=\"background: #aa9cfc; padding: 0.45em 0.6em; margin: 0 0.25em; line-height: 1; border-radius: 0.35em;\">\n",
              "    Jeff Bezos\n",
              "    <span style=\"font-size: 0.8em; font-weight: bold; line-height: 1; border-radius: 0.35em; vertical-align: middle; margin-left: 0.5rem\">PERSON</span>\n",
              "</mark>\n",
              " founded \n",
              "<mark class=\"entity\" style=\"background: #7aecec; padding: 0.45em 0.6em; margin: 0 0.25em; line-height: 1; border-radius: 0.35em;\">\n",
              "    Amazon\n",
              "    <span style=\"font-size: 0.8em; font-weight: bold; line-height: 1; border-radius: 0.35em; vertical-align: middle; margin-left: 0.5rem\">ORG</span>\n",
              "</mark>\n",
              " from his garage in \n",
              "<mark class=\"entity\" style=\"background: #feca74; padding: 0.45em 0.6em; margin: 0 0.25em; line-height: 1; border-radius: 0.35em;\">\n",
              "    Bellevue\n",
              "    <span style=\"font-size: 0.8em; font-weight: bold; line-height: 1; border-radius: 0.35em; vertical-align: middle; margin-left: 0.5rem\">GPE</span>\n",
              "</mark>\n",
              ", \n",
              "<mark class=\"entity\" style=\"background: #feca74; padding: 0.45em 0.6em; margin: 0 0.25em; line-height: 1; border-radius: 0.35em;\">\n",
              "    Washington\n",
              "    <span style=\"font-size: 0.8em; font-weight: bold; line-height: 1; border-radius: 0.35em; vertical-align: middle; margin-left: 0.5rem\">GPE</span>\n",
              "</mark>\n",
              ", on \n",
              "<mark class=\"entity\" style=\"background: #bfe1d9; padding: 0.45em 0.6em; margin: 0 0.25em; line-height: 1; border-radius: 0.35em;\">\n",
              "    July 5, 1994\n",
              "    <span style=\"font-size: 0.8em; font-weight: bold; line-height: 1; border-radius: 0.35em; vertical-align: middle; margin-left: 0.5rem\">DATE</span>\n",
              "</mark>\n",
              ". It started as an online marketplace for books but expanded to sell electronics, software, video games, apparel, furniture, food, toys, and jewelry. In \n",
              "<mark class=\"entity\" style=\"background: #bfe1d9; padding: 0.45em 0.6em; margin: 0 0.25em; line-height: 1; border-radius: 0.35em;\">\n",
              "    2015\n",
              "    <span style=\"font-size: 0.8em; font-weight: bold; line-height: 1; border-radius: 0.35em; vertical-align: middle; margin-left: 0.5rem\">DATE</span>\n",
              "</mark>\n",
              ", \n",
              "<mark class=\"entity\" style=\"background: #7aecec; padding: 0.45em 0.6em; margin: 0 0.25em; line-height: 1; border-radius: 0.35em;\">\n",
              "    Amazon\n",
              "    <span style=\"font-size: 0.8em; font-weight: bold; line-height: 1; border-radius: 0.35em; vertical-align: middle; margin-left: 0.5rem\">ORG</span>\n",
              "</mark>\n",
              " surpassed \n",
              "<mark class=\"entity\" style=\"background: #7aecec; padding: 0.45em 0.6em; margin: 0 0.25em; line-height: 1; border-radius: 0.35em;\">\n",
              "    Walmart\n",
              "    <span style=\"font-size: 0.8em; font-weight: bold; line-height: 1; border-radius: 0.35em; vertical-align: middle; margin-left: 0.5rem\">ORG</span>\n",
              "</mark>\n",
              " as the most valuable retailer in \n",
              "<mark class=\"entity\" style=\"background: #feca74; padding: 0.45em 0.6em; margin: 0 0.25em; line-height: 1; border-radius: 0.35em;\">\n",
              "    the United States\n",
              "    <span style=\"font-size: 0.8em; font-weight: bold; line-height: 1; border-radius: 0.35em; vertical-align: middle; margin-left: 0.5rem\">GPE</span>\n",
              "</mark>\n",
              " by market capitalization. In \n",
              "<mark class=\"entity\" style=\"background: #bfe1d9; padding: 0.45em 0.6em; margin: 0 0.25em; line-height: 1; border-radius: 0.35em;\">\n",
              "    2017\n",
              "    <span style=\"font-size: 0.8em; font-weight: bold; line-height: 1; border-radius: 0.35em; vertical-align: middle; margin-left: 0.5rem\">DATE</span>\n",
              "</mark>\n",
              ", \n",
              "<mark class=\"entity\" style=\"background: #7aecec; padding: 0.45em 0.6em; margin: 0 0.25em; line-height: 1; border-radius: 0.35em;\">\n",
              "    Amazon\n",
              "    <span style=\"font-size: 0.8em; font-weight: bold; line-height: 1; border-radius: 0.35em; vertical-align: middle; margin-left: 0.5rem\">ORG</span>\n",
              "</mark>\n",
              " acquired \n",
              "<mark class=\"entity\" style=\"background: #7aecec; padding: 0.45em 0.6em; margin: 0 0.25em; line-height: 1; border-radius: 0.35em;\">\n",
              "    Whole Foods Market\n",
              "    <span style=\"font-size: 0.8em; font-weight: bold; line-height: 1; border-radius: 0.35em; vertical-align: middle; margin-left: 0.5rem\">ORG</span>\n",
              "</mark>\n",
              " for \n",
              "<mark class=\"entity\" style=\"background: #e4e7d2; padding: 0.45em 0.6em; margin: 0 0.25em; line-height: 1; border-radius: 0.35em;\">\n",
              "    US$13.4 billion\n",
              "    <span style=\"font-size: 0.8em; font-weight: bold; line-height: 1; border-radius: 0.35em; vertical-align: middle; margin-left: 0.5rem\">MONEY</span>\n",
              "</mark>\n",
              ", which substantially increased its footprint as a physical retailer. In \n",
              "<mark class=\"entity\" style=\"background: #bfe1d9; padding: 0.45em 0.6em; margin: 0 0.25em; line-height: 1; border-radius: 0.35em;\">\n",
              "    2018\n",
              "    <span style=\"font-size: 0.8em; font-weight: bold; line-height: 1; border-radius: 0.35em; vertical-align: middle; margin-left: 0.5rem\">DATE</span>\n",
              "</mark>\n",
              ", its \n",
              "<mark class=\"entity\" style=\"background: #bfe1d9; padding: 0.45em 0.6em; margin: 0 0.25em; line-height: 1; border-radius: 0.35em;\">\n",
              "    two-day\n",
              "    <span style=\"font-size: 0.8em; font-weight: bold; line-height: 1; border-radius: 0.35em; vertical-align: middle; margin-left: 0.5rem\">DATE</span>\n",
              "</mark>\n",
              " delivery service, \n",
              "<mark class=\"entity\" style=\"background: #7aecec; padding: 0.45em 0.6em; margin: 0 0.25em; line-height: 1; border-radius: 0.35em;\">\n",
              "    Amazon Prime\n",
              "    <span style=\"font-size: 0.8em; font-weight: bold; line-height: 1; border-radius: 0.35em; vertical-align: middle; margin-left: 0.5rem\">ORG</span>\n",
              "</mark>\n",
              ", surpassed \n",
              "<mark class=\"entity\" style=\"background: #e4e7d2; padding: 0.45em 0.6em; margin: 0 0.25em; line-height: 1; border-radius: 0.35em;\">\n",
              "    100 million\n",
              "    <span style=\"font-size: 0.8em; font-weight: bold; line-height: 1; border-radius: 0.35em; vertical-align: middle; margin-left: 0.5rem\">CARDINAL</span>\n",
              "</mark>\n",
              " subscribers worldwide. \n",
              "<mark class=\"entity\" style=\"background: #7aecec; padding: 0.45em 0.6em; margin: 0 0.25em; line-height: 1; border-radius: 0.35em;\">\n",
              "    Amazon\n",
              "    <span style=\"font-size: 0.8em; font-weight: bold; line-height: 1; border-radius: 0.35em; vertical-align: middle; margin-left: 0.5rem\">ORG</span>\n",
              "</mark>\n",
              " is known for its disruption of well-established industries through technological innovation and mass scale. It is the world's largest online marketplace, \n",
              "<mark class=\"entity\" style=\"background: #7aecec; padding: 0.45em 0.6em; margin: 0 0.25em; line-height: 1; border-radius: 0.35em;\">\n",
              "    AI\n",
              "    <span style=\"font-size: 0.8em; font-weight: bold; line-height: 1; border-radius: 0.35em; vertical-align: middle; margin-left: 0.5rem\">ORG</span>\n",
              "</mark>\n",
              " assistant provider, live-streaming platform and cloud computing platform as measured by revenue and market capitalization. \n",
              "<mark class=\"entity\" style=\"background: #7aecec; padding: 0.45em 0.6em; margin: 0 0.25em; line-height: 1; border-radius: 0.35em;\">\n",
              "    Amazon\n",
              "    <span style=\"font-size: 0.8em; font-weight: bold; line-height: 1; border-radius: 0.35em; vertical-align: middle; margin-left: 0.5rem\">ORG</span>\n",
              "</mark>\n",
              " is the largest Internet company by revenue in the world. It is the \n",
              "<mark class=\"entity\" style=\"background: #e4e7d2; padding: 0.45em 0.6em; margin: 0 0.25em; line-height: 1; border-radius: 0.35em;\">\n",
              "    second\n",
              "    <span style=\"font-size: 0.8em; font-weight: bold; line-height: 1; border-radius: 0.35em; vertical-align: middle; margin-left: 0.5rem\">ORDINAL</span>\n",
              "</mark>\n",
              " largest private employer in \n",
              "<mark class=\"entity\" style=\"background: #feca74; padding: 0.45em 0.6em; margin: 0 0.25em; line-height: 1; border-radius: 0.35em;\">\n",
              "    the United States\n",
              "    <span style=\"font-size: 0.8em; font-weight: bold; line-height: 1; border-radius: 0.35em; vertical-align: middle; margin-left: 0.5rem\">GPE</span>\n",
              "</mark>\n",
              " and \n",
              "<mark class=\"entity\" style=\"background: #e4e7d2; padding: 0.45em 0.6em; margin: 0 0.25em; line-height: 1; border-radius: 0.35em;\">\n",
              "    one\n",
              "    <span style=\"font-size: 0.8em; font-weight: bold; line-height: 1; border-radius: 0.35em; vertical-align: middle; margin-left: 0.5rem\">CARDINAL</span>\n",
              "</mark>\n",
              " of the world's most valuable companies. As of \n",
              "<mark class=\"entity\" style=\"background: #bfe1d9; padding: 0.45em 0.6em; margin: 0 0.25em; line-height: 1; border-radius: 0.35em;\">\n",
              "    2020\n",
              "    <span style=\"font-size: 0.8em; font-weight: bold; line-height: 1; border-radius: 0.35em; vertical-align: middle; margin-left: 0.5rem\">DATE</span>\n",
              "</mark>\n",
              ", \n",
              "<mark class=\"entity\" style=\"background: #7aecec; padding: 0.45em 0.6em; margin: 0 0.25em; line-height: 1; border-radius: 0.35em;\">\n",
              "    Amazon\n",
              "    <span style=\"font-size: 0.8em; font-weight: bold; line-height: 1; border-radius: 0.35em; vertical-align: middle; margin-left: 0.5rem\">ORG</span>\n",
              "</mark>\n",
              " has the highest global brand valuation. \n",
              "<mark class=\"entity\" style=\"background: #7aecec; padding: 0.45em 0.6em; margin: 0 0.25em; line-height: 1; border-radius: 0.35em;\">\n",
              "    Amazon\n",
              "    <span style=\"font-size: 0.8em; font-weight: bold; line-height: 1; border-radius: 0.35em; vertical-align: middle; margin-left: 0.5rem\">ORG</span>\n",
              "</mark>\n",
              " distributes a variety of downloadable and streaming content through its \n",
              "<mark class=\"entity\" style=\"background: #7aecec; padding: 0.45em 0.6em; margin: 0 0.25em; line-height: 1; border-radius: 0.35em;\">\n",
              "    Amazon Prime Video\n",
              "    <span style=\"font-size: 0.8em; font-weight: bold; line-height: 1; border-radius: 0.35em; vertical-align: middle; margin-left: 0.5rem\">ORG</span>\n",
              "</mark>\n",
              ", \n",
              "<mark class=\"entity\" style=\"background: #7aecec; padding: 0.45em 0.6em; margin: 0 0.25em; line-height: 1; border-radius: 0.35em;\">\n",
              "    Amazon Music\n",
              "    <span style=\"font-size: 0.8em; font-weight: bold; line-height: 1; border-radius: 0.35em; vertical-align: middle; margin-left: 0.5rem\">ORG</span>\n",
              "</mark>\n",
              ", \n",
              "<mark class=\"entity\" style=\"background: #aa9cfc; padding: 0.45em 0.6em; margin: 0 0.25em; line-height: 1; border-radius: 0.35em;\">\n",
              "    Twitch\n",
              "    <span style=\"font-size: 0.8em; font-weight: bold; line-height: 1; border-radius: 0.35em; vertical-align: middle; margin-left: 0.5rem\">PERSON</span>\n",
              "</mark>\n",
              ", and \n",
              "<mark class=\"entity\" style=\"background: #7aecec; padding: 0.45em 0.6em; margin: 0 0.25em; line-height: 1; border-radius: 0.35em;\">\n",
              "    Audible\n",
              "    <span style=\"font-size: 0.8em; font-weight: bold; line-height: 1; border-radius: 0.35em; vertical-align: middle; margin-left: 0.5rem\">ORG</span>\n",
              "</mark>\n",
              " subsidiaries. \n",
              "<mark class=\"entity\" style=\"background: #7aecec; padding: 0.45em 0.6em; margin: 0 0.25em; line-height: 1; border-radius: 0.35em;\">\n",
              "    Amazon\n",
              "    <span style=\"font-size: 0.8em; font-weight: bold; line-height: 1; border-radius: 0.35em; vertical-align: middle; margin-left: 0.5rem\">ORG</span>\n",
              "</mark>\n",
              " also has a publishing arm, \n",
              "<mark class=\"entity\" style=\"background: #7aecec; padding: 0.45em 0.6em; margin: 0 0.25em; line-height: 1; border-radius: 0.35em;\">\n",
              "    Amazon Publishing\n",
              "    <span style=\"font-size: 0.8em; font-weight: bold; line-height: 1; border-radius: 0.35em; vertical-align: middle; margin-left: 0.5rem\">ORG</span>\n",
              "</mark>\n",
              ", film and television studio \n",
              "<mark class=\"entity\" style=\"background: #7aecec; padding: 0.45em 0.6em; margin: 0 0.25em; line-height: 1; border-radius: 0.35em;\">\n",
              "    Amazon Studios\n",
              "    <span style=\"font-size: 0.8em; font-weight: bold; line-height: 1; border-radius: 0.35em; vertical-align: middle; margin-left: 0.5rem\">ORG</span>\n",
              "</mark>\n",
              ", and a cloud computing subsidiary, \n",
              "<mark class=\"entity\" style=\"background: #7aecec; padding: 0.45em 0.6em; margin: 0 0.25em; line-height: 1; border-radius: 0.35em;\">\n",
              "    Amazon Web Services\n",
              "    <span style=\"font-size: 0.8em; font-weight: bold; line-height: 1; border-radius: 0.35em; vertical-align: middle; margin-left: 0.5rem\">ORG</span>\n",
              "</mark>\n",
              ". It produces consumer electronics including Kindle e-readers, Fire tablets, \n",
              "<mark class=\"entity\" style=\"background: #7aecec; padding: 0.45em 0.6em; margin: 0 0.25em; line-height: 1; border-radius: 0.35em;\">\n",
              "    Fire TV\n",
              "    <span style=\"font-size: 0.8em; font-weight: bold; line-height: 1; border-radius: 0.35em; vertical-align: middle; margin-left: 0.5rem\">ORG</span>\n",
              "</mark>\n",
              ", and \n",
              "<mark class=\"entity\" style=\"background: #7aecec; padding: 0.45em 0.6em; margin: 0 0.25em; line-height: 1; border-radius: 0.35em;\">\n",
              "    Echo\n",
              "    <span style=\"font-size: 0.8em; font-weight: bold; line-height: 1; border-radius: 0.35em; vertical-align: middle; margin-left: 0.5rem\">ORG</span>\n",
              "</mark>\n",
              " devices. Its acquisitions over \n",
              "<mark class=\"entity\" style=\"background: #bfe1d9; padding: 0.45em 0.6em; margin: 0 0.25em; line-height: 1; border-radius: 0.35em;\">\n",
              "    the years\n",
              "    <span style=\"font-size: 0.8em; font-weight: bold; line-height: 1; border-radius: 0.35em; vertical-align: middle; margin-left: 0.5rem\">DATE</span>\n",
              "</mark>\n",
              " include \n",
              "<mark class=\"entity\" style=\"background: #7aecec; padding: 0.45em 0.6em; margin: 0 0.25em; line-height: 1; border-radius: 0.35em;\">\n",
              "    Ring\n",
              "    <span style=\"font-size: 0.8em; font-weight: bold; line-height: 1; border-radius: 0.35em; vertical-align: middle; margin-left: 0.5rem\">ORG</span>\n",
              "</mark>\n",
              ", Twitch, Whole Foods Market, and IMDb. \n",
              "<mark class=\"entity\" style=\"background: #7aecec; padding: 0.45em 0.6em; margin: 0 0.25em; line-height: 1; border-radius: 0.35em;\">\n",
              "    Amazon\n",
              "    <span style=\"font-size: 0.8em; font-weight: bold; line-height: 1; border-radius: 0.35em; vertical-align: middle; margin-left: 0.5rem\">ORG</span>\n",
              "</mark>\n",
              " is currently in the process of purchasing film and television studio, \n",
              "<mark class=\"entity\" style=\"background: #7aecec; padding: 0.45em 0.6em; margin: 0 0.25em; line-height: 1; border-radius: 0.35em;\">\n",
              "    Metro-Goldwyn-Mayer\n",
              "    <span style=\"font-size: 0.8em; font-weight: bold; line-height: 1; border-radius: 0.35em; vertical-align: middle; margin-left: 0.5rem\">ORG</span>\n",
              "</mark>\n",
              ". \n",
              "<mark class=\"entity\" style=\"background: #7aecec; padding: 0.45em 0.6em; margin: 0 0.25em; line-height: 1; border-radius: 0.35em;\">\n",
              "    Amazon\n",
              "    <span style=\"font-size: 0.8em; font-weight: bold; line-height: 1; border-radius: 0.35em; vertical-align: middle; margin-left: 0.5rem\">ORG</span>\n",
              "</mark>\n",
              " has been criticized for practices including technological surveillance overreach, a hyper-competitive and demanding work culture, tax avoidance, and anti-competitive behavior.</div></span>"
            ],
            "text/plain": [
              "<IPython.core.display.HTML object>"
            ]
          },
          "metadata": {}
        }
      ]
    },
    {
      "cell_type": "markdown",
      "source": [
        "###Score"
      ],
      "metadata": {
        "id": "dBfNXExNUEJG"
      }
    },
    {
      "cell_type": "code",
      "source": [
        "#equate\n",
        "nlp_2 = NER_2"
      ],
      "metadata": {
        "id": "U2M1NTy8UHtu"
      },
      "execution_count": 24,
      "outputs": []
    },
    {
      "cell_type": "code",
      "source": [
        "#working code\n",
        "\n",
        "Amazonexamples = []\n",
        "\n",
        "data_2 = [(Amazon, {\"entities\": [(0,16,'ORG'), (44,52,'NORP'), (223,227,'GPE'), (272,278,'ORG'), (280,285,'ORG'),\n",
        "(287,296,'ORG'), (302,310,'ORG'), (465,475,'PERSON'), (484,490,'ORG'), (510,518,'GPE'),\n",
        "(520,530,'GPE'), (535,547,'DATE'), (700,704,'DATE'), (706,712,'ORG'), (723,730,'ORG'),\n",
        "(764,781,'GPE'), (811,815,'DATE'), (817,823,'ORG'), (833,851,'ORG'), (856,871,'MONEY'),\n",
        "(944,948,'DATE'), (954,961,'DATE'), (980,986,'ORG'), (1004,1015,'CARDINAL'), (1039,1045,'ORG'),\n",
        "(1326,1332,'ORG'), (1400,1406,'ORDINAL'), (1435,1452,'GPE'), (1507,1511,'DATE'), (1513,1519,'ORG'),\n",
        "(1560,1566,'ORG'), (1639,1645,'ORG'), (1659,1671,'ORG'), (1673,1679,'ORG'), (1685,1692,'ORG'),\n",
        "(1707,1713,'ORG'), (1741,1758,'ORG'), (1787,1801,'ORG'), (1837,1856,'ORG'), (1901,1907,'PRODUCT'),\n",
        "(1919,1923,'PRODUCT'), (1933,1937,'PRODUCT'), (1946,1950,'PRODUCT'), (1982,1991,'DATE'), (2000,2004,'ORG'),\n",
        "(2006,2012,'ORG'), (2014,2032,'ORG'), (2038,2042,'ORG'), (2044,2050,'ORG'), (2121,2140,'ORG'),\n",
        "(2142,2148,'ORG')]})]\n",
        "\n",
        "for text_2, annots_2 in data_2:\n",
        "    doc_2 = nlp_2.make_doc(text_2)\n",
        "    Amazonexamples.append(Example.from_dict(doc_2, annots_2))\n",
        "\n",
        "#output to txt\n",
        "f = sys.stdout\n",
        "f = open('score_output.txt', 'a') #append to opened common file\n",
        " \n",
        "print(\"#Amazon score\", file=f)\n",
        "print(nlp_2.evaluate(Amazonexamples), file=f) #Global and local entity metrics\n",
        "f.close() #close file "
      ],
      "metadata": {
        "id": "yFMU96elUHwV"
      },
      "execution_count": 25,
      "outputs": []
    },
    {
      "cell_type": "code",
      "source": [
        "print(nlp_2.evaluate(Amazonexamples))"
      ],
      "metadata": {
        "colab": {
          "base_uri": "https://localhost:8080/"
        },
        "id": "2FQwM1tyRohg",
        "outputId": "9931170a-c868-411b-b7fd-632d87a0cc1e"
      },
      "execution_count": 26,
      "outputs": [
        {
          "output_type": "stream",
          "name": "stdout",
          "text": [
            "{'token_acc': 1.0, 'token_p': 1.0, 'token_r': 1.0, 'token_f': 1.0, 'tag_acc': None, 'sents_p': None, 'sents_r': None, 'sents_f': None, 'dep_uas': None, 'dep_las': None, 'dep_las_per_type': None, 'pos_acc': None, 'morph_acc': None, 'morph_micro_p': None, 'morph_micro_r': None, 'morph_micro_f': None, 'morph_per_feat': None, 'lemma_acc': None, 'ents_p': 0.8367346938775511, 'ents_r': 0.803921568627451, 'ents_f': 0.8200000000000001, 'ents_per_type': {'ORG': {'p': 0.8275862068965517, 'r': 0.8, 'f': 0.8135593220338982}, 'NORP': {'p': 1.0, 'r': 1.0, 'f': 1.0}, 'CARDINAL': {'p': 0.3333333333333333, 'r': 1.0, 'f': 0.5}, 'GPE': {'p': 1.0, 'r': 1.0, 'f': 1.0}, 'PERSON': {'p': 0.5, 'r': 1.0, 'f': 0.6666666666666666}, 'DATE': {'p': 1.0, 'r': 1.0, 'f': 1.0}, 'MONEY': {'p': 1.0, 'r': 1.0, 'f': 1.0}, 'ORDINAL': {'p': 1.0, 'r': 1.0, 'f': 1.0}, 'PRODUCT': {'p': 0.0, 'r': 0.0, 'f': 0.0}}, 'speed': 5166.42524968998}\n"
          ]
        }
      ]
    },
    {
      "cell_type": "markdown",
      "source": [
        "###Loop"
      ],
      "metadata": {
        "id": "r_CHLuFYseeW"
      }
    },
    {
      "cell_type": "code",
      "source": [
        "#dataframing the entities and labels\n",
        "for ind in Amazondf.index:\n",
        "  print(Amazondf['AmazonEntities'][ind], Amazondf['AmazonLabels'][ind])"
      ],
      "metadata": {
        "id": "tkSEeFE4seeW",
        "colab": {
          "base_uri": "https://localhost:8080/"
        },
        "outputId": "067e6907-c7a4-48ee-97fd-7e06b8aff796"
      },
      "execution_count": 27,
      "outputs": [
        {
          "output_type": "stream",
          "name": "stdout",
          "text": [
            "Amazon.com, Inc. ORG\n",
            "American NORP\n",
            "Five CARDINAL\n",
            "U.S. GPE\n",
            "Google ORG\n",
            "Apple ORG\n",
            "Microsoft ORG\n",
            "Facebook ORG\n",
            "Jeff Bezos PERSON\n",
            "Amazon ORG\n",
            "Bellevue GPE\n",
            "Washington GPE\n",
            "July 5, 1994 DATE\n",
            "2015 DATE\n",
            "Amazon ORG\n",
            "Walmart ORG\n",
            "the United States GPE\n",
            "2017 DATE\n",
            "Amazon ORG\n",
            "Whole Foods Market ORG\n",
            "US$13.4 billion MONEY\n",
            "2018 DATE\n",
            "two-day DATE\n",
            "Amazon Prime ORG\n",
            "100 million CARDINAL\n",
            "Amazon ORG\n",
            "AI ORG\n",
            "Amazon ORG\n",
            "second ORDINAL\n",
            "the United States GPE\n",
            "one CARDINAL\n",
            "2020 DATE\n",
            "Amazon ORG\n",
            "Amazon ORG\n",
            "Amazon Prime Video ORG\n",
            "Amazon Music ORG\n",
            "Twitch PERSON\n",
            "Audible ORG\n",
            "Amazon ORG\n",
            "Amazon Publishing ORG\n",
            "Amazon Studios ORG\n",
            "Amazon Web Services ORG\n",
            "Fire TV ORG\n",
            "Echo ORG\n",
            "the years DATE\n",
            "Ring ORG\n",
            "Amazon ORG\n",
            "Metro-Goldwyn-Mayer ORG\n",
            "Amazon ORG\n"
          ]
        }
      ]
    },
    {
      "cell_type": "code",
      "source": [
        "#convert entities to list\n",
        "AmazonlistEntities = Amazondf['AmazonEntities'].tolist()"
      ],
      "metadata": {
        "id": "KOzSDWUHseeX"
      },
      "execution_count": 28,
      "outputs": []
    },
    {
      "cell_type": "code",
      "source": [
        "#entities sampling\n",
        "AmazonlistEntities[0]"
      ],
      "metadata": {
        "colab": {
          "base_uri": "https://localhost:8080/"
        },
        "outputId": "ec8fcbfa-0b1c-454e-e664-a5fbaf3f98c0",
        "id": "1R7tXllhseeX"
      },
      "execution_count": 29,
      "outputs": [
        {
          "output_type": "execute_result",
          "data": {
            "text/plain": [
              "Amazon.com, Inc."
            ]
          },
          "metadata": {},
          "execution_count": 29
        }
      ]
    },
    {
      "cell_type": "code",
      "source": [
        "#convert labels to list\n",
        "AmazonlistLabels = Amazondf['AmazonLabels'].tolist()"
      ],
      "metadata": {
        "id": "h3RejKAFseeX"
      },
      "execution_count": 30,
      "outputs": []
    },
    {
      "cell_type": "code",
      "source": [
        "#label sampling\n",
        "AmazonlistLabels[0]"
      ],
      "metadata": {
        "colab": {
          "base_uri": "https://localhost:8080/",
          "height": 0
        },
        "outputId": "ed0a2370-185e-441f-b6e9-a662189f2c31",
        "id": "nPxf4HIsseeX"
      },
      "execution_count": 31,
      "outputs": [
        {
          "output_type": "execute_result",
          "data": {
            "application/vnd.google.colaboratory.intrinsic+json": {
              "type": "string"
            },
            "text/plain": [
              "'ORG'"
            ]
          },
          "metadata": {},
          "execution_count": 31
        }
      ]
    },
    {
      "cell_type": "code",
      "source": [
        "PropLabel_2 = y_2[0][0]"
      ],
      "metadata": {
        "id": "PGi0pItxrN9K"
      },
      "execution_count": 32,
      "outputs": []
    },
    {
      "cell_type": "code",
      "source": [
        "PropLabel_2"
      ],
      "metadata": {
        "colab": {
          "base_uri": "https://localhost:8080/",
          "height": 0
        },
        "id": "Bly8ofORrT-B",
        "outputId": "4aba127d-a237-46eb-e674-a7aa2d1aed14"
      },
      "execution_count": 33,
      "outputs": [
        {
          "output_type": "execute_result",
          "data": {
            "application/vnd.google.colaboratory.intrinsic+json": {
              "type": "string"
            },
            "text/plain": [
              "'Amazon'"
            ]
          },
          "metadata": {},
          "execution_count": 33
        }
      ]
    },
    {
      "cell_type": "code",
      "source": [
        "#For Amazon\n",
        "\n",
        "PropLabel_2 = y_2[0][0]\n",
        "\n",
        "#output to owl\n",
        "f = sys.stdout\n",
        "f = open('p107443_output.owl', 'a') #append to opened common file\n",
        "\n",
        "#Amazon SubClasses\n",
        "print(\"\\n#Amazon SubClasses\", file=f)\n",
        "print(\"faang:{proplab_2} rdf:type rdfs:Class .\".format(proplab_2=PropLabel_2), file=f) #Class\n",
        "print(\"faang:{proplab_2} rdfs:subClassOf faang:FAANG .\".format(proplab_2=PropLabel_2), file=f) #Amazon SubClass\n",
        "\n",
        "#Amazon Individuals\n",
        "print(\"\\n#Amazon Individuals\", file=f)\n",
        "print(\"faang:{proplab_2}PERSON rdf:type faang:{proplab_2} .\".format(proplab_2=PropLabel_2), file=f) \n",
        "print(\"faang:{proplab_2}NORP rdf:type faang:{proplab_2} .\".format(proplab_2=PropLabel_2), file=f) \n",
        "print(\"faang:{proplab_2}FAC rdf:type faang:{proplab_2} .\".format(proplab_2=PropLabel_2), file=f) \n",
        "print(\"faang:{proplab_2}ORG rdf:type faang:{proplab_2} .\".format(proplab_2=PropLabel_2), file=f) \n",
        "print(\"faang:{proplab_2}GPE rdf:type faang:{proplab_2} .\".format(proplab_2=PropLabel_2), file=f) \n",
        "print(\"faang:{proplab_2}LOC rdf:type faang:{proplab_2} .\".format(proplab_2=PropLabel_2), file=f) \n",
        "print(\"faang:{proplab_2}PRODUCT rdf:type faang:{proplab_2} .\".format(proplab_2=PropLabel_2), file=f) \n",
        "print(\"faang:{proplab_2}EVENT rdf:type faang:{proplab_2} .\".format(proplab_2=PropLabel_2), file=f) \n",
        "print(\"faang:{proplab_2}WORK_OF_ART rdf:type faang:{proplab_2} .\".format(proplab_2=PropLabel_2), file=f) \n",
        "print(\"faang:{proplab_2}LAW rdf:type faang:{proplab_2} .\".format(proplab_2=PropLabel_2), file=f) \n",
        "print(\"faang:{proplab_2}LANGUAGE rdf:type faang:{proplab_2} .\".format(proplab_2=PropLabel_2), file=f) \n",
        "print(\"faang:{proplab_2}DATE rdf:type faang:{proplab_2} .\".format(proplab_2=PropLabel_2), file=f) \n",
        "print(\"faang:{proplab_2}TIME rdf:type faang:{proplab_2} .\".format(proplab_2=PropLabel_2), file=f) \n",
        "print(\"faang:{proplab_2}PERCENT rdf:type faang:{proplab_2} .\".format(proplab_2=PropLabel_2), file=f) \n",
        "print(\"faang:{proplab_2}MONEY rdf:type faang:{proplab_2} .\".format(proplab_2=PropLabel_2), file=f) \n",
        "print(\"faang:{proplab_2}QUANTITY rdf:type faang:{proplab_2} .\".format(proplab_2=PropLabel_2), file=f) \n",
        "print(\"faang:{proplab_2}ORDINAL rdf:type faang:{proplab_2} .\".format(proplab_2=PropLabel_2), file=f) \n",
        "print(\"faang:{proplab_2}CARDINAL rdf:type faang:{proplab_2} .\".format(proplab_2=PropLabel_2), file=f) \n",
        "\n",
        "#Specific Amazon Triples\n",
        "print(\"\\n#Amazon Triples\", file=f)\n",
        "for i in range(len(AmazonlistEntities)):\n",
        "  if AmazonlistLabels[i]=='PERSON':\n",
        "    print('faang:{proplab_2}PERSON faang:{lab} \"{ent}\"^^xsd:string .' .format(proplab_2=PropLabel_2, lab='hasPersonName', ent=AmazonlistEntities[i]), file=f)\n",
        "  elif AmazonlistLabels[i]=='NORP':\n",
        "    print('faang:{proplab_2}NORP faang:{lab} \"{ent}\"^^xsd:string .' .format(proplab_2=PropLabel_2, lab='hasNationalityReligiousPolitical', ent=AmazonlistEntities[i]), file=f)\n",
        "  elif AmazonlistLabels[i]=='FAC':\n",
        "    print('faang:{proplab_2}FAC faang:{lab} \"{ent}\"^^xsd:string .' .format(proplab_2=PropLabel_2, lab='hasBuildingsAirportsHighwaysBridges', ent=AmazonlistEntities[i]), file=f)\n",
        "  elif AmazonlistLabels[i]=='ORG':\n",
        "    print('faang:{proplab_2}ORG faang:{lab} \"{ent}\"^^xsd:string .' .format(proplab_2=PropLabel_2, lab='hasCompaniesAgenciesInstitutions', ent=AmazonlistEntities[i]), file=f)\n",
        "  elif AmazonlistLabels[i]=='GPE':\n",
        "    print('faang:{proplab_2}GPE faang:{lab} \"{ent}\"^^xsd:string .' .format(proplab_2=PropLabel_2, lab='hasCountriesCitiesState', ent=AmazonlistEntities[i]), file=f)\n",
        "  elif AmazonlistLabels[i]=='LOC':\n",
        "    print('faang:{proplab_2}LOC faang:{lab} \"{ent}\"^^xsd:string .' .format(proplab_2=PropLabel_2, lab='hasLocation', ent=AmazonlistEntities[i]), file=f)\n",
        "  elif AmazonlistLabels[i]=='PRODUCT':\n",
        "    print('faang:{proplab_2}PRODUCT faang:{lab} \"{ent}\"^^xsd:string .' .format(proplab_2=PropLabel_2, lab='hasProduct', ent=AmazonlistEntities[i]), file=f)\n",
        "  elif AmazonlistLabels[i]=='EVENT':\n",
        "    print('faang:{proplab_2}EVENT faang:{lab} \"{ent}\"^^xsd:string .' .format(proplab_2=PropLabel_2, lab='hasEvent', ent=AmazonlistEntities[i]), file=f)\n",
        "  elif AmazonlistLabels[i]=='WORK_OF_ART':\n",
        "    print('faang:{proplab_2}WORK_OF_ART faang:{lab} \"{ent}\"^^xsd:string .' .format(proplab_2=PropLabel_2, lab='hasWorkOfArt', ent=AmazonlistEntities[i]), file=f)\n",
        "  elif AmazonlistLabels[i]=='LAW':\n",
        "    print('faang:{proplab_2}LAW faang:{lab} \"{ent}\"^^xsd:string .' .format(proplab_2=PropLabel_2, lab='hasLaw', ent=AmazonlistEntities[i]), file=f)\n",
        "  elif AmazonlistLabels[i]=='LANGUAGE':\n",
        "    print('faang:{proplab_2}LANGUAGE faang:{lab} \"{ent}\"^^xsd:string .' .format(proplab_2=PropLabel_2, lab='hasLanguage', ent=AmazonlistEntities[i]), file=f)\n",
        "  elif AmazonlistLabels[i]=='DATE':\n",
        "    print('faang:{proplab_2}DATE faang:{lab} \"{ent}\"^^xsd:string .' .format(proplab_2=PropLabel_2, lab='hasDate', ent=AmazonlistEntities[i]), file=f)\n",
        "  elif AmazonlistLabels[i]=='TIME':\n",
        "    print('faang:{proplab_2}TIME faang:{lab} \"{ent}\"^^xsd:string .' .format(proplab_2=PropLabel_2, lab='hasTime', ent=AmazonlistEntities[i]), file=f)\n",
        "  elif AmazonlistLabels[i]=='PERCENT':\n",
        "    print('faang:{proplab_2}PERCENT faang:{lab} \"{ent}\"^^xsd:string .' .format(proplab_2=PropLabel_2, lab='hasPercent', ent=AmazonlistEntities[i]), file=f)\n",
        "  elif AmazonlistLabels[i]=='MONEY':\n",
        "    print('faang:{proplab_2}MONEY faang:{lab} \"{ent}\"^^xsd:string .' .format(proplab_2=PropLabel_2, lab='hasMoney', ent=AmazonlistEntities[i]), file=f)\n",
        "  elif AmazonlistLabels[i]=='QUANTITY':\n",
        "    print('faang:{proplab_2}QUANTITY faang:{lab} \"{ent}\"^^xsd:string .' .format(proplab_2=PropLabel_2, lab='hasQuantity', ent=AmazonlistEntities[i]), file=f)\n",
        "  elif AmazonlistLabels[i]=='ORDINAL':\n",
        "    print('faang:{proplab_2}ORDINAL faang:{lab} \"{ent}\"^^xsd:string .' .format(proplab_2=PropLabel_2, lab='hasOrdinal', ent=AmazonlistEntities[i]), file=f)\n",
        "  elif AmazonlistLabels[i]=='CARDINAL':\n",
        "    print('faang:{proplab_2}CARDINAL faang:{lab} \"{ent}\"^^xsd:string .' .format(proplab_2=PropLabel_2, lab='hasCardinal', ent=AmazonlistEntities[i]), file=f)\n",
        "f.close() #close file"
      ],
      "metadata": {
        "id": "Sr5WEondseeX"
      },
      "execution_count": 34,
      "outputs": []
    },
    {
      "cell_type": "markdown",
      "source": [
        "##3_Apple"
      ],
      "metadata": {
        "id": "EnD0Or7yEyOb"
      }
    },
    {
      "cell_type": "markdown",
      "source": [
        "###Open and Load"
      ],
      "metadata": {
        "id": "hRUgYEb5EyOb"
      }
    },
    {
      "cell_type": "code",
      "source": [
        "#open the file\n",
        "faang_3 = \"/content/drive/MyDrive/Colab Notebooks/OKR_NEE_datasets/3_Apple.txt\"\n",
        "file3 = open(faang_3, \"r\")\n",
        "#read the file\n",
        "Apple = file3.read()\n",
        "Apple"
      ],
      "metadata": {
        "colab": {
          "base_uri": "https://localhost:8080/",
          "height": 0
        },
        "outputId": "55769579-a847-461a-8ca8-3ca0f99188a6",
        "id": "vpeCZ-pMEyOb"
      },
      "execution_count": 35,
      "outputs": [
        {
          "output_type": "execute_result",
          "data": {
            "application/vnd.google.colaboratory.intrinsic+json": {
              "type": "string"
            },
            "text/plain": [
              "'Apple Inc. is an American multinational technology company that specializes in consumer electronics, computer software, and online services. Apple is the world\\'s largest technology company by revenue (totaling $274.5 billion in 2020) and, since January 2021, the world\\'s most valuable company. As of 2021, Apple is the world\\'s fourth-largest PC vendor by unit sales, and fourth-largest smartphone manufacturer. It is one of the Big Five American information technology companies, along with Amazon, Google, Microsoft, and Facebook. Apple was founded by Steve Jobs, Steve Wozniak, and Ronald Wayne in 1976 to develop and sell Wozniak\\'s Apple I personal computer. It was incorporated by Jobs and Wozniak as Apple Computer, Inc. in 1977, and sales of its computers, including the Apple II, grew quickly. They went public in 1980 to instant financial success. Over the next few years, Apple shipped new computers featuring innovative graphical user interfaces, such as the original Macintosh, announced with the critically acclaimed advert \"1984\". However, the high price of its products and limited application library caused problems, as did power struggles between executives. In 1985, Wozniak departed Apple amicably, while Jobs resigned to found NeXT, taking some Apple co-workers with him. As the market for personal computers expanded and evolved through the 1990s, Apple lost considerable market share to the lower-priced duopoly of Microsoft Windows on Intel PC clones. The board recruited CEO Gil Amelio, who prepared the struggling company for eventual success with extensive reforms, product focus and layoffs in his 500 day tenure. In 1997, Gil bought NeXT, to resolve Apple\\'s unsuccessful OS strategy and bring back Steve Jobs, who replaced Amelio as CEO later that year. Apple returned to profitability under the revitalizing \"Think different\" campaign, launching the iMac and iPod, opening a retail chain of Apple Stores in 2001, and acquiring numerous companies to broaden their software portfolio. In 2007, the company launched the iPhone to critical acclaim and financial success. In 2011, Jobs resigned as CEO due to health complications, and died two months later. He was succeeded by Tim Cook. In August 2018, Apple became the first publicly traded U.S. company to be valued at over $1 trillion and the first valued over $2 trillion two years later. It has a high level of brand loyalty and is ranked as the world\\'s most valuable brand; as of January 2021, there are 1.65 billion Apple products in use worldwide. However, the company receives significant criticism regarding the labor practices of its contractors, its environmental practices, and business ethics, including anti-competitive behavior, and materials sourcing.'"
            ]
          },
          "metadata": {},
          "execution_count": 35
        }
      ]
    },
    {
      "cell_type": "code",
      "source": [
        "#load spacy\n",
        "NER_3 = spacy.load(\"en_core_web_md\")"
      ],
      "metadata": {
        "id": "fWcWIHCSEyOc"
      },
      "execution_count": 36,
      "outputs": []
    },
    {
      "cell_type": "markdown",
      "source": [
        "###spaCy and displaCy"
      ],
      "metadata": {
        "id": "r14tA9JUEyOc"
      }
    },
    {
      "cell_type": "code",
      "source": [
        "#get the labels and entities\n",
        "Appledoc = NER_3(Apple)\n",
        "\n",
        "Appleentities = []\n",
        "Applelabels = []\n",
        "Applestartpos = []\n",
        "Appleendpos = []\n",
        "\n",
        "for ent in Appledoc.ents:\n",
        "  Appleentities.append(ent)\n",
        "  Applelabels.append(ent.label_)\n",
        "  Applestartpos.append(ent.start_char)\n",
        "  Appleendpos.append(ent.end_char)\n",
        "    \n",
        "Appledf = pd.DataFrame({'AppleEntities':Appleentities,'AppleLabels':Applelabels, 'Position_Start':Applestartpos, 'Position_End':Appleendpos})\n",
        "\n",
        "Appledf\n",
        "\n",
        "Appledf.to_csv(r'/content/drive/MyDrive/Colab Notebooks/OKR_NEE_datasets/out.csv', index = False)"
      ],
      "metadata": {
        "id": "YjjbxJhGEyOc"
      },
      "execution_count": 37,
      "outputs": []
    },
    {
      "cell_type": "code",
      "source": [
        "#Count\n",
        "items_3 = [x.text for x in Appledoc.ents]\n",
        "y_3 = Counter(items_3).most_common(5) #top 5"
      ],
      "metadata": {
        "id": "_o4nzR7Xc7HX"
      },
      "execution_count": 38,
      "outputs": []
    },
    {
      "cell_type": "code",
      "source": [
        "y_3[0][0] #highest frequency"
      ],
      "metadata": {
        "colab": {
          "base_uri": "https://localhost:8080/",
          "height": 0
        },
        "id": "1JHLQpXec7Kv",
        "outputId": "738bddcd-23e6-4a65-c19a-e806ce48d806"
      },
      "execution_count": 39,
      "outputs": [
        {
          "output_type": "execute_result",
          "data": {
            "application/vnd.google.colaboratory.intrinsic+json": {
              "type": "string"
            },
            "text/plain": [
              "'Apple'"
            ]
          },
          "metadata": {},
          "execution_count": 39
        }
      ]
    },
    {
      "cell_type": "code",
      "source": [
        "#visualization\n",
        "doc_3= NER_3(Apple)\n",
        "spacy.displacy.render(doc_3, style=\"ent\", jupyter=True)"
      ],
      "metadata": {
        "colab": {
          "base_uri": "https://localhost:8080/",
          "height": 0
        },
        "id": "_yTsDz2mCaDl",
        "outputId": "c405ffb3-268f-48ff-c8b0-c1dd71f93f9d"
      },
      "execution_count": 40,
      "outputs": [
        {
          "output_type": "display_data",
          "data": {
            "text/html": [
              "<span class=\"tex2jax_ignore\"><div class=\"entities\" style=\"line-height: 2.5; direction: ltr\">\n",
              "<mark class=\"entity\" style=\"background: #7aecec; padding: 0.45em 0.6em; margin: 0 0.25em; line-height: 1; border-radius: 0.35em;\">\n",
              "    Apple Inc.\n",
              "    <span style=\"font-size: 0.8em; font-weight: bold; line-height: 1; border-radius: 0.35em; vertical-align: middle; margin-left: 0.5rem\">ORG</span>\n",
              "</mark>\n",
              " is an \n",
              "<mark class=\"entity\" style=\"background: #c887fb; padding: 0.45em 0.6em; margin: 0 0.25em; line-height: 1; border-radius: 0.35em;\">\n",
              "    American\n",
              "    <span style=\"font-size: 0.8em; font-weight: bold; line-height: 1; border-radius: 0.35em; vertical-align: middle; margin-left: 0.5rem\">NORP</span>\n",
              "</mark>\n",
              " multinational technology company that specializes in consumer electronics, computer software, and online services. \n",
              "<mark class=\"entity\" style=\"background: #7aecec; padding: 0.45em 0.6em; margin: 0 0.25em; line-height: 1; border-radius: 0.35em;\">\n",
              "    Apple\n",
              "    <span style=\"font-size: 0.8em; font-weight: bold; line-height: 1; border-radius: 0.35em; vertical-align: middle; margin-left: 0.5rem\">ORG</span>\n",
              "</mark>\n",
              " is the world's largest technology company by revenue (totaling \n",
              "<mark class=\"entity\" style=\"background: #e4e7d2; padding: 0.45em 0.6em; margin: 0 0.25em; line-height: 1; border-radius: 0.35em;\">\n",
              "    $274.5 billion\n",
              "    <span style=\"font-size: 0.8em; font-weight: bold; line-height: 1; border-radius: 0.35em; vertical-align: middle; margin-left: 0.5rem\">MONEY</span>\n",
              "</mark>\n",
              " in \n",
              "<mark class=\"entity\" style=\"background: #bfe1d9; padding: 0.45em 0.6em; margin: 0 0.25em; line-height: 1; border-radius: 0.35em;\">\n",
              "    2020\n",
              "    <span style=\"font-size: 0.8em; font-weight: bold; line-height: 1; border-radius: 0.35em; vertical-align: middle; margin-left: 0.5rem\">DATE</span>\n",
              "</mark>\n",
              ") and, since \n",
              "<mark class=\"entity\" style=\"background: #bfe1d9; padding: 0.45em 0.6em; margin: 0 0.25em; line-height: 1; border-radius: 0.35em;\">\n",
              "    January 2021\n",
              "    <span style=\"font-size: 0.8em; font-weight: bold; line-height: 1; border-radius: 0.35em; vertical-align: middle; margin-left: 0.5rem\">DATE</span>\n",
              "</mark>\n",
              ", the world's most valuable company. As of \n",
              "<mark class=\"entity\" style=\"background: #bfe1d9; padding: 0.45em 0.6em; margin: 0 0.25em; line-height: 1; border-radius: 0.35em;\">\n",
              "    2021\n",
              "    <span style=\"font-size: 0.8em; font-weight: bold; line-height: 1; border-radius: 0.35em; vertical-align: middle; margin-left: 0.5rem\">DATE</span>\n",
              "</mark>\n",
              ", \n",
              "<mark class=\"entity\" style=\"background: #7aecec; padding: 0.45em 0.6em; margin: 0 0.25em; line-height: 1; border-radius: 0.35em;\">\n",
              "    Apple\n",
              "    <span style=\"font-size: 0.8em; font-weight: bold; line-height: 1; border-radius: 0.35em; vertical-align: middle; margin-left: 0.5rem\">ORG</span>\n",
              "</mark>\n",
              " is the world's \n",
              "<mark class=\"entity\" style=\"background: #e4e7d2; padding: 0.45em 0.6em; margin: 0 0.25em; line-height: 1; border-radius: 0.35em;\">\n",
              "    fourth\n",
              "    <span style=\"font-size: 0.8em; font-weight: bold; line-height: 1; border-radius: 0.35em; vertical-align: middle; margin-left: 0.5rem\">ORDINAL</span>\n",
              "</mark>\n",
              "-largest PC vendor by unit sales, and \n",
              "<mark class=\"entity\" style=\"background: #e4e7d2; padding: 0.45em 0.6em; margin: 0 0.25em; line-height: 1; border-radius: 0.35em;\">\n",
              "    fourth\n",
              "    <span style=\"font-size: 0.8em; font-weight: bold; line-height: 1; border-radius: 0.35em; vertical-align: middle; margin-left: 0.5rem\">ORDINAL</span>\n",
              "</mark>\n",
              "-largest smartphone manufacturer. It is one of the Big \n",
              "<mark class=\"entity\" style=\"background: #e4e7d2; padding: 0.45em 0.6em; margin: 0 0.25em; line-height: 1; border-radius: 0.35em;\">\n",
              "    Five\n",
              "    <span style=\"font-size: 0.8em; font-weight: bold; line-height: 1; border-radius: 0.35em; vertical-align: middle; margin-left: 0.5rem\">CARDINAL</span>\n",
              "</mark>\n",
              " \n",
              "<mark class=\"entity\" style=\"background: #c887fb; padding: 0.45em 0.6em; margin: 0 0.25em; line-height: 1; border-radius: 0.35em;\">\n",
              "    American\n",
              "    <span style=\"font-size: 0.8em; font-weight: bold; line-height: 1; border-radius: 0.35em; vertical-align: middle; margin-left: 0.5rem\">NORP</span>\n",
              "</mark>\n",
              " information technology companies, along with \n",
              "<mark class=\"entity\" style=\"background: #7aecec; padding: 0.45em 0.6em; margin: 0 0.25em; line-height: 1; border-radius: 0.35em;\">\n",
              "    Amazon\n",
              "    <span style=\"font-size: 0.8em; font-weight: bold; line-height: 1; border-radius: 0.35em; vertical-align: middle; margin-left: 0.5rem\">ORG</span>\n",
              "</mark>\n",
              ", \n",
              "<mark class=\"entity\" style=\"background: #7aecec; padding: 0.45em 0.6em; margin: 0 0.25em; line-height: 1; border-radius: 0.35em;\">\n",
              "    Google\n",
              "    <span style=\"font-size: 0.8em; font-weight: bold; line-height: 1; border-radius: 0.35em; vertical-align: middle; margin-left: 0.5rem\">ORG</span>\n",
              "</mark>\n",
              ", \n",
              "<mark class=\"entity\" style=\"background: #7aecec; padding: 0.45em 0.6em; margin: 0 0.25em; line-height: 1; border-radius: 0.35em;\">\n",
              "    Microsoft\n",
              "    <span style=\"font-size: 0.8em; font-weight: bold; line-height: 1; border-radius: 0.35em; vertical-align: middle; margin-left: 0.5rem\">ORG</span>\n",
              "</mark>\n",
              ", and \n",
              "<mark class=\"entity\" style=\"background: #7aecec; padding: 0.45em 0.6em; margin: 0 0.25em; line-height: 1; border-radius: 0.35em;\">\n",
              "    Facebook\n",
              "    <span style=\"font-size: 0.8em; font-weight: bold; line-height: 1; border-radius: 0.35em; vertical-align: middle; margin-left: 0.5rem\">ORG</span>\n",
              "</mark>\n",
              ". \n",
              "<mark class=\"entity\" style=\"background: #7aecec; padding: 0.45em 0.6em; margin: 0 0.25em; line-height: 1; border-radius: 0.35em;\">\n",
              "    Apple\n",
              "    <span style=\"font-size: 0.8em; font-weight: bold; line-height: 1; border-radius: 0.35em; vertical-align: middle; margin-left: 0.5rem\">ORG</span>\n",
              "</mark>\n",
              " was founded by \n",
              "<mark class=\"entity\" style=\"background: #aa9cfc; padding: 0.45em 0.6em; margin: 0 0.25em; line-height: 1; border-radius: 0.35em;\">\n",
              "    Steve Jobs\n",
              "    <span style=\"font-size: 0.8em; font-weight: bold; line-height: 1; border-radius: 0.35em; vertical-align: middle; margin-left: 0.5rem\">PERSON</span>\n",
              "</mark>\n",
              ", \n",
              "<mark class=\"entity\" style=\"background: #aa9cfc; padding: 0.45em 0.6em; margin: 0 0.25em; line-height: 1; border-radius: 0.35em;\">\n",
              "    Steve Wozniak\n",
              "    <span style=\"font-size: 0.8em; font-weight: bold; line-height: 1; border-radius: 0.35em; vertical-align: middle; margin-left: 0.5rem\">PERSON</span>\n",
              "</mark>\n",
              ", and \n",
              "<mark class=\"entity\" style=\"background: #aa9cfc; padding: 0.45em 0.6em; margin: 0 0.25em; line-height: 1; border-radius: 0.35em;\">\n",
              "    Ronald Wayne\n",
              "    <span style=\"font-size: 0.8em; font-weight: bold; line-height: 1; border-radius: 0.35em; vertical-align: middle; margin-left: 0.5rem\">PERSON</span>\n",
              "</mark>\n",
              " in \n",
              "<mark class=\"entity\" style=\"background: #bfe1d9; padding: 0.45em 0.6em; margin: 0 0.25em; line-height: 1; border-radius: 0.35em;\">\n",
              "    1976\n",
              "    <span style=\"font-size: 0.8em; font-weight: bold; line-height: 1; border-radius: 0.35em; vertical-align: middle; margin-left: 0.5rem\">DATE</span>\n",
              "</mark>\n",
              " to develop and sell \n",
              "<mark class=\"entity\" style=\"background: #aa9cfc; padding: 0.45em 0.6em; margin: 0 0.25em; line-height: 1; border-radius: 0.35em;\">\n",
              "    Wozniak\n",
              "    <span style=\"font-size: 0.8em; font-weight: bold; line-height: 1; border-radius: 0.35em; vertical-align: middle; margin-left: 0.5rem\">PERSON</span>\n",
              "</mark>\n",
              "'s \n",
              "<mark class=\"entity\" style=\"background: #7aecec; padding: 0.45em 0.6em; margin: 0 0.25em; line-height: 1; border-radius: 0.35em;\">\n",
              "    Apple\n",
              "    <span style=\"font-size: 0.8em; font-weight: bold; line-height: 1; border-radius: 0.35em; vertical-align: middle; margin-left: 0.5rem\">ORG</span>\n",
              "</mark>\n",
              " I personal computer. It was incorporated by Jobs and \n",
              "<mark class=\"entity\" style=\"background: #aa9cfc; padding: 0.45em 0.6em; margin: 0 0.25em; line-height: 1; border-radius: 0.35em;\">\n",
              "    Wozniak\n",
              "    <span style=\"font-size: 0.8em; font-weight: bold; line-height: 1; border-radius: 0.35em; vertical-align: middle; margin-left: 0.5rem\">PERSON</span>\n",
              "</mark>\n",
              " as \n",
              "<mark class=\"entity\" style=\"background: #7aecec; padding: 0.45em 0.6em; margin: 0 0.25em; line-height: 1; border-radius: 0.35em;\">\n",
              "    Apple Computer, Inc.\n",
              "    <span style=\"font-size: 0.8em; font-weight: bold; line-height: 1; border-radius: 0.35em; vertical-align: middle; margin-left: 0.5rem\">ORG</span>\n",
              "</mark>\n",
              " in \n",
              "<mark class=\"entity\" style=\"background: #bfe1d9; padding: 0.45em 0.6em; margin: 0 0.25em; line-height: 1; border-radius: 0.35em;\">\n",
              "    1977\n",
              "    <span style=\"font-size: 0.8em; font-weight: bold; line-height: 1; border-radius: 0.35em; vertical-align: middle; margin-left: 0.5rem\">DATE</span>\n",
              "</mark>\n",
              ", and sales of its computers, including \n",
              "<mark class=\"entity\" style=\"background: #7aecec; padding: 0.45em 0.6em; margin: 0 0.25em; line-height: 1; border-radius: 0.35em;\">\n",
              "    the Apple II\n",
              "    <span style=\"font-size: 0.8em; font-weight: bold; line-height: 1; border-radius: 0.35em; vertical-align: middle; margin-left: 0.5rem\">ORG</span>\n",
              "</mark>\n",
              ", grew quickly. They went public in \n",
              "<mark class=\"entity\" style=\"background: #bfe1d9; padding: 0.45em 0.6em; margin: 0 0.25em; line-height: 1; border-radius: 0.35em;\">\n",
              "    1980\n",
              "    <span style=\"font-size: 0.8em; font-weight: bold; line-height: 1; border-radius: 0.35em; vertical-align: middle; margin-left: 0.5rem\">DATE</span>\n",
              "</mark>\n",
              " to instant financial success. Over \n",
              "<mark class=\"entity\" style=\"background: #bfe1d9; padding: 0.45em 0.6em; margin: 0 0.25em; line-height: 1; border-radius: 0.35em;\">\n",
              "    the next few years\n",
              "    <span style=\"font-size: 0.8em; font-weight: bold; line-height: 1; border-radius: 0.35em; vertical-align: middle; margin-left: 0.5rem\">DATE</span>\n",
              "</mark>\n",
              ", \n",
              "<mark class=\"entity\" style=\"background: #7aecec; padding: 0.45em 0.6em; margin: 0 0.25em; line-height: 1; border-radius: 0.35em;\">\n",
              "    Apple\n",
              "    <span style=\"font-size: 0.8em; font-weight: bold; line-height: 1; border-radius: 0.35em; vertical-align: middle; margin-left: 0.5rem\">ORG</span>\n",
              "</mark>\n",
              " shipped new computers featuring innovative graphical user interfaces, such as the original \n",
              "<mark class=\"entity\" style=\"background: #7aecec; padding: 0.45em 0.6em; margin: 0 0.25em; line-height: 1; border-radius: 0.35em;\">\n",
              "    Macintosh\n",
              "    <span style=\"font-size: 0.8em; font-weight: bold; line-height: 1; border-radius: 0.35em; vertical-align: middle; margin-left: 0.5rem\">ORG</span>\n",
              "</mark>\n",
              ", announced with the critically acclaimed advert &quot;\n",
              "<mark class=\"entity\" style=\"background: #bfe1d9; padding: 0.45em 0.6em; margin: 0 0.25em; line-height: 1; border-radius: 0.35em;\">\n",
              "    1984\n",
              "    <span style=\"font-size: 0.8em; font-weight: bold; line-height: 1; border-radius: 0.35em; vertical-align: middle; margin-left: 0.5rem\">DATE</span>\n",
              "</mark>\n",
              "&quot;. However, the high price of its products and limited application library caused problems, as did power struggles between executives. In \n",
              "<mark class=\"entity\" style=\"background: #bfe1d9; padding: 0.45em 0.6em; margin: 0 0.25em; line-height: 1; border-radius: 0.35em;\">\n",
              "    1985\n",
              "    <span style=\"font-size: 0.8em; font-weight: bold; line-height: 1; border-radius: 0.35em; vertical-align: middle; margin-left: 0.5rem\">DATE</span>\n",
              "</mark>\n",
              ", \n",
              "<mark class=\"entity\" style=\"background: #aa9cfc; padding: 0.45em 0.6em; margin: 0 0.25em; line-height: 1; border-radius: 0.35em;\">\n",
              "    Wozniak\n",
              "    <span style=\"font-size: 0.8em; font-weight: bold; line-height: 1; border-radius: 0.35em; vertical-align: middle; margin-left: 0.5rem\">PERSON</span>\n",
              "</mark>\n",
              " departed \n",
              "<mark class=\"entity\" style=\"background: #7aecec; padding: 0.45em 0.6em; margin: 0 0.25em; line-height: 1; border-radius: 0.35em;\">\n",
              "    Apple\n",
              "    <span style=\"font-size: 0.8em; font-weight: bold; line-height: 1; border-radius: 0.35em; vertical-align: middle; margin-left: 0.5rem\">ORG</span>\n",
              "</mark>\n",
              " amicably, while Jobs resigned to found \n",
              "<mark class=\"entity\" style=\"background: #7aecec; padding: 0.45em 0.6em; margin: 0 0.25em; line-height: 1; border-radius: 0.35em;\">\n",
              "    NeXT\n",
              "    <span style=\"font-size: 0.8em; font-weight: bold; line-height: 1; border-radius: 0.35em; vertical-align: middle; margin-left: 0.5rem\">ORG</span>\n",
              "</mark>\n",
              ", taking some \n",
              "<mark class=\"entity\" style=\"background: #7aecec; padding: 0.45em 0.6em; margin: 0 0.25em; line-height: 1; border-radius: 0.35em;\">\n",
              "    Apple\n",
              "    <span style=\"font-size: 0.8em; font-weight: bold; line-height: 1; border-radius: 0.35em; vertical-align: middle; margin-left: 0.5rem\">ORG</span>\n",
              "</mark>\n",
              " co-workers with him. As the market for personal computers expanded and evolved through \n",
              "<mark class=\"entity\" style=\"background: #bfe1d9; padding: 0.45em 0.6em; margin: 0 0.25em; line-height: 1; border-radius: 0.35em;\">\n",
              "    the 1990s\n",
              "    <span style=\"font-size: 0.8em; font-weight: bold; line-height: 1; border-radius: 0.35em; vertical-align: middle; margin-left: 0.5rem\">DATE</span>\n",
              "</mark>\n",
              ", \n",
              "<mark class=\"entity\" style=\"background: #7aecec; padding: 0.45em 0.6em; margin: 0 0.25em; line-height: 1; border-radius: 0.35em;\">\n",
              "    Apple\n",
              "    <span style=\"font-size: 0.8em; font-weight: bold; line-height: 1; border-radius: 0.35em; vertical-align: middle; margin-left: 0.5rem\">ORG</span>\n",
              "</mark>\n",
              " lost considerable market share to the lower-priced duopoly of \n",
              "<mark class=\"entity\" style=\"background: #7aecec; padding: 0.45em 0.6em; margin: 0 0.25em; line-height: 1; border-radius: 0.35em;\">\n",
              "    Microsoft\n",
              "    <span style=\"font-size: 0.8em; font-weight: bold; line-height: 1; border-radius: 0.35em; vertical-align: middle; margin-left: 0.5rem\">ORG</span>\n",
              "</mark>\n",
              " \n",
              "<mark class=\"entity\" style=\"background: #bfeeb7; padding: 0.45em 0.6em; margin: 0 0.25em; line-height: 1; border-radius: 0.35em;\">\n",
              "    Windows\n",
              "    <span style=\"font-size: 0.8em; font-weight: bold; line-height: 1; border-radius: 0.35em; vertical-align: middle; margin-left: 0.5rem\">PRODUCT</span>\n",
              "</mark>\n",
              " on \n",
              "<mark class=\"entity\" style=\"background: #7aecec; padding: 0.45em 0.6em; margin: 0 0.25em; line-height: 1; border-radius: 0.35em;\">\n",
              "    Intel\n",
              "    <span style=\"font-size: 0.8em; font-weight: bold; line-height: 1; border-radius: 0.35em; vertical-align: middle; margin-left: 0.5rem\">ORG</span>\n",
              "</mark>\n",
              " PC clones. The board recruited CEO \n",
              "<mark class=\"entity\" style=\"background: #aa9cfc; padding: 0.45em 0.6em; margin: 0 0.25em; line-height: 1; border-radius: 0.35em;\">\n",
              "    Gil Amelio\n",
              "    <span style=\"font-size: 0.8em; font-weight: bold; line-height: 1; border-radius: 0.35em; vertical-align: middle; margin-left: 0.5rem\">PERSON</span>\n",
              "</mark>\n",
              ", who prepared the struggling company for eventual success with extensive reforms, product focus and layoffs in his \n",
              "<mark class=\"entity\" style=\"background: #bfe1d9; padding: 0.45em 0.6em; margin: 0 0.25em; line-height: 1; border-radius: 0.35em;\">\n",
              "    500 day\n",
              "    <span style=\"font-size: 0.8em; font-weight: bold; line-height: 1; border-radius: 0.35em; vertical-align: middle; margin-left: 0.5rem\">DATE</span>\n",
              "</mark>\n",
              " tenure. In \n",
              "<mark class=\"entity\" style=\"background: #bfe1d9; padding: 0.45em 0.6em; margin: 0 0.25em; line-height: 1; border-radius: 0.35em;\">\n",
              "    1997\n",
              "    <span style=\"font-size: 0.8em; font-weight: bold; line-height: 1; border-radius: 0.35em; vertical-align: middle; margin-left: 0.5rem\">DATE</span>\n",
              "</mark>\n",
              ", \n",
              "<mark class=\"entity\" style=\"background: #7aecec; padding: 0.45em 0.6em; margin: 0 0.25em; line-height: 1; border-radius: 0.35em;\">\n",
              "    Gil\n",
              "    <span style=\"font-size: 0.8em; font-weight: bold; line-height: 1; border-radius: 0.35em; vertical-align: middle; margin-left: 0.5rem\">ORG</span>\n",
              "</mark>\n",
              " bought \n",
              "<mark class=\"entity\" style=\"background: #7aecec; padding: 0.45em 0.6em; margin: 0 0.25em; line-height: 1; border-radius: 0.35em;\">\n",
              "    NeXT\n",
              "    <span style=\"font-size: 0.8em; font-weight: bold; line-height: 1; border-radius: 0.35em; vertical-align: middle; margin-left: 0.5rem\">ORG</span>\n",
              "</mark>\n",
              ", to resolve \n",
              "<mark class=\"entity\" style=\"background: #7aecec; padding: 0.45em 0.6em; margin: 0 0.25em; line-height: 1; border-radius: 0.35em;\">\n",
              "    Apple\n",
              "    <span style=\"font-size: 0.8em; font-weight: bold; line-height: 1; border-radius: 0.35em; vertical-align: middle; margin-left: 0.5rem\">ORG</span>\n",
              "</mark>\n",
              "'s unsuccessful OS strategy and bring back \n",
              "<mark class=\"entity\" style=\"background: #aa9cfc; padding: 0.45em 0.6em; margin: 0 0.25em; line-height: 1; border-radius: 0.35em;\">\n",
              "    Steve Jobs\n",
              "    <span style=\"font-size: 0.8em; font-weight: bold; line-height: 1; border-radius: 0.35em; vertical-align: middle; margin-left: 0.5rem\">PERSON</span>\n",
              "</mark>\n",
              ", who replaced \n",
              "<mark class=\"entity\" style=\"background: #aa9cfc; padding: 0.45em 0.6em; margin: 0 0.25em; line-height: 1; border-radius: 0.35em;\">\n",
              "    Amelio\n",
              "    <span style=\"font-size: 0.8em; font-weight: bold; line-height: 1; border-radius: 0.35em; vertical-align: middle; margin-left: 0.5rem\">PERSON</span>\n",
              "</mark>\n",
              " as CEO \n",
              "<mark class=\"entity\" style=\"background: #bfe1d9; padding: 0.45em 0.6em; margin: 0 0.25em; line-height: 1; border-radius: 0.35em;\">\n",
              "    later that year\n",
              "    <span style=\"font-size: 0.8em; font-weight: bold; line-height: 1; border-radius: 0.35em; vertical-align: middle; margin-left: 0.5rem\">DATE</span>\n",
              "</mark>\n",
              ". \n",
              "<mark class=\"entity\" style=\"background: #7aecec; padding: 0.45em 0.6em; margin: 0 0.25em; line-height: 1; border-radius: 0.35em;\">\n",
              "    Apple\n",
              "    <span style=\"font-size: 0.8em; font-weight: bold; line-height: 1; border-radius: 0.35em; vertical-align: middle; margin-left: 0.5rem\">ORG</span>\n",
              "</mark>\n",
              " returned to profitability under the revitalizing &quot;Think different&quot; campaign, launching the \n",
              "<mark class=\"entity\" style=\"background: #7aecec; padding: 0.45em 0.6em; margin: 0 0.25em; line-height: 1; border-radius: 0.35em;\">\n",
              "    iMac\n",
              "    <span style=\"font-size: 0.8em; font-weight: bold; line-height: 1; border-radius: 0.35em; vertical-align: middle; margin-left: 0.5rem\">ORG</span>\n",
              "</mark>\n",
              " and \n",
              "<mark class=\"entity\" style=\"background: #7aecec; padding: 0.45em 0.6em; margin: 0 0.25em; line-height: 1; border-radius: 0.35em;\">\n",
              "    iPod\n",
              "    <span style=\"font-size: 0.8em; font-weight: bold; line-height: 1; border-radius: 0.35em; vertical-align: middle; margin-left: 0.5rem\">ORG</span>\n",
              "</mark>\n",
              ", opening a retail chain of \n",
              "<mark class=\"entity\" style=\"background: #7aecec; padding: 0.45em 0.6em; margin: 0 0.25em; line-height: 1; border-radius: 0.35em;\">\n",
              "    Apple Stores\n",
              "    <span style=\"font-size: 0.8em; font-weight: bold; line-height: 1; border-radius: 0.35em; vertical-align: middle; margin-left: 0.5rem\">ORG</span>\n",
              "</mark>\n",
              " in \n",
              "<mark class=\"entity\" style=\"background: #bfe1d9; padding: 0.45em 0.6em; margin: 0 0.25em; line-height: 1; border-radius: 0.35em;\">\n",
              "    2001\n",
              "    <span style=\"font-size: 0.8em; font-weight: bold; line-height: 1; border-radius: 0.35em; vertical-align: middle; margin-left: 0.5rem\">DATE</span>\n",
              "</mark>\n",
              ", and acquiring numerous companies to broaden their software portfolio. In \n",
              "<mark class=\"entity\" style=\"background: #bfe1d9; padding: 0.45em 0.6em; margin: 0 0.25em; line-height: 1; border-radius: 0.35em;\">\n",
              "    2007\n",
              "    <span style=\"font-size: 0.8em; font-weight: bold; line-height: 1; border-radius: 0.35em; vertical-align: middle; margin-left: 0.5rem\">DATE</span>\n",
              "</mark>\n",
              ", the company launched the \n",
              "<mark class=\"entity\" style=\"background: #bfeeb7; padding: 0.45em 0.6em; margin: 0 0.25em; line-height: 1; border-radius: 0.35em;\">\n",
              "    iPhone\n",
              "    <span style=\"font-size: 0.8em; font-weight: bold; line-height: 1; border-radius: 0.35em; vertical-align: middle; margin-left: 0.5rem\">PRODUCT</span>\n",
              "</mark>\n",
              " to critical acclaim and financial success. In \n",
              "<mark class=\"entity\" style=\"background: #bfe1d9; padding: 0.45em 0.6em; margin: 0 0.25em; line-height: 1; border-radius: 0.35em;\">\n",
              "    2011\n",
              "    <span style=\"font-size: 0.8em; font-weight: bold; line-height: 1; border-radius: 0.35em; vertical-align: middle; margin-left: 0.5rem\">DATE</span>\n",
              "</mark>\n",
              ", Jobs resigned as CEO due to health complications, and died \n",
              "<mark class=\"entity\" style=\"background: #bfe1d9; padding: 0.45em 0.6em; margin: 0 0.25em; line-height: 1; border-radius: 0.35em;\">\n",
              "    two months later\n",
              "    <span style=\"font-size: 0.8em; font-weight: bold; line-height: 1; border-radius: 0.35em; vertical-align: middle; margin-left: 0.5rem\">DATE</span>\n",
              "</mark>\n",
              ". He was succeeded by \n",
              "<mark class=\"entity\" style=\"background: #aa9cfc; padding: 0.45em 0.6em; margin: 0 0.25em; line-height: 1; border-radius: 0.35em;\">\n",
              "    Tim Cook\n",
              "    <span style=\"font-size: 0.8em; font-weight: bold; line-height: 1; border-radius: 0.35em; vertical-align: middle; margin-left: 0.5rem\">PERSON</span>\n",
              "</mark>\n",
              ". In \n",
              "<mark class=\"entity\" style=\"background: #bfe1d9; padding: 0.45em 0.6em; margin: 0 0.25em; line-height: 1; border-radius: 0.35em;\">\n",
              "    August 2018\n",
              "    <span style=\"font-size: 0.8em; font-weight: bold; line-height: 1; border-radius: 0.35em; vertical-align: middle; margin-left: 0.5rem\">DATE</span>\n",
              "</mark>\n",
              ", \n",
              "<mark class=\"entity\" style=\"background: #7aecec; padding: 0.45em 0.6em; margin: 0 0.25em; line-height: 1; border-radius: 0.35em;\">\n",
              "    Apple\n",
              "    <span style=\"font-size: 0.8em; font-weight: bold; line-height: 1; border-radius: 0.35em; vertical-align: middle; margin-left: 0.5rem\">ORG</span>\n",
              "</mark>\n",
              " became the \n",
              "<mark class=\"entity\" style=\"background: #e4e7d2; padding: 0.45em 0.6em; margin: 0 0.25em; line-height: 1; border-radius: 0.35em;\">\n",
              "    first\n",
              "    <span style=\"font-size: 0.8em; font-weight: bold; line-height: 1; border-radius: 0.35em; vertical-align: middle; margin-left: 0.5rem\">ORDINAL</span>\n",
              "</mark>\n",
              " publicly traded \n",
              "<mark class=\"entity\" style=\"background: #feca74; padding: 0.45em 0.6em; margin: 0 0.25em; line-height: 1; border-radius: 0.35em;\">\n",
              "    U.S.\n",
              "    <span style=\"font-size: 0.8em; font-weight: bold; line-height: 1; border-radius: 0.35em; vertical-align: middle; margin-left: 0.5rem\">GPE</span>\n",
              "</mark>\n",
              " company to be valued at \n",
              "<mark class=\"entity\" style=\"background: #e4e7d2; padding: 0.45em 0.6em; margin: 0 0.25em; line-height: 1; border-radius: 0.35em;\">\n",
              "    over $1 trillion\n",
              "    <span style=\"font-size: 0.8em; font-weight: bold; line-height: 1; border-radius: 0.35em; vertical-align: middle; margin-left: 0.5rem\">MONEY</span>\n",
              "</mark>\n",
              " and the \n",
              "<mark class=\"entity\" style=\"background: #e4e7d2; padding: 0.45em 0.6em; margin: 0 0.25em; line-height: 1; border-radius: 0.35em;\">\n",
              "    first\n",
              "    <span style=\"font-size: 0.8em; font-weight: bold; line-height: 1; border-radius: 0.35em; vertical-align: middle; margin-left: 0.5rem\">ORDINAL</span>\n",
              "</mark>\n",
              " valued over \n",
              "<mark class=\"entity\" style=\"background: #e4e7d2; padding: 0.45em 0.6em; margin: 0 0.25em; line-height: 1; border-radius: 0.35em;\">\n",
              "    $2 trillion\n",
              "    <span style=\"font-size: 0.8em; font-weight: bold; line-height: 1; border-radius: 0.35em; vertical-align: middle; margin-left: 0.5rem\">MONEY</span>\n",
              "</mark>\n",
              " \n",
              "<mark class=\"entity\" style=\"background: #bfe1d9; padding: 0.45em 0.6em; margin: 0 0.25em; line-height: 1; border-radius: 0.35em;\">\n",
              "    two years later\n",
              "    <span style=\"font-size: 0.8em; font-weight: bold; line-height: 1; border-radius: 0.35em; vertical-align: middle; margin-left: 0.5rem\">DATE</span>\n",
              "</mark>\n",
              ". It has a high level of brand loyalty and is ranked as the world's most valuable brand; as of \n",
              "<mark class=\"entity\" style=\"background: #bfe1d9; padding: 0.45em 0.6em; margin: 0 0.25em; line-height: 1; border-radius: 0.35em;\">\n",
              "    January 2021\n",
              "    <span style=\"font-size: 0.8em; font-weight: bold; line-height: 1; border-radius: 0.35em; vertical-align: middle; margin-left: 0.5rem\">DATE</span>\n",
              "</mark>\n",
              ", there are \n",
              "<mark class=\"entity\" style=\"background: #e4e7d2; padding: 0.45em 0.6em; margin: 0 0.25em; line-height: 1; border-radius: 0.35em;\">\n",
              "    1.65 billion\n",
              "    <span style=\"font-size: 0.8em; font-weight: bold; line-height: 1; border-radius: 0.35em; vertical-align: middle; margin-left: 0.5rem\">CARDINAL</span>\n",
              "</mark>\n",
              " \n",
              "<mark class=\"entity\" style=\"background: #7aecec; padding: 0.45em 0.6em; margin: 0 0.25em; line-height: 1; border-radius: 0.35em;\">\n",
              "    Apple\n",
              "    <span style=\"font-size: 0.8em; font-weight: bold; line-height: 1; border-radius: 0.35em; vertical-align: middle; margin-left: 0.5rem\">ORG</span>\n",
              "</mark>\n",
              " products in use worldwide. However, the company receives significant criticism regarding the labor practices of its contractors, its environmental practices, and business ethics, including anti-competitive behavior, and materials sourcing.</div></span>"
            ],
            "text/plain": [
              "<IPython.core.display.HTML object>"
            ]
          },
          "metadata": {}
        }
      ]
    },
    {
      "cell_type": "markdown",
      "source": [
        "###Score"
      ],
      "metadata": {
        "id": "SR_Gpq68XvE9"
      }
    },
    {
      "cell_type": "code",
      "source": [
        "#equate\n",
        "nlp_3 = NER_3"
      ],
      "metadata": {
        "id": "qaTN3CmzXw3U"
      },
      "execution_count": 41,
      "outputs": []
    },
    {
      "cell_type": "code",
      "source": [
        "#working code\n",
        "\n",
        "Appleexamples = []\n",
        "\n",
        "data_3 = [(Apple, {\"entities\": [(0,10,'ORG'), (17,25,'NORP'), (141,146,'ORG'),(210,224,'MONEY'), (228,232,'DATE'),\n",
        "(245,257,'DATE'), (300,304,'DATE'), (306,311,'ORG'), (327,333,'ORDINAL'), (371,377,'ORDINAL'),\n",
        "(437,445,'NORP'), (491,497,'ORG'), (499,505,'ORG'), (507,516,'ORG'), (522,530,'ORG'),\n",
        "(532,537,'ORG'), (553,563,'PERSON'), (565,578,'PERSON'), (584,596,'PERSON'), (600,604,'DATE'),\n",
        "(625,632,'PERSON'), (635,642,'PRODUCT'), (685,689,'PERSON'), (694,701,'PERSON'), (705,725,'ORG'),\n",
        "(729,733,'DATE'), (777,782,'ORG'), (821,825,'DATE'), (861,879,'DATE'), (881,886,'ORG'),\n",
        "(978,987,'PRODUCT'), (1037,1041,'DATE'), (1179,1183,'DATE'), (1185,1192,'PERSON'), (1202,1207,'ORG'),\n",
        "(1224,1228,'PERSON'), (1247,1251,'ORG'), (1265,1270,'ORG'),(1358,1367,'DATE'), (1369,1374,'ORG'),\n",
        "(1437,1446,'ORG'), (1447,1454,'PRODUCT'), (1458,1463,'ORG'), (1499,1509,'PERSON'), (1625,1632,'DATE'),\n",
        "(1644,1648,'DATE'), (1650,1653,'PERSON'), (1661,1665,'ORG'), (1678,1683,'ORG'), (1726,1736,'PERSON'),\n",
        "(1751,1757,'ORG'), (1765,1780,'DATE'), (1782,1787,'ORG'), (1879,1883,'PRODUCT'), (1888,1892,'PRODUCT'),\n",
        "(1920,1932,'ORG'), (1936,1940,'DATE'), (2015,2019,'DATE'), (2046,2052,'PRODUCT'), (2099,2103,'DATE'),\n",
        "(2105,2109,'PERSON'), (2164,2180,'DATE'), (2202,2210,'PERSON'), (2215,2226,'DATE'), (2228,2233,'ORG'),\n",
        "(2245,2250,'ORDINAL'), (2267,2271,'GPE'), (2296,2312,'MONEY'), (2321,2326,'ORDINAL'), (2334,2350,'MONEY'),\n",
        "(2351,2366,'DATE'), (2461,2473,'DATE'), (2485,2497,'CARDINAL'), (2498,2503,'ORG')]})]\n",
        "\n",
        "for text_3, annots_3 in data_3:\n",
        "    doc_3 = nlp_3.make_doc(text_3)\n",
        "    Appleexamples.append(Example.from_dict(doc_3, annots_3))\n",
        "\n",
        "#output to txt\n",
        "f = sys.stdout\n",
        "f = open('score_output.txt', 'a') #append to opened common file\n",
        " \n",
        "print(\"#Apple score\", file=f)\n",
        "print(nlp_3.evaluate(Appleexamples), file=f) #Global and local entity metrics\n",
        "f.close() #close file"
      ],
      "metadata": {
        "id": "1nuO1SVfXw-9"
      },
      "execution_count": 42,
      "outputs": []
    },
    {
      "cell_type": "code",
      "source": [
        "print(nlp_3.evaluate(Appleexamples))"
      ],
      "metadata": {
        "colab": {
          "base_uri": "https://localhost:8080/"
        },
        "id": "Hq5TFmChSmdR",
        "outputId": "feaef928-3535-4975-bfa4-6abd1e5bb8b0"
      },
      "execution_count": 43,
      "outputs": [
        {
          "output_type": "stream",
          "name": "stdout",
          "text": [
            "{'token_acc': 1.0, 'token_p': 1.0, 'token_r': 1.0, 'token_f': 1.0, 'tag_acc': None, 'sents_p': None, 'sents_r': None, 'sents_f': None, 'dep_uas': None, 'dep_las': None, 'dep_las_per_type': None, 'pos_acc': None, 'morph_acc': None, 'morph_micro_p': None, 'morph_micro_r': None, 'morph_micro_f': None, 'morph_per_feat': None, 'lemma_acc': None, 'ents_p': 0.875, 'ents_r': 0.8513513513513513, 'ents_f': 0.863013698630137, 'ents_per_type': {'ORG': {'p': 0.7857142857142857, 'r': 0.9166666666666666, 'f': 0.8461538461538461}, 'NORP': {'p': 1.0, 'r': 1.0, 'f': 1.0}, 'MONEY': {'p': 0.6666666666666666, 'r': 0.6666666666666666, 'f': 0.6666666666666666}, 'DATE': {'p': 1.0, 'r': 1.0, 'f': 1.0}, 'ORDINAL': {'p': 1.0, 'r': 1.0, 'f': 1.0}, 'CARDINAL': {'p': 0.5, 'r': 1.0, 'f': 0.6666666666666666}, 'PERSON': {'p': 0.9, 'r': 0.6923076923076923, 'f': 0.7826086956521738}, 'PRODUCT': {'p': 1.0, 'r': 0.3333333333333333, 'f': 0.5}, 'GPE': {'p': 1.0, 'r': 1.0, 'f': 1.0}}, 'speed': 5008.755618481249}\n"
          ]
        }
      ]
    },
    {
      "cell_type": "markdown",
      "source": [
        "###Loop"
      ],
      "metadata": {
        "id": "wlukSVLDEyOc"
      }
    },
    {
      "cell_type": "code",
      "source": [
        "#dataframing the entities and labels\n",
        "for ind in Appledf.index:\n",
        "  print(Appledf['AppleEntities'][ind], Appledf['AppleLabels'][ind])"
      ],
      "metadata": {
        "colab": {
          "base_uri": "https://localhost:8080/"
        },
        "outputId": "e1e8897c-27d2-4e09-9aa9-70d1f8754a3b",
        "id": "P35ErnQ0EyOc"
      },
      "execution_count": 44,
      "outputs": [
        {
          "output_type": "stream",
          "name": "stdout",
          "text": [
            "Apple Inc. ORG\n",
            "American NORP\n",
            "Apple ORG\n",
            "$274.5 billion MONEY\n",
            "2020 DATE\n",
            "January 2021 DATE\n",
            "2021 DATE\n",
            "Apple ORG\n",
            "fourth ORDINAL\n",
            "fourth ORDINAL\n",
            "Five CARDINAL\n",
            "American NORP\n",
            "Amazon ORG\n",
            "Google ORG\n",
            "Microsoft ORG\n",
            "Facebook ORG\n",
            "Apple ORG\n",
            "Steve Jobs PERSON\n",
            "Steve Wozniak PERSON\n",
            "Ronald Wayne PERSON\n",
            "1976 DATE\n",
            "Wozniak PERSON\n",
            "Apple ORG\n",
            "Wozniak PERSON\n",
            "Apple Computer, Inc. ORG\n",
            "1977 DATE\n",
            "the Apple II ORG\n",
            "1980 DATE\n",
            "the next few years DATE\n",
            "Apple ORG\n",
            "Macintosh ORG\n",
            "1984 DATE\n",
            "1985 DATE\n",
            "Wozniak PERSON\n",
            "Apple ORG\n",
            "NeXT ORG\n",
            "Apple ORG\n",
            "the 1990s DATE\n",
            "Apple ORG\n",
            "Microsoft ORG\n",
            "Windows PRODUCT\n",
            "Intel ORG\n",
            "Gil Amelio PERSON\n",
            "500 day DATE\n",
            "1997 DATE\n",
            "Gil ORG\n",
            "NeXT ORG\n",
            "Apple ORG\n",
            "Steve Jobs PERSON\n",
            "Amelio PERSON\n",
            "later that year DATE\n",
            "Apple ORG\n",
            "iMac ORG\n",
            "iPod ORG\n",
            "Apple Stores ORG\n",
            "2001 DATE\n",
            "2007 DATE\n",
            "iPhone PRODUCT\n",
            "2011 DATE\n",
            "two months later DATE\n",
            "Tim Cook PERSON\n",
            "August 2018 DATE\n",
            "Apple ORG\n",
            "first ORDINAL\n",
            "U.S. GPE\n",
            "over $1 trillion MONEY\n",
            "first ORDINAL\n",
            "$2 trillion MONEY\n",
            "two years later DATE\n",
            "January 2021 DATE\n",
            "1.65 billion CARDINAL\n",
            "Apple ORG\n"
          ]
        }
      ]
    },
    {
      "cell_type": "code",
      "source": [
        "#convert entities to list\n",
        "ApplelistEntities = Appledf['AppleEntities'].tolist()"
      ],
      "metadata": {
        "id": "SDx4lUVnEyOc"
      },
      "execution_count": 45,
      "outputs": []
    },
    {
      "cell_type": "code",
      "source": [
        "#entities sampling\n",
        "ApplelistEntities[0]"
      ],
      "metadata": {
        "colab": {
          "base_uri": "https://localhost:8080/"
        },
        "outputId": "b9430249-613f-4e15-8e65-0cd5b0fe3d32",
        "id": "Da3IYPiQEyOc"
      },
      "execution_count": 46,
      "outputs": [
        {
          "output_type": "execute_result",
          "data": {
            "text/plain": [
              "Apple Inc."
            ]
          },
          "metadata": {},
          "execution_count": 46
        }
      ]
    },
    {
      "cell_type": "code",
      "source": [
        "#convert labels to list\n",
        "ApplelistLabels = Appledf['AppleLabels'].tolist()"
      ],
      "metadata": {
        "id": "7aPcRBitEyOd"
      },
      "execution_count": 47,
      "outputs": []
    },
    {
      "cell_type": "code",
      "source": [
        "#label sampling\n",
        "ApplelistLabels[0]"
      ],
      "metadata": {
        "colab": {
          "base_uri": "https://localhost:8080/",
          "height": 0
        },
        "outputId": "8cc6b9ef-fc1b-469e-eaf8-745a63a772f3",
        "id": "XssclqiNEyOd"
      },
      "execution_count": 48,
      "outputs": [
        {
          "output_type": "execute_result",
          "data": {
            "application/vnd.google.colaboratory.intrinsic+json": {
              "type": "string"
            },
            "text/plain": [
              "'ORG'"
            ]
          },
          "metadata": {},
          "execution_count": 48
        }
      ]
    },
    {
      "cell_type": "code",
      "source": [
        "#For Apple\n",
        "\n",
        "PropLabel_3 = y_3[0][0]\n",
        "\n",
        "#output to owl\n",
        "f = sys.stdout\n",
        "f = open('p107443_output.owl', 'a') #append to opened common file\n",
        "\n",
        "#Apple SubClasses\n",
        "print(\"\\n#Apple SubClasses\", file=f)\n",
        "print(\"faang:{proplab_3} rdf:type rdfs:Class .\".format(proplab_3=PropLabel_3), file=f) #Class\n",
        "print(\"faang:{proplab_3} rdfs:subClassOf faang:FAANG .\".format(proplab_3=PropLabel_3), file=f) #Apple SubClass\n",
        "\n",
        "#Apple Individuals\n",
        "print(\"\\n#Apple Individuals\", file=f)\n",
        "print(\"faang:{proplab_3}PERSON rdf:type faang:{proplab_3} .\".format(proplab_3=PropLabel_3), file=f) \n",
        "print(\"faang:{proplab_3}NORP rdf:type faang:{proplab_3} .\".format(proplab_3=PropLabel_3), file=f) \n",
        "print(\"faang:{proplab_3}FAC rdf:type faang:{proplab_3} .\".format(proplab_3=PropLabel_3), file=f) \n",
        "print(\"faang:{proplab_3}ORG rdf:type faang:{proplab_3} .\".format(proplab_3=PropLabel_3), file=f) \n",
        "print(\"faang:{proplab_3}GPE rdf:type faang:{proplab_3} .\".format(proplab_3=PropLabel_3), file=f) \n",
        "print(\"faang:{proplab_3}LOC rdf:type faang:{proplab_3} .\".format(proplab_3=PropLabel_3), file=f) \n",
        "print(\"faang:{proplab_3}PRODUCT rdf:type faang:{proplab_3} .\".format(proplab_3=PropLabel_3), file=f) \n",
        "print(\"faang:{proplab_3}EVENT rdf:type faang:{proplab_3} .\".format(proplab_3=PropLabel_3), file=f) \n",
        "print(\"faang:{proplab_3}WORK_OF_ART rdf:type faang:{proplab_3} .\".format(proplab_3=PropLabel_3), file=f) \n",
        "print(\"faang:{proplab_3}LAW rdf:type faang:{proplab_3} .\".format(proplab_3=PropLabel_3), file=f) \n",
        "print(\"faang:{proplab_3}LANGUAGE rdf:type faang:{proplab_3} .\".format(proplab_3=PropLabel_3), file=f) \n",
        "print(\"faang:{proplab_3}DATE rdf:type faang:{proplab_3} .\".format(proplab_3=PropLabel_3), file=f) \n",
        "print(\"faang:{proplab_3}TIME rdf:type faang:{proplab_3} .\".format(proplab_3=PropLabel_3), file=f) \n",
        "print(\"faang:{proplab_3}PERCENT rdf:type faang:{proplab_3} .\".format(proplab_3=PropLabel_3), file=f) \n",
        "print(\"faang:{proplab_3}MONEY rdf:type faang:{proplab_3} .\".format(proplab_3=PropLabel_3), file=f) \n",
        "print(\"faang:{proplab_3}QUANTITY rdf:type faang:{proplab_3} .\".format(proplab_3=PropLabel_3), file=f) \n",
        "print(\"faang:{proplab_3}ORDINAL rdf:type faang:{proplab_3} .\".format(proplab_3=PropLabel_3), file=f) \n",
        "print(\"faang:{proplab_3}CARDINAL rdf:type faang:{proplab_3} .\".format(proplab_3=PropLabel_3), file=f) \n",
        "\n",
        "#Specific Apple Triples\n",
        "print(\"\\n#Apple Triples\", file=f)\n",
        "for i in range(len(ApplelistEntities)):\n",
        "  if ApplelistLabels[i]=='PERSON':\n",
        "    print('faang:{proplab_3}PERSON faang:{lab} \"{ent}\"^^xsd:string .' .format(proplab_3=PropLabel_3, lab='hasPersonName', ent=ApplelistEntities[i]), file=f)\n",
        "  elif ApplelistLabels[i]=='NORP':\n",
        "    print('faang:{proplab_3}NORP faang:{lab} \"{ent}\"^^xsd:string .' .format(proplab_3=PropLabel_3, lab='hasNationalityReligiousPolitical', ent=ApplelistEntities[i]), file=f)\n",
        "  elif ApplelistLabels[i]=='FAC':\n",
        "    print('faang:{proplab_3}FAC faang:{lab} \"{ent}\"^^xsd:string .' .format(proplab_3=PropLabel_3, lab='hasBuildingsAirportsHighwaysBridges', ent=ApplelistEntities[i]), file=f)\n",
        "  elif ApplelistLabels[i]=='ORG':\n",
        "    print('faang:{proplab_3}ORG faang:{lab} \"{ent}\"^^xsd:string .' .format(proplab_3=PropLabel_3, lab='hasCompaniesAgenciesInstitutions', ent=ApplelistEntities[i]), file=f)\n",
        "  elif ApplelistLabels[i]=='GPE':\n",
        "    print('faang:{proplab_3}GPE faang:{lab} \"{ent}\"^^xsd:string .' .format(proplab_3=PropLabel_3, lab='hasCountriesCitiesState', ent=ApplelistEntities[i]), file=f)\n",
        "  elif ApplelistLabels[i]=='LOC':\n",
        "    print('faang:{proplab_3}LOC faang:{lab} \"{ent}\"^^xsd:string .' .format(proplab_3=PropLabel_3, lab='hasLocation', ent=ApplelistEntities[i]), file=f)\n",
        "  elif ApplelistLabels[i]=='PRODUCT':\n",
        "    print('faang:{proplab_3}PRODUCT faang:{lab} \"{ent}\"^^xsd:string .' .format(proplab_3=PropLabel_3, lab='hasProduct', ent=ApplelistEntities[i]), file=f)\n",
        "  elif ApplelistLabels[i]=='EVENT':\n",
        "    print('faang:{proplab_3}EVENT faang:{lab} \"{ent}\"^^xsd:string .' .format(proplab_3=PropLabel_3, lab='hasEvent', ent=ApplelistEntities[i]), file=f)\n",
        "  elif ApplelistLabels[i]=='WORK_OF_ART':\n",
        "    print('faang:{proplab_3}WORK_OF_ART faang:{lab} \"{ent}\"^^xsd:string .' .format(proplab_3=PropLabel_3, lab='hasWorkOfArt', ent=ApplelistEntities[i]), file=f)\n",
        "  elif ApplelistLabels[i]=='LAW':\n",
        "    print('faang:{proplab_3}LAW faang:{lab} \"{ent}\"^^xsd:string .' .format(proplab_3=PropLabel_3, lab='hasLaw', ent=ApplelistEntities[i]), file=f)\n",
        "  elif ApplelistLabels[i]=='LANGUAGE':\n",
        "    print('faang:{proplab_3}LANGUAGE faang:{lab} \"{ent}\"^^xsd:string .' .format(proplab_3=PropLabel_3, lab='hasLanguage', ent=ApplelistEntities[i]), file=f)\n",
        "  elif ApplelistLabels[i]=='DATE':\n",
        "    print('faang:{proplab_3}DATE faang:{lab} \"{ent}\"^^xsd:string .' .format(proplab_3=PropLabel_3, lab='hasDate', ent=ApplelistEntities[i]), file=f)\n",
        "  elif ApplelistLabels[i]=='TIME':\n",
        "    print('faang:{proplab_3}TIME faang:{lab} \"{ent}\"^^xsd:string .' .format(proplab_3=PropLabel_3, lab='hasTime', ent=ApplelistEntities[i]), file=f)\n",
        "  elif ApplelistLabels[i]=='PERCENT':\n",
        "    print('faang:{proplab_3}PERCENT faang:{lab} \"{ent}\"^^xsd:string .' .format(proplab_3=PropLabel_3, lab='hasPercent', ent=ApplelistEntities[i]), file=f)\n",
        "  elif ApplelistLabels[i]=='MONEY':\n",
        "    print('faang:{proplab_3}MONEY faang:{lab} \"{ent}\"^^xsd:string .' .format(proplab_3=PropLabel_3, lab='hasMoney', ent=ApplelistEntities[i]), file=f)\n",
        "  elif ApplelistLabels[i]=='QUANTITY':\n",
        "    print('faang:{proplab_3}QUANTITY faang:{lab} \"{ent}\"^^xsd:string .' .format(proplab_3=PropLabel_3, lab='hasQuantity', ent=ApplelistEntities[i]), file=f)\n",
        "  elif ApplelistLabels[i]=='ORDINAL':\n",
        "    print('faang:{proplab_3}ORDINAL faang:{lab} \"{ent}\"^^xsd:string .' .format(proplab_3=PropLabel_3, lab='hasOrdinal', ent=ApplelistEntities[i]), file=f)\n",
        "  elif ApplelistLabels[i]=='CARDINAL':\n",
        "    print('faang:{proplab_3}CARDINAL faang:{lab} \"{ent}\"^^xsd:string .' .format(proplab_3=PropLabel_3, lab='hasCardinal', ent=ApplelistEntities[i]), file=f)\n",
        "f.close() #close file"
      ],
      "metadata": {
        "id": "lyWmRH6eEyOd"
      },
      "execution_count": 49,
      "outputs": []
    },
    {
      "cell_type": "markdown",
      "source": [
        "##4_Netflix"
      ],
      "metadata": {
        "id": "82JZ8W6QHpQF"
      }
    },
    {
      "cell_type": "markdown",
      "source": [
        "###Open and Load"
      ],
      "metadata": {
        "id": "0RMImBrpHpQG"
      }
    },
    {
      "cell_type": "code",
      "source": [
        "#open the file\n",
        "faang_4 = \"/content/drive/MyDrive/Colab Notebooks/OKR_NEE_datasets/4_Netflix.txt\"\n",
        "file4 = open(faang_4, \"r\")\n",
        "#read the file\n",
        "Netflix = file4.read()\n",
        "Netflix"
      ],
      "metadata": {
        "colab": {
          "base_uri": "https://localhost:8080/",
          "height": 0
        },
        "outputId": "09effdca-ce2d-4485-e995-9b2809a859e3",
        "id": "YZTRpcMRHpQG"
      },
      "execution_count": 50,
      "outputs": [
        {
          "output_type": "execute_result",
          "data": {
            "application/vnd.google.colaboratory.intrinsic+json": {
              "type": "string"
            },
            "text/plain": [
              "'Netflix, Inc. is an American over-the-top content platform and production company headquartered in Los Gatos, California. Netflix was founded in 1997 by Reed Hastings and Marc Randolph in Scotts Valley, California. The company\\'s primary business is a subscription-based streaming service offering online streaming from a library of films and television series, including those produced in-house. As of July 2021, Netflix had 209 million subscribers, including 72 million in the United States and Canada. It is available worldwide except in mainland China (due to local restrictions), Syria, North Korea, and Crimea (due to US sanctions). The company has offices in Canada, France, Brazil, the Netherlands, India, Japan, South Korea, and the United Kingdom. Netflix is a member of the Motion Picture Association (MPA), producing and distributing content from countries all over the globe. Netflix\\'s initial business model included DVD sales and rental by mail, but Hastings abandoned the sales about a year after the company\\'s founding to focus on the initial DVD rental business. Netflix expanded its business in 2007 with the introduction of streaming media while retaining the DVD and Blu-ray rental business. The company expanded internationally in 2010 with streaming available in Canada, followed by Latin America and the Caribbean. Netflix entered the content-production industry in 2013, debuting its first series House of Cards. Since 2012, Netflix has taken more of an active role as producer and distributor for both film and television series, and to that end, offers a variety of \"Netflix Original\" content through its online library. By January 2016, Netflix services operated in more than 190 countries. Netflix released an estimated 126 original series and films in 2016, more than any other network or cable channel. As of December 31, 2020, the company had $16 billion in long term debt, which it accumulated to fund its growth. The company is ranked 164th on the Fortune 500 and 284th on the Forbes Global 2000. On July 10, 2020, Netflix became the largest entertainment/media company by market capitalization. In 2021, Netflix was ranked as the 8th most trusted brand globally by Morning Consult. During the 2010s decade, Netflix was the top-performing stock in the S&P 500 stock market index, with a total return of 3,693%.'"
            ]
          },
          "metadata": {},
          "execution_count": 50
        }
      ]
    },
    {
      "cell_type": "code",
      "source": [
        "#load spacy\n",
        "NER_4 = spacy.load(\"en_core_web_md\")"
      ],
      "metadata": {
        "id": "yTfl8FW5HpQG"
      },
      "execution_count": 51,
      "outputs": []
    },
    {
      "cell_type": "markdown",
      "source": [
        "###spaCy and displaCy"
      ],
      "metadata": {
        "id": "AboGjI-IHpQG"
      }
    },
    {
      "cell_type": "code",
      "source": [
        "#get the labels and entities\n",
        "Netflixdoc = NER_4(Netflix)\n",
        "\n",
        "Netflixentities = []\n",
        "Netflixlabels = []\n",
        "Netflixstartpos = []\n",
        "Netflixendpos = []\n",
        "\n",
        "for ent in Netflixdoc.ents:\n",
        "  Netflixentities.append(ent)\n",
        "  Netflixlabels.append(ent.label_)\n",
        "  Netflixstartpos.append(ent.start_char)\n",
        "  Netflixendpos.append(ent.end_char)\n",
        "    \n",
        "Netflixdf = pd.DataFrame({'NetflixEntities':Netflixentities,'NetflixLabels':Netflixlabels, 'Position_Start':Netflixstartpos, 'Position_End':Netflixendpos})\n",
        "\n",
        "Netflixdf\n",
        "\n",
        "Netflixdf.to_csv(r'/content/drive/MyDrive/Colab Notebooks/OKR_NEE_datasets/out.csv', index = False)"
      ],
      "metadata": {
        "id": "W8R0ATVnHpQG"
      },
      "execution_count": 52,
      "outputs": []
    },
    {
      "cell_type": "code",
      "source": [
        "#Count\n",
        "items_4 = [x.text for x in Netflixdoc.ents]\n",
        "y_4 = Counter(items_4).most_common(5) #top 5"
      ],
      "metadata": {
        "id": "QcrhzgQNpCI4"
      },
      "execution_count": 53,
      "outputs": []
    },
    {
      "cell_type": "code",
      "source": [
        "y_4[0][0] #highest frequency"
      ],
      "metadata": {
        "colab": {
          "base_uri": "https://localhost:8080/",
          "height": 0
        },
        "id": "ryxs52b6pCMQ",
        "outputId": "0dd2cf8d-374d-4b97-cf31-0d5cc2fd600d"
      },
      "execution_count": 54,
      "outputs": [
        {
          "output_type": "execute_result",
          "data": {
            "application/vnd.google.colaboratory.intrinsic+json": {
              "type": "string"
            },
            "text/plain": [
              "'Netflix'"
            ]
          },
          "metadata": {},
          "execution_count": 54
        }
      ]
    },
    {
      "cell_type": "code",
      "source": [
        "#visualization\n",
        "doc_4 = NER_4(Netflix)\n",
        "spacy.displacy.render(doc_4, style=\"ent\", jupyter=True)"
      ],
      "metadata": {
        "colab": {
          "base_uri": "https://localhost:8080/",
          "height": 0
        },
        "id": "QGlr5mJKCgQk",
        "outputId": "2e6c99e8-c92b-4105-8707-13eb9ff2f7b1"
      },
      "execution_count": 55,
      "outputs": [
        {
          "output_type": "display_data",
          "data": {
            "text/html": [
              "<span class=\"tex2jax_ignore\"><div class=\"entities\" style=\"line-height: 2.5; direction: ltr\">\n",
              "<mark class=\"entity\" style=\"background: #7aecec; padding: 0.45em 0.6em; margin: 0 0.25em; line-height: 1; border-radius: 0.35em;\">\n",
              "    Netflix, Inc.\n",
              "    <span style=\"font-size: 0.8em; font-weight: bold; line-height: 1; border-radius: 0.35em; vertical-align: middle; margin-left: 0.5rem\">ORG</span>\n",
              "</mark>\n",
              " is an \n",
              "<mark class=\"entity\" style=\"background: #c887fb; padding: 0.45em 0.6em; margin: 0 0.25em; line-height: 1; border-radius: 0.35em;\">\n",
              "    American\n",
              "    <span style=\"font-size: 0.8em; font-weight: bold; line-height: 1; border-radius: 0.35em; vertical-align: middle; margin-left: 0.5rem\">NORP</span>\n",
              "</mark>\n",
              " over-the-top content platform and production company headquartered in \n",
              "<mark class=\"entity\" style=\"background: #feca74; padding: 0.45em 0.6em; margin: 0 0.25em; line-height: 1; border-radius: 0.35em;\">\n",
              "    Los Gatos\n",
              "    <span style=\"font-size: 0.8em; font-weight: bold; line-height: 1; border-radius: 0.35em; vertical-align: middle; margin-left: 0.5rem\">GPE</span>\n",
              "</mark>\n",
              ", \n",
              "<mark class=\"entity\" style=\"background: #feca74; padding: 0.45em 0.6em; margin: 0 0.25em; line-height: 1; border-radius: 0.35em;\">\n",
              "    California\n",
              "    <span style=\"font-size: 0.8em; font-weight: bold; line-height: 1; border-radius: 0.35em; vertical-align: middle; margin-left: 0.5rem\">GPE</span>\n",
              "</mark>\n",
              ". \n",
              "<mark class=\"entity\" style=\"background: #7aecec; padding: 0.45em 0.6em; margin: 0 0.25em; line-height: 1; border-radius: 0.35em;\">\n",
              "    Netflix\n",
              "    <span style=\"font-size: 0.8em; font-weight: bold; line-height: 1; border-radius: 0.35em; vertical-align: middle; margin-left: 0.5rem\">ORG</span>\n",
              "</mark>\n",
              " was founded in \n",
              "<mark class=\"entity\" style=\"background: #bfe1d9; padding: 0.45em 0.6em; margin: 0 0.25em; line-height: 1; border-radius: 0.35em;\">\n",
              "    1997\n",
              "    <span style=\"font-size: 0.8em; font-weight: bold; line-height: 1; border-radius: 0.35em; vertical-align: middle; margin-left: 0.5rem\">DATE</span>\n",
              "</mark>\n",
              " by \n",
              "<mark class=\"entity\" style=\"background: #aa9cfc; padding: 0.45em 0.6em; margin: 0 0.25em; line-height: 1; border-radius: 0.35em;\">\n",
              "    Reed Hastings\n",
              "    <span style=\"font-size: 0.8em; font-weight: bold; line-height: 1; border-radius: 0.35em; vertical-align: middle; margin-left: 0.5rem\">PERSON</span>\n",
              "</mark>\n",
              " and \n",
              "<mark class=\"entity\" style=\"background: #aa9cfc; padding: 0.45em 0.6em; margin: 0 0.25em; line-height: 1; border-radius: 0.35em;\">\n",
              "    Marc Randolph\n",
              "    <span style=\"font-size: 0.8em; font-weight: bold; line-height: 1; border-radius: 0.35em; vertical-align: middle; margin-left: 0.5rem\">PERSON</span>\n",
              "</mark>\n",
              " in \n",
              "<mark class=\"entity\" style=\"background: #feca74; padding: 0.45em 0.6em; margin: 0 0.25em; line-height: 1; border-radius: 0.35em;\">\n",
              "    Scotts Valley\n",
              "    <span style=\"font-size: 0.8em; font-weight: bold; line-height: 1; border-radius: 0.35em; vertical-align: middle; margin-left: 0.5rem\">GPE</span>\n",
              "</mark>\n",
              ", \n",
              "<mark class=\"entity\" style=\"background: #feca74; padding: 0.45em 0.6em; margin: 0 0.25em; line-height: 1; border-radius: 0.35em;\">\n",
              "    California\n",
              "    <span style=\"font-size: 0.8em; font-weight: bold; line-height: 1; border-radius: 0.35em; vertical-align: middle; margin-left: 0.5rem\">GPE</span>\n",
              "</mark>\n",
              ". The company's primary business is a subscription-based streaming service offering online streaming from a library of films and television series, including those produced in-house. As of \n",
              "<mark class=\"entity\" style=\"background: #bfe1d9; padding: 0.45em 0.6em; margin: 0 0.25em; line-height: 1; border-radius: 0.35em;\">\n",
              "    July 2021\n",
              "    <span style=\"font-size: 0.8em; font-weight: bold; line-height: 1; border-radius: 0.35em; vertical-align: middle; margin-left: 0.5rem\">DATE</span>\n",
              "</mark>\n",
              ", \n",
              "<mark class=\"entity\" style=\"background: #7aecec; padding: 0.45em 0.6em; margin: 0 0.25em; line-height: 1; border-radius: 0.35em;\">\n",
              "    Netflix\n",
              "    <span style=\"font-size: 0.8em; font-weight: bold; line-height: 1; border-radius: 0.35em; vertical-align: middle; margin-left: 0.5rem\">ORG</span>\n",
              "</mark>\n",
              " had \n",
              "<mark class=\"entity\" style=\"background: #e4e7d2; padding: 0.45em 0.6em; margin: 0 0.25em; line-height: 1; border-radius: 0.35em;\">\n",
              "    209 million\n",
              "    <span style=\"font-size: 0.8em; font-weight: bold; line-height: 1; border-radius: 0.35em; vertical-align: middle; margin-left: 0.5rem\">CARDINAL</span>\n",
              "</mark>\n",
              " subscribers, including \n",
              "<mark class=\"entity\" style=\"background: #e4e7d2; padding: 0.45em 0.6em; margin: 0 0.25em; line-height: 1; border-radius: 0.35em;\">\n",
              "    72 million\n",
              "    <span style=\"font-size: 0.8em; font-weight: bold; line-height: 1; border-radius: 0.35em; vertical-align: middle; margin-left: 0.5rem\">CARDINAL</span>\n",
              "</mark>\n",
              " in \n",
              "<mark class=\"entity\" style=\"background: #feca74; padding: 0.45em 0.6em; margin: 0 0.25em; line-height: 1; border-radius: 0.35em;\">\n",
              "    the United States\n",
              "    <span style=\"font-size: 0.8em; font-weight: bold; line-height: 1; border-radius: 0.35em; vertical-align: middle; margin-left: 0.5rem\">GPE</span>\n",
              "</mark>\n",
              " and \n",
              "<mark class=\"entity\" style=\"background: #feca74; padding: 0.45em 0.6em; margin: 0 0.25em; line-height: 1; border-radius: 0.35em;\">\n",
              "    Canada\n",
              "    <span style=\"font-size: 0.8em; font-weight: bold; line-height: 1; border-radius: 0.35em; vertical-align: middle; margin-left: 0.5rem\">GPE</span>\n",
              "</mark>\n",
              ". It is available worldwide except in mainland \n",
              "<mark class=\"entity\" style=\"background: #feca74; padding: 0.45em 0.6em; margin: 0 0.25em; line-height: 1; border-radius: 0.35em;\">\n",
              "    China\n",
              "    <span style=\"font-size: 0.8em; font-weight: bold; line-height: 1; border-radius: 0.35em; vertical-align: middle; margin-left: 0.5rem\">GPE</span>\n",
              "</mark>\n",
              " (due to local restrictions), \n",
              "<mark class=\"entity\" style=\"background: #feca74; padding: 0.45em 0.6em; margin: 0 0.25em; line-height: 1; border-radius: 0.35em;\">\n",
              "    Syria\n",
              "    <span style=\"font-size: 0.8em; font-weight: bold; line-height: 1; border-radius: 0.35em; vertical-align: middle; margin-left: 0.5rem\">GPE</span>\n",
              "</mark>\n",
              ", \n",
              "<mark class=\"entity\" style=\"background: #feca74; padding: 0.45em 0.6em; margin: 0 0.25em; line-height: 1; border-radius: 0.35em;\">\n",
              "    North Korea\n",
              "    <span style=\"font-size: 0.8em; font-weight: bold; line-height: 1; border-radius: 0.35em; vertical-align: middle; margin-left: 0.5rem\">GPE</span>\n",
              "</mark>\n",
              ", and \n",
              "<mark class=\"entity\" style=\"background: #feca74; padding: 0.45em 0.6em; margin: 0 0.25em; line-height: 1; border-radius: 0.35em;\">\n",
              "    Crimea\n",
              "    <span style=\"font-size: 0.8em; font-weight: bold; line-height: 1; border-radius: 0.35em; vertical-align: middle; margin-left: 0.5rem\">GPE</span>\n",
              "</mark>\n",
              " (due to \n",
              "<mark class=\"entity\" style=\"background: #feca74; padding: 0.45em 0.6em; margin: 0 0.25em; line-height: 1; border-radius: 0.35em;\">\n",
              "    US\n",
              "    <span style=\"font-size: 0.8em; font-weight: bold; line-height: 1; border-radius: 0.35em; vertical-align: middle; margin-left: 0.5rem\">GPE</span>\n",
              "</mark>\n",
              " sanctions). The company has offices in \n",
              "<mark class=\"entity\" style=\"background: #feca74; padding: 0.45em 0.6em; margin: 0 0.25em; line-height: 1; border-radius: 0.35em;\">\n",
              "    Canada\n",
              "    <span style=\"font-size: 0.8em; font-weight: bold; line-height: 1; border-radius: 0.35em; vertical-align: middle; margin-left: 0.5rem\">GPE</span>\n",
              "</mark>\n",
              ", \n",
              "<mark class=\"entity\" style=\"background: #feca74; padding: 0.45em 0.6em; margin: 0 0.25em; line-height: 1; border-radius: 0.35em;\">\n",
              "    France\n",
              "    <span style=\"font-size: 0.8em; font-weight: bold; line-height: 1; border-radius: 0.35em; vertical-align: middle; margin-left: 0.5rem\">GPE</span>\n",
              "</mark>\n",
              ", \n",
              "<mark class=\"entity\" style=\"background: #feca74; padding: 0.45em 0.6em; margin: 0 0.25em; line-height: 1; border-radius: 0.35em;\">\n",
              "    Brazil\n",
              "    <span style=\"font-size: 0.8em; font-weight: bold; line-height: 1; border-radius: 0.35em; vertical-align: middle; margin-left: 0.5rem\">GPE</span>\n",
              "</mark>\n",
              ", the \n",
              "<mark class=\"entity\" style=\"background: #feca74; padding: 0.45em 0.6em; margin: 0 0.25em; line-height: 1; border-radius: 0.35em;\">\n",
              "    Netherlands\n",
              "    <span style=\"font-size: 0.8em; font-weight: bold; line-height: 1; border-radius: 0.35em; vertical-align: middle; margin-left: 0.5rem\">GPE</span>\n",
              "</mark>\n",
              ", \n",
              "<mark class=\"entity\" style=\"background: #feca74; padding: 0.45em 0.6em; margin: 0 0.25em; line-height: 1; border-radius: 0.35em;\">\n",
              "    India\n",
              "    <span style=\"font-size: 0.8em; font-weight: bold; line-height: 1; border-radius: 0.35em; vertical-align: middle; margin-left: 0.5rem\">GPE</span>\n",
              "</mark>\n",
              ", \n",
              "<mark class=\"entity\" style=\"background: #feca74; padding: 0.45em 0.6em; margin: 0 0.25em; line-height: 1; border-radius: 0.35em;\">\n",
              "    Japan\n",
              "    <span style=\"font-size: 0.8em; font-weight: bold; line-height: 1; border-radius: 0.35em; vertical-align: middle; margin-left: 0.5rem\">GPE</span>\n",
              "</mark>\n",
              ", \n",
              "<mark class=\"entity\" style=\"background: #feca74; padding: 0.45em 0.6em; margin: 0 0.25em; line-height: 1; border-radius: 0.35em;\">\n",
              "    South Korea\n",
              "    <span style=\"font-size: 0.8em; font-weight: bold; line-height: 1; border-radius: 0.35em; vertical-align: middle; margin-left: 0.5rem\">GPE</span>\n",
              "</mark>\n",
              ", and \n",
              "<mark class=\"entity\" style=\"background: #feca74; padding: 0.45em 0.6em; margin: 0 0.25em; line-height: 1; border-radius: 0.35em;\">\n",
              "    the United Kingdom\n",
              "    <span style=\"font-size: 0.8em; font-weight: bold; line-height: 1; border-radius: 0.35em; vertical-align: middle; margin-left: 0.5rem\">GPE</span>\n",
              "</mark>\n",
              ". \n",
              "<mark class=\"entity\" style=\"background: #7aecec; padding: 0.45em 0.6em; margin: 0 0.25em; line-height: 1; border-radius: 0.35em;\">\n",
              "    Netflix\n",
              "    <span style=\"font-size: 0.8em; font-weight: bold; line-height: 1; border-radius: 0.35em; vertical-align: middle; margin-left: 0.5rem\">ORG</span>\n",
              "</mark>\n",
              " is a member of \n",
              "<mark class=\"entity\" style=\"background: #7aecec; padding: 0.45em 0.6em; margin: 0 0.25em; line-height: 1; border-radius: 0.35em;\">\n",
              "    the Motion Picture Association\n",
              "    <span style=\"font-size: 0.8em; font-weight: bold; line-height: 1; border-radius: 0.35em; vertical-align: middle; margin-left: 0.5rem\">ORG</span>\n",
              "</mark>\n",
              " (\n",
              "<mark class=\"entity\" style=\"background: #7aecec; padding: 0.45em 0.6em; margin: 0 0.25em; line-height: 1; border-radius: 0.35em;\">\n",
              "    MPA\n",
              "    <span style=\"font-size: 0.8em; font-weight: bold; line-height: 1; border-radius: 0.35em; vertical-align: middle; margin-left: 0.5rem\">ORG</span>\n",
              "</mark>\n",
              "), producing and distributing content from countries all over the globe. \n",
              "<mark class=\"entity\" style=\"background: #7aecec; padding: 0.45em 0.6em; margin: 0 0.25em; line-height: 1; border-radius: 0.35em;\">\n",
              "    Netflix\n",
              "    <span style=\"font-size: 0.8em; font-weight: bold; line-height: 1; border-radius: 0.35em; vertical-align: middle; margin-left: 0.5rem\">ORG</span>\n",
              "</mark>\n",
              "'s initial business model included DVD sales and rental by mail, but \n",
              "<mark class=\"entity\" style=\"background: #aa9cfc; padding: 0.45em 0.6em; margin: 0 0.25em; line-height: 1; border-radius: 0.35em;\">\n",
              "    Hastings\n",
              "    <span style=\"font-size: 0.8em; font-weight: bold; line-height: 1; border-radius: 0.35em; vertical-align: middle; margin-left: 0.5rem\">PERSON</span>\n",
              "</mark>\n",
              " abandoned the sales \n",
              "<mark class=\"entity\" style=\"background: #bfe1d9; padding: 0.45em 0.6em; margin: 0 0.25em; line-height: 1; border-radius: 0.35em;\">\n",
              "    about a year\n",
              "    <span style=\"font-size: 0.8em; font-weight: bold; line-height: 1; border-radius: 0.35em; vertical-align: middle; margin-left: 0.5rem\">DATE</span>\n",
              "</mark>\n",
              " after the company's founding to focus on the initial DVD rental business. \n",
              "<mark class=\"entity\" style=\"background: #7aecec; padding: 0.45em 0.6em; margin: 0 0.25em; line-height: 1; border-radius: 0.35em;\">\n",
              "    Netflix\n",
              "    <span style=\"font-size: 0.8em; font-weight: bold; line-height: 1; border-radius: 0.35em; vertical-align: middle; margin-left: 0.5rem\">ORG</span>\n",
              "</mark>\n",
              " expanded its business in \n",
              "<mark class=\"entity\" style=\"background: #bfe1d9; padding: 0.45em 0.6em; margin: 0 0.25em; line-height: 1; border-radius: 0.35em;\">\n",
              "    2007\n",
              "    <span style=\"font-size: 0.8em; font-weight: bold; line-height: 1; border-radius: 0.35em; vertical-align: middle; margin-left: 0.5rem\">DATE</span>\n",
              "</mark>\n",
              " with the introduction of streaming media while retaining the DVD and \n",
              "<mark class=\"entity\" style=\"background: #7aecec; padding: 0.45em 0.6em; margin: 0 0.25em; line-height: 1; border-radius: 0.35em;\">\n",
              "    Blu-ray\n",
              "    <span style=\"font-size: 0.8em; font-weight: bold; line-height: 1; border-radius: 0.35em; vertical-align: middle; margin-left: 0.5rem\">ORG</span>\n",
              "</mark>\n",
              " rental business. The company expanded internationally in \n",
              "<mark class=\"entity\" style=\"background: #bfe1d9; padding: 0.45em 0.6em; margin: 0 0.25em; line-height: 1; border-radius: 0.35em;\">\n",
              "    2010\n",
              "    <span style=\"font-size: 0.8em; font-weight: bold; line-height: 1; border-radius: 0.35em; vertical-align: middle; margin-left: 0.5rem\">DATE</span>\n",
              "</mark>\n",
              " with streaming available in \n",
              "<mark class=\"entity\" style=\"background: #feca74; padding: 0.45em 0.6em; margin: 0 0.25em; line-height: 1; border-radius: 0.35em;\">\n",
              "    Canada\n",
              "    <span style=\"font-size: 0.8em; font-weight: bold; line-height: 1; border-radius: 0.35em; vertical-align: middle; margin-left: 0.5rem\">GPE</span>\n",
              "</mark>\n",
              ", followed by \n",
              "<mark class=\"entity\" style=\"background: #ff9561; padding: 0.45em 0.6em; margin: 0 0.25em; line-height: 1; border-radius: 0.35em;\">\n",
              "    Latin America\n",
              "    <span style=\"font-size: 0.8em; font-weight: bold; line-height: 1; border-radius: 0.35em; vertical-align: middle; margin-left: 0.5rem\">LOC</span>\n",
              "</mark>\n",
              " and the \n",
              "<mark class=\"entity\" style=\"background: #ff9561; padding: 0.45em 0.6em; margin: 0 0.25em; line-height: 1; border-radius: 0.35em;\">\n",
              "    Caribbean\n",
              "    <span style=\"font-size: 0.8em; font-weight: bold; line-height: 1; border-radius: 0.35em; vertical-align: middle; margin-left: 0.5rem\">LOC</span>\n",
              "</mark>\n",
              ". \n",
              "<mark class=\"entity\" style=\"background: #7aecec; padding: 0.45em 0.6em; margin: 0 0.25em; line-height: 1; border-radius: 0.35em;\">\n",
              "    Netflix\n",
              "    <span style=\"font-size: 0.8em; font-weight: bold; line-height: 1; border-radius: 0.35em; vertical-align: middle; margin-left: 0.5rem\">ORG</span>\n",
              "</mark>\n",
              " entered the content-production industry in \n",
              "<mark class=\"entity\" style=\"background: #bfe1d9; padding: 0.45em 0.6em; margin: 0 0.25em; line-height: 1; border-radius: 0.35em;\">\n",
              "    2013\n",
              "    <span style=\"font-size: 0.8em; font-weight: bold; line-height: 1; border-radius: 0.35em; vertical-align: middle; margin-left: 0.5rem\">DATE</span>\n",
              "</mark>\n",
              ", debuting its \n",
              "<mark class=\"entity\" style=\"background: #e4e7d2; padding: 0.45em 0.6em; margin: 0 0.25em; line-height: 1; border-radius: 0.35em;\">\n",
              "    first\n",
              "    <span style=\"font-size: 0.8em; font-weight: bold; line-height: 1; border-radius: 0.35em; vertical-align: middle; margin-left: 0.5rem\">ORDINAL</span>\n",
              "</mark>\n",
              " series \n",
              "<mark class=\"entity\" style=\"background: #7aecec; padding: 0.45em 0.6em; margin: 0 0.25em; line-height: 1; border-radius: 0.35em;\">\n",
              "    House of Cards\n",
              "    <span style=\"font-size: 0.8em; font-weight: bold; line-height: 1; border-radius: 0.35em; vertical-align: middle; margin-left: 0.5rem\">ORG</span>\n",
              "</mark>\n",
              ". Since \n",
              "<mark class=\"entity\" style=\"background: #bfe1d9; padding: 0.45em 0.6em; margin: 0 0.25em; line-height: 1; border-radius: 0.35em;\">\n",
              "    2012\n",
              "    <span style=\"font-size: 0.8em; font-weight: bold; line-height: 1; border-radius: 0.35em; vertical-align: middle; margin-left: 0.5rem\">DATE</span>\n",
              "</mark>\n",
              ", \n",
              "<mark class=\"entity\" style=\"background: #7aecec; padding: 0.45em 0.6em; margin: 0 0.25em; line-height: 1; border-radius: 0.35em;\">\n",
              "    Netflix\n",
              "    <span style=\"font-size: 0.8em; font-weight: bold; line-height: 1; border-radius: 0.35em; vertical-align: middle; margin-left: 0.5rem\">ORG</span>\n",
              "</mark>\n",
              " has taken more of an active role as producer and distributor for both film and television series, and to that end, offers a variety of &quot;\n",
              "<mark class=\"entity\" style=\"background: #f0d0ff; padding: 0.45em 0.6em; margin: 0 0.25em; line-height: 1; border-radius: 0.35em;\">\n",
              "    Netflix Original\n",
              "    <span style=\"font-size: 0.8em; font-weight: bold; line-height: 1; border-radius: 0.35em; vertical-align: middle; margin-left: 0.5rem\">WORK_OF_ART</span>\n",
              "</mark>\n",
              "&quot; content through its online library. By \n",
              "<mark class=\"entity\" style=\"background: #bfe1d9; padding: 0.45em 0.6em; margin: 0 0.25em; line-height: 1; border-radius: 0.35em;\">\n",
              "    January 2016\n",
              "    <span style=\"font-size: 0.8em; font-weight: bold; line-height: 1; border-radius: 0.35em; vertical-align: middle; margin-left: 0.5rem\">DATE</span>\n",
              "</mark>\n",
              ", \n",
              "<mark class=\"entity\" style=\"background: #7aecec; padding: 0.45em 0.6em; margin: 0 0.25em; line-height: 1; border-radius: 0.35em;\">\n",
              "    Netflix\n",
              "    <span style=\"font-size: 0.8em; font-weight: bold; line-height: 1; border-radius: 0.35em; vertical-align: middle; margin-left: 0.5rem\">ORG</span>\n",
              "</mark>\n",
              " services operated in \n",
              "<mark class=\"entity\" style=\"background: #e4e7d2; padding: 0.45em 0.6em; margin: 0 0.25em; line-height: 1; border-radius: 0.35em;\">\n",
              "    more than 190\n",
              "    <span style=\"font-size: 0.8em; font-weight: bold; line-height: 1; border-radius: 0.35em; vertical-align: middle; margin-left: 0.5rem\">CARDINAL</span>\n",
              "</mark>\n",
              " countries. \n",
              "<mark class=\"entity\" style=\"background: #7aecec; padding: 0.45em 0.6em; margin: 0 0.25em; line-height: 1; border-radius: 0.35em;\">\n",
              "    Netflix\n",
              "    <span style=\"font-size: 0.8em; font-weight: bold; line-height: 1; border-radius: 0.35em; vertical-align: middle; margin-left: 0.5rem\">ORG</span>\n",
              "</mark>\n",
              " released \n",
              "<mark class=\"entity\" style=\"background: #e4e7d2; padding: 0.45em 0.6em; margin: 0 0.25em; line-height: 1; border-radius: 0.35em;\">\n",
              "    an estimated 126\n",
              "    <span style=\"font-size: 0.8em; font-weight: bold; line-height: 1; border-radius: 0.35em; vertical-align: middle; margin-left: 0.5rem\">CARDINAL</span>\n",
              "</mark>\n",
              " original series and films in \n",
              "<mark class=\"entity\" style=\"background: #bfe1d9; padding: 0.45em 0.6em; margin: 0 0.25em; line-height: 1; border-radius: 0.35em;\">\n",
              "    2016\n",
              "    <span style=\"font-size: 0.8em; font-weight: bold; line-height: 1; border-radius: 0.35em; vertical-align: middle; margin-left: 0.5rem\">DATE</span>\n",
              "</mark>\n",
              ", more than any other network or cable channel. As of \n",
              "<mark class=\"entity\" style=\"background: #bfe1d9; padding: 0.45em 0.6em; margin: 0 0.25em; line-height: 1; border-radius: 0.35em;\">\n",
              "    December 31, 2020\n",
              "    <span style=\"font-size: 0.8em; font-weight: bold; line-height: 1; border-radius: 0.35em; vertical-align: middle; margin-left: 0.5rem\">DATE</span>\n",
              "</mark>\n",
              ", the company had \n",
              "<mark class=\"entity\" style=\"background: #e4e7d2; padding: 0.45em 0.6em; margin: 0 0.25em; line-height: 1; border-radius: 0.35em;\">\n",
              "    $16 billion\n",
              "    <span style=\"font-size: 0.8em; font-weight: bold; line-height: 1; border-radius: 0.35em; vertical-align: middle; margin-left: 0.5rem\">MONEY</span>\n",
              "</mark>\n",
              " in long term debt, which it accumulated to fund its growth. The company is ranked \n",
              "<mark class=\"entity\" style=\"background: #e4e7d2; padding: 0.45em 0.6em; margin: 0 0.25em; line-height: 1; border-radius: 0.35em;\">\n",
              "    164th\n",
              "    <span style=\"font-size: 0.8em; font-weight: bold; line-height: 1; border-radius: 0.35em; vertical-align: middle; margin-left: 0.5rem\">ORDINAL</span>\n",
              "</mark>\n",
              " on \n",
              "<mark class=\"entity\" style=\"background: #bfeeb7; padding: 0.45em 0.6em; margin: 0 0.25em; line-height: 1; border-radius: 0.35em;\">\n",
              "    the Fortune 500 and\n",
              "    <span style=\"font-size: 0.8em; font-weight: bold; line-height: 1; border-radius: 0.35em; vertical-align: middle; margin-left: 0.5rem\">PRODUCT</span>\n",
              "</mark>\n",
              " 284th on the Forbes Global 2000. On \n",
              "<mark class=\"entity\" style=\"background: #bfe1d9; padding: 0.45em 0.6em; margin: 0 0.25em; line-height: 1; border-radius: 0.35em;\">\n",
              "    July 10, 2020\n",
              "    <span style=\"font-size: 0.8em; font-weight: bold; line-height: 1; border-radius: 0.35em; vertical-align: middle; margin-left: 0.5rem\">DATE</span>\n",
              "</mark>\n",
              ", \n",
              "<mark class=\"entity\" style=\"background: #7aecec; padding: 0.45em 0.6em; margin: 0 0.25em; line-height: 1; border-radius: 0.35em;\">\n",
              "    Netflix\n",
              "    <span style=\"font-size: 0.8em; font-weight: bold; line-height: 1; border-radius: 0.35em; vertical-align: middle; margin-left: 0.5rem\">ORG</span>\n",
              "</mark>\n",
              " became the largest entertainment/media company by market capitalization. In \n",
              "<mark class=\"entity\" style=\"background: #bfe1d9; padding: 0.45em 0.6em; margin: 0 0.25em; line-height: 1; border-radius: 0.35em;\">\n",
              "    2021\n",
              "    <span style=\"font-size: 0.8em; font-weight: bold; line-height: 1; border-radius: 0.35em; vertical-align: middle; margin-left: 0.5rem\">DATE</span>\n",
              "</mark>\n",
              ", \n",
              "<mark class=\"entity\" style=\"background: #7aecec; padding: 0.45em 0.6em; margin: 0 0.25em; line-height: 1; border-radius: 0.35em;\">\n",
              "    Netflix\n",
              "    <span style=\"font-size: 0.8em; font-weight: bold; line-height: 1; border-radius: 0.35em; vertical-align: middle; margin-left: 0.5rem\">ORG</span>\n",
              "</mark>\n",
              " was ranked as the \n",
              "<mark class=\"entity\" style=\"background: #e4e7d2; padding: 0.45em 0.6em; margin: 0 0.25em; line-height: 1; border-radius: 0.35em;\">\n",
              "    8th\n",
              "    <span style=\"font-size: 0.8em; font-weight: bold; line-height: 1; border-radius: 0.35em; vertical-align: middle; margin-left: 0.5rem\">ORDINAL</span>\n",
              "</mark>\n",
              " most trusted brand globally by \n",
              "<mark class=\"entity\" style=\"background: #f0d0ff; padding: 0.45em 0.6em; margin: 0 0.25em; line-height: 1; border-radius: 0.35em;\">\n",
              "    Morning Consult\n",
              "    <span style=\"font-size: 0.8em; font-weight: bold; line-height: 1; border-radius: 0.35em; vertical-align: middle; margin-left: 0.5rem\">WORK_OF_ART</span>\n",
              "</mark>\n",
              ". During \n",
              "<mark class=\"entity\" style=\"background: #bfe1d9; padding: 0.45em 0.6em; margin: 0 0.25em; line-height: 1; border-radius: 0.35em;\">\n",
              "    the 2010s decade\n",
              "    <span style=\"font-size: 0.8em; font-weight: bold; line-height: 1; border-radius: 0.35em; vertical-align: middle; margin-left: 0.5rem\">DATE</span>\n",
              "</mark>\n",
              ", \n",
              "<mark class=\"entity\" style=\"background: #7aecec; padding: 0.45em 0.6em; margin: 0 0.25em; line-height: 1; border-radius: 0.35em;\">\n",
              "    Netflix\n",
              "    <span style=\"font-size: 0.8em; font-weight: bold; line-height: 1; border-radius: 0.35em; vertical-align: middle; margin-left: 0.5rem\">ORG</span>\n",
              "</mark>\n",
              " was the top-performing stock in the S&amp;P 500 stock market index, with a total return of \n",
              "<mark class=\"entity\" style=\"background: #e4e7d2; padding: 0.45em 0.6em; margin: 0 0.25em; line-height: 1; border-radius: 0.35em;\">\n",
              "    3,693%\n",
              "    <span style=\"font-size: 0.8em; font-weight: bold; line-height: 1; border-radius: 0.35em; vertical-align: middle; margin-left: 0.5rem\">PERCENT</span>\n",
              "</mark>\n",
              ".</div></span>"
            ],
            "text/plain": [
              "<IPython.core.display.HTML object>"
            ]
          },
          "metadata": {}
        }
      ]
    },
    {
      "cell_type": "markdown",
      "source": [
        "###Score"
      ],
      "metadata": {
        "id": "mnVn6HHszvM0"
      }
    },
    {
      "cell_type": "code",
      "source": [
        "#equate\n",
        "nlp_4 = NER_4"
      ],
      "metadata": {
        "id": "DvoEd9WfzwoB"
      },
      "execution_count": 56,
      "outputs": []
    },
    {
      "cell_type": "code",
      "source": [
        "#working code\n",
        "\n",
        "Netflixexamples = []\n",
        "\n",
        "data_4 = [(Netflix, {\"entities\": [(0,13,'ORG'), (20,28,'NORP'), (99,108,'GPE'), (110,120,'GPE'), (122,129,'ORG'),\n",
        "(145,149,'DATE'), (153,166,'PERSON'), (171,184,'PERSON'), (188,201,'GPE'), (203,213,'GPE'),\n",
        "(402,411,'DATE'), (413,420,'ORG'), (425,436,'CARDINAL'), (460,470,'CARDINAL'), (474,491,'GPE'),\n",
        "(496,502,'GPE'), (549,554,'GPE'), (584,589,'GPE'), (591,602,'GPE'), (608,614,'GPE'),\n",
        "(623,625,'GPE'), (665,671,'GPE'), (673,679,'GPE'), (681,687,'GPE'), (693,704,'GPE'),\n",
        "(706,711,'GPE'), (713,718,'GPE'), (720,731,'GPE'), (737,755,'GPE'), (757,764,'ORG'),\n",
        "(780,810,'ORG'), (888,895,'ORG'), (964,972,'ORG'), (993,1005,'DATE'), (1080,1087,'ORG'),\n",
        "(1113,1117,'DATE'), (1252,1256,'DATE'), (1285,1291,'GPE'), (1305,1318,'LOC'), (1327,1336,'LOC'),\n",
        "(1338,1345,'ORG'), (1389,1393,'DATE'), (1408,1413,'ORDINAL'), (1421,1435,'WORK_OF_ART'), (1443,1447,'DATE'),\n",
        "(1449,1456,'ORG'), (1650,1662,'DATE'), (1664,1671,'ORG'), (1693,1706,'CARDINAL'), (1718,1725,'ORG'),\n",
        "(1748,1751,'CARDINAL'), (1781,1785,'DATE'), (1839,1856,'DATE'), (1874,1885,'MONEY'), (1968,1973,'ORDINAL'),\n",
        "(1997,2002,'ORDINAL'), (2033,2046,'DATE'), (2048,2055,'ORG'), (2132,2136,'DATE'), (2138,2145,'ORG'),\n",
        "(2164,2167,'ORDINAL'), (2199,2214,'ORG'), (2223,2239,'DATE'), (2241,2248,'ORG'), (2336,2342,'PERCENT')]})]\n",
        "\n",
        "for text_4, annots_4 in data_4:\n",
        "    doc_4 = nlp_4.make_doc(text_4)\n",
        "    Netflixexamples.append(Example.from_dict(doc_4, annots_4))\n",
        "\n",
        "#output to txt\n",
        "f = sys.stdout\n",
        "f = open('score_output.txt', 'a') #append to opened common file\n",
        " \n",
        "print(\"#Netflix score\", file=f)\n",
        "print(nlp_4.evaluate(Netflixexamples), file=f) #Global and local entity metrics\n",
        "f.close() #close file"
      ],
      "metadata": {
        "id": "la4sER5Rzwq-"
      },
      "execution_count": 57,
      "outputs": []
    },
    {
      "cell_type": "code",
      "source": [
        "print(nlp_4.evaluate(Netflixexamples)) #Global and local entity metrics"
      ],
      "metadata": {
        "colab": {
          "base_uri": "https://localhost:8080/"
        },
        "id": "2ewv5hEzyi6m",
        "outputId": "fe006867-3c04-4c73-b69e-3bea5886860e"
      },
      "execution_count": 58,
      "outputs": [
        {
          "output_type": "stream",
          "name": "stdout",
          "text": [
            "{'token_acc': 1.0, 'token_p': 1.0, 'token_r': 1.0, 'token_f': 1.0, 'tag_acc': None, 'sents_p': None, 'sents_r': None, 'sents_f': None, 'dep_uas': None, 'dep_las': None, 'dep_las_per_type': None, 'pos_acc': None, 'morph_acc': None, 'morph_micro_p': None, 'morph_micro_r': None, 'morph_micro_f': None, 'morph_per_feat': None, 'lemma_acc': None, 'ents_p': 0.8823529411764706, 'ents_r': 0.9230769230769231, 'ents_f': 0.9022556390977443, 'ents_per_type': {'ORG': {'p': 0.8235294117647058, 'r': 0.875, 'f': 0.8484848484848485}, 'NORP': {'p': 1.0, 'r': 1.0, 'f': 1.0}, 'GPE': {'p': 1.0, 'r': 1.0, 'f': 1.0}, 'DATE': {'p': 1.0, 'r': 1.0, 'f': 1.0}, 'PERSON': {'p': 0.6666666666666666, 'r': 1.0, 'f': 0.8}, 'CARDINAL': {'p': 0.75, 'r': 0.75, 'f': 0.75}, 'LOC': {'p': 1.0, 'r': 1.0, 'f': 1.0}, 'ORDINAL': {'p': 1.0, 'r': 0.75, 'f': 0.8571428571428571}, 'WORK_OF_ART': {'p': 0.0, 'r': 0.0, 'f': 0.0}, 'MONEY': {'p': 1.0, 'r': 1.0, 'f': 1.0}, 'PRODUCT': {'p': 0.0, 'r': 0.0, 'f': 0.0}, 'PERCENT': {'p': 1.0, 'r': 1.0, 'f': 1.0}}, 'speed': 5101.551971821438}\n"
          ]
        }
      ]
    },
    {
      "cell_type": "markdown",
      "source": [
        "###Loop"
      ],
      "metadata": {
        "id": "Ni3Xp6ZBHpQH"
      }
    },
    {
      "cell_type": "code",
      "source": [
        "#dataframing the entities and labels\n",
        "for ind in Netflixdf.index:\n",
        "  print(Netflixdf['NetflixEntities'][ind], Netflixdf['NetflixLabels'][ind])"
      ],
      "metadata": {
        "colab": {
          "base_uri": "https://localhost:8080/"
        },
        "outputId": "30a42191-4d2f-409b-d06e-c31150af6415",
        "id": "E4EnOOPEHpQH"
      },
      "execution_count": 59,
      "outputs": [
        {
          "output_type": "stream",
          "name": "stdout",
          "text": [
            "Netflix, Inc. ORG\n",
            "American NORP\n",
            "Los Gatos GPE\n",
            "California GPE\n",
            "Netflix ORG\n",
            "1997 DATE\n",
            "Reed Hastings PERSON\n",
            "Marc Randolph PERSON\n",
            "Scotts Valley GPE\n",
            "California GPE\n",
            "July 2021 DATE\n",
            "Netflix ORG\n",
            "209 million CARDINAL\n",
            "72 million CARDINAL\n",
            "the United States GPE\n",
            "Canada GPE\n",
            "China GPE\n",
            "Syria GPE\n",
            "North Korea GPE\n",
            "Crimea GPE\n",
            "US GPE\n",
            "Canada GPE\n",
            "France GPE\n",
            "Brazil GPE\n",
            "Netherlands GPE\n",
            "India GPE\n",
            "Japan GPE\n",
            "South Korea GPE\n",
            "the United Kingdom GPE\n",
            "Netflix ORG\n",
            "the Motion Picture Association ORG\n",
            "MPA ORG\n",
            "Netflix ORG\n",
            "Hastings PERSON\n",
            "about a year DATE\n",
            "Netflix ORG\n",
            "2007 DATE\n",
            "Blu-ray ORG\n",
            "2010 DATE\n",
            "Canada GPE\n",
            "Latin America LOC\n",
            "Caribbean LOC\n",
            "Netflix ORG\n",
            "2013 DATE\n",
            "first ORDINAL\n",
            "House of Cards ORG\n",
            "2012 DATE\n",
            "Netflix ORG\n",
            "Netflix Original WORK_OF_ART\n",
            "January 2016 DATE\n",
            "Netflix ORG\n",
            "more than 190 CARDINAL\n",
            "Netflix ORG\n",
            "an estimated 126 CARDINAL\n",
            "2016 DATE\n",
            "December 31, 2020 DATE\n",
            "$16 billion MONEY\n",
            "164th ORDINAL\n",
            "the Fortune 500 and PRODUCT\n",
            "July 10, 2020 DATE\n",
            "Netflix ORG\n",
            "2021 DATE\n",
            "Netflix ORG\n",
            "8th ORDINAL\n",
            "Morning Consult WORK_OF_ART\n",
            "the 2010s decade DATE\n",
            "Netflix ORG\n",
            "3,693% PERCENT\n"
          ]
        }
      ]
    },
    {
      "cell_type": "code",
      "source": [
        "#convert entities to list\n",
        "NetflixlistEntities = Netflixdf['NetflixEntities'].tolist()"
      ],
      "metadata": {
        "id": "A_t0oZt0HpQH"
      },
      "execution_count": 60,
      "outputs": []
    },
    {
      "cell_type": "code",
      "source": [
        "#entities sampling\n",
        "NetflixlistEntities[0]"
      ],
      "metadata": {
        "colab": {
          "base_uri": "https://localhost:8080/"
        },
        "outputId": "bbfaf427-48e9-4462-9a16-7897d62f64a2",
        "id": "aCT-FuOAHpQH"
      },
      "execution_count": 61,
      "outputs": [
        {
          "output_type": "execute_result",
          "data": {
            "text/plain": [
              "Netflix, Inc."
            ]
          },
          "metadata": {},
          "execution_count": 61
        }
      ]
    },
    {
      "cell_type": "code",
      "source": [
        "#convert labels to list\n",
        "NetflixlistLabels = Netflixdf['NetflixLabels'].tolist()"
      ],
      "metadata": {
        "id": "PIofGhWjHpQH"
      },
      "execution_count": 62,
      "outputs": []
    },
    {
      "cell_type": "code",
      "source": [
        "#label sampling\n",
        "NetflixlistLabels[0]"
      ],
      "metadata": {
        "colab": {
          "base_uri": "https://localhost:8080/",
          "height": 0
        },
        "outputId": "12d73b9f-a1b2-4667-e2ae-d72c7fe42cff",
        "id": "dgGU6aYrHpQH"
      },
      "execution_count": 63,
      "outputs": [
        {
          "output_type": "execute_result",
          "data": {
            "application/vnd.google.colaboratory.intrinsic+json": {
              "type": "string"
            },
            "text/plain": [
              "'ORG'"
            ]
          },
          "metadata": {},
          "execution_count": 63
        }
      ]
    },
    {
      "cell_type": "code",
      "source": [
        "#For Netflix\n",
        "\n",
        "PropLabel_4 = y_4[0][0]\n",
        "\n",
        "#output to owl\n",
        "import sys\n",
        "f = sys.stdout\n",
        "f = open('p107443_output.owl', 'a') #append to opened common file\n",
        "\n",
        "#Netflix SubClasses\n",
        "print(\"\\n#Netflix SubClasses\", file=f)\n",
        "print(\"faang:{proplab_4} rdf:type rdfs:Class .\".format(proplab_4=PropLabel_4), file=f) #Class\n",
        "print(\"faang:{proplab_4} rdfs:subClassOf faang:FAANG .\".format(proplab_4=PropLabel_4), file=f) #Netflix SubClass\n",
        "\n",
        "#Netflix Individuals\n",
        "print(\"\\n#Netflix Individuals\", file=f)\n",
        "print(\"faang:{proplab_4}PERSON rdf:type faang:{proplab_4} .\".format(proplab_4=PropLabel_4), file=f) \n",
        "print(\"faang:{proplab_4}NORP rdf:type faang:{proplab_4} .\".format(proplab_4=PropLabel_4), file=f) \n",
        "print(\"faang:{proplab_4}FAC rdf:type faang:{proplab_4} .\".format(proplab_4=PropLabel_4), file=f) \n",
        "print(\"faang:{proplab_4}ORG rdf:type faang:{proplab_4} .\".format(proplab_4=PropLabel_4), file=f) \n",
        "print(\"faang:{proplab_4}GPE rdf:type faang:{proplab_4} .\".format(proplab_4=PropLabel_4), file=f) \n",
        "print(\"faang:{proplab_4}LOC rdf:type faang:{proplab_4} .\".format(proplab_4=PropLabel_4), file=f) \n",
        "print(\"faang:{proplab_4}PRODUCT rdf:type faang:{proplab_4} .\".format(proplab_4=PropLabel_4), file=f) \n",
        "print(\"faang:{proplab_4}EVENT rdf:type faang:{proplab_4} .\".format(proplab_4=PropLabel_4), file=f) \n",
        "print(\"faang:{proplab_4}WORK_OF_ART rdf:type faang:{proplab_4} .\".format(proplab_4=PropLabel_4), file=f) \n",
        "print(\"faang:{proplab_4}LAW rdf:type faang:{proplab_4} .\".format(proplab_4=PropLabel_4), file=f) \n",
        "print(\"faang:{proplab_4}LANGUAGE rdf:type faang:{proplab_4} .\".format(proplab_4=PropLabel_4), file=f) \n",
        "print(\"faang:{proplab_4}DATE rdf:type faang:{proplab_4} .\".format(proplab_4=PropLabel_4), file=f) \n",
        "print(\"faang:{proplab_4}TIME rdf:type faang:{proplab_4} .\".format(proplab_4=PropLabel_4), file=f) \n",
        "print(\"faang:{proplab_4}PERCENT rdf:type faang:{proplab_4} .\".format(proplab_4=PropLabel_4), file=f) \n",
        "print(\"faang:{proplab_4}MONEY rdf:type faang:{proplab_4} .\".format(proplab_4=PropLabel_4), file=f) \n",
        "print(\"faang:{proplab_4}QUANTITY rdf:type faang:{proplab_4} .\".format(proplab_4=PropLabel_4), file=f) \n",
        "print(\"faang:{proplab_4}ORDINAL rdf:type faang:{proplab_4} .\".format(proplab_4=PropLabel_4), file=f) \n",
        "print(\"faang:{proplab_4}CARDINAL rdf:type faang:{proplab_4} .\".format(proplab_4=PropLabel_4), file=f) \n",
        "\n",
        "#Specific Netflix Triples\n",
        "print(\"\\n#Netflix Triples\", file=f)\n",
        "for i in range(len(NetflixlistEntities)):\n",
        "  if NetflixlistLabels[i]=='PERSON':\n",
        "    print('faang:{proplab_4}PERSON faang:{lab} \"{ent}\"^^xsd:string .' .format(proplab_4=PropLabel_4, lab='hasPersonName', ent=NetflixlistEntities[i]), file=f)\n",
        "  elif NetflixlistLabels[i]=='NORP':\n",
        "    print('faang:{proplab_4}NORP faang:{lab} \"{ent}\"^^xsd:string .' .format(proplab_4=PropLabel_4, lab='hasNationalityReligiousPolitical', ent=NetflixlistEntities[i]), file=f)\n",
        "  elif NetflixlistLabels[i]=='FAC':\n",
        "    print('faang:{proplab_4}FAC faang:{lab} \"{ent}\"^^xsd:string .' .format(proplab_4=PropLabel_4, lab='hasBuildingsAirportsHighwaysBridges', ent=NetflixlistEntities[i]), file=f)\n",
        "  elif NetflixlistLabels[i]=='ORG':\n",
        "    print('faang:{proplab_4}ORG faang:{lab} \"{ent}\"^^xsd:string .' .format(proplab_4=PropLabel_4, lab='hasCompaniesAgenciesInstitutions', ent=NetflixlistEntities[i]), file=f)\n",
        "  elif NetflixlistLabels[i]=='GPE':\n",
        "    print('faang:{proplab_4}GPE faang:{lab} \"{ent}\"^^xsd:string .' .format(proplab_4=PropLabel_4, lab='hasCountriesCitiesState', ent=NetflixlistEntities[i]), file=f)\n",
        "  elif NetflixlistLabels[i]=='LOC':\n",
        "    print('faang:{proplab_4}LOC faang:{lab} \"{ent}\"^^xsd:string .' .format(proplab_4=PropLabel_4, lab='hasLocation', ent=NetflixlistEntities[i]), file=f)\n",
        "  elif NetflixlistLabels[i]=='PRODUCT':\n",
        "    print('faang:{proplab_4}PRODUCT faang:{lab} \"{ent}\"^^xsd:string .' .format(proplab_4=PropLabel_4, lab='hasProduct', ent=NetflixlistEntities[i]), file=f)\n",
        "  elif NetflixlistLabels[i]=='EVENT':\n",
        "    print('faang:{proplab_4}EVENT faang:{lab} \"{ent}\"^^xsd:string .' .format(proplab_4=PropLabel_4, lab='hasEvent', ent=NetflixlistEntities[i]), file=f)\n",
        "  elif NetflixlistLabels[i]=='WORK_OF_ART':\n",
        "    print('faang:{proplab_4}WORK_OF_ART faang:{lab} \"{ent}\"^^xsd:string .' .format(proplab_4=PropLabel_4, lab='hasWorkOfArt', ent=NetflixlistEntities[i]), file=f)\n",
        "  elif NetflixlistLabels[i]=='LAW':\n",
        "    print('faang:{proplab_4}LAW faang:{lab} \"{ent}\"^^xsd:string .' .format(proplab_4=PropLabel_4, lab='hasLaw', ent=NetflixlistEntities[i]), file=f)\n",
        "  elif NetflixlistLabels[i]=='LANGUAGE':\n",
        "    print('faang:{proplab_4}LANGUAGE faang:{lab} \"{ent}\"^^xsd:string .' .format(proplab_4=PropLabel_4, lab='hasLanguage', ent=NetflixlistEntities[i]), file=f)\n",
        "  elif NetflixlistLabels[i]=='DATE':\n",
        "    print('faang:{proplab_4}DATE faang:{lab} \"{ent}\"^^xsd:string .' .format(proplab_4=PropLabel_4, lab='hasDate', ent=NetflixlistEntities[i]), file=f)\n",
        "  elif NetflixlistLabels[i]=='TIME':\n",
        "    print('faang:{proplab_4}TIME faang:{lab} \"{ent}\"^^xsd:string .' .format(proplab_4=PropLabel_4, lab='hasTime', ent=NetflixlistEntities[i]), file=f)\n",
        "  elif NetflixlistLabels[i]=='PERCENT':\n",
        "    print('faang:{proplab_4}PERCENT faang:{lab} \"{ent}\"^^xsd:string .' .format(proplab_4=PropLabel_4, lab='hasPercent', ent=NetflixlistEntities[i]), file=f)\n",
        "  elif NetflixlistLabels[i]=='MONEY':\n",
        "    print('faang:{proplab_4}MONEY faang:{lab} \"{ent}\"^^xsd:string .' .format(proplab_4=PropLabel_4, lab='hasMoney', ent=NetflixlistEntities[i]), file=f)\n",
        "  elif NetflixlistLabels[i]=='QUANTITY':\n",
        "    print('faang:{proplab_4}QUANTITY faang:{lab} \"{ent}\"^^xsd:string .' .format(proplab_4=PropLabel_4, lab='hasQuantity', ent=NetflixlistEntities[i]), file=f)\n",
        "  elif NetflixlistLabels[i]=='ORDINAL':\n",
        "    print('faang:{proplab_4}ORDINAL faang:{lab} \"{ent}\"^^xsd:string .' .format(proplab_4=PropLabel_4, lab='hasOrdinal', ent=NetflixlistEntities[i]), file=f)\n",
        "  elif NetflixlistLabels[i]=='CARDINAL':\n",
        "    print('faang:{proplab_4}CARDINAL faang:{lab} \"{ent}\"^^xsd:string .' .format(proplab_4=PropLabel_4, lab='hasCardinal', ent=NetflixlistEntities[i]), file=f)\n",
        "f.close() #close file"
      ],
      "metadata": {
        "id": "X3jSrFHcHpQH"
      },
      "execution_count": 64,
      "outputs": []
    },
    {
      "cell_type": "markdown",
      "source": [
        "##5_Google"
      ],
      "metadata": {
        "id": "Cv1xLf2oPM77"
      }
    },
    {
      "cell_type": "markdown",
      "source": [
        "###Open and Load"
      ],
      "metadata": {
        "id": "-eEhbCcIPM77"
      }
    },
    {
      "cell_type": "code",
      "source": [
        "#open the file\n",
        "faang_5 = \"/content/drive/MyDrive/Colab Notebooks/OKR_NEE_datasets/5_Google.txt\"\n",
        "file5 = open(faang_5, \"r\")\n",
        "#read the file\n",
        "Google = file5.read()\n",
        "Google"
      ],
      "metadata": {
        "colab": {
          "base_uri": "https://localhost:8080/",
          "height": 0
        },
        "outputId": "59956049-65a9-4295-fe21-7410e4d237db",
        "id": "Uw75nlyXPM78"
      },
      "execution_count": 65,
      "outputs": [
        {
          "output_type": "execute_result",
          "data": {
            "application/vnd.google.colaboratory.intrinsic+json": {
              "type": "string"
            },
            "text/plain": [
              "\"Google LLC is an American multinational technology company that specializes in Internet-related services and products, which include online advertising technologies, a search engine, cloud computing, software, and hardware. It is considered one of the Big Five companies in the American information technology industry, along with Amazon, Facebook, Apple, and Microsoft. Google was founded on September 4, 1998 by Larry Page and Sergey Brin while they were Ph.D. students at Stanford University in California. Together they own about 14% of its publicly-listed shares and control 56% of the stockholder voting power through super-voting stock. The company went public via an initial public offering (IPO) in 2004. In 2015, Google was reorganized as a wholly owned subsidiary of Alphabet Inc.. Google is Alphabet's largest subsidiary and is a holding company for Alphabet's Internet properties and interests. Sundar Pichai was appointed CEO of Google on October 24, 2015, replacing Larry Page, who became the CEO of Alphabet. On December 3, 2019, Pichai also became the CEO of Alphabet. In 2021, the Alphabet Workers Union was founded, mainly composed of Google employees. The company's rapid growth since incorporation has included products, acquisitions, and partnerships beyond Google's core search engine, (Google Search). It offers services designed for work and productivity (Google Docs, Google Sheets, and Google Slides), email (Gmail), scheduling and time management (Google Calendar), cloud storage (Google Drive), instant messaging and video chat (Google Duo, Google Chat, and Google Meet), language translation (Google Translate), mapping and navigation (Google Maps, Waze, Google Earth, and Street View), podcast hosting (Google Podcasts), video sharing (YouTube), blog publishing (Blogger), note-taking (Google Keep and Jamboard), and photo organizing and editing (Google Photos). The company leads the development of the Android mobile operating system, the Google Chrome web browser, and Chrome OS (a lightweight, proprietary operating system based on the free and open-source Chromium OS operating system). Google has moved increasingly into hardware; from 2010 to 2015, it partnered with major electronics manufacturers in the production of its Google Nexus devices, and it released multiple hardware products in 2016, including the Google Pixel line of smartphones, Google Home smart speaker, Google Wifi mesh wireless router. Google has also experimented with becoming an Internet carrier (Google Fiber and Google Fi). Google.com is the most visited website worldwide. Several other Google-owned websites also are on the list of most popular websites, including YouTube and Blogger. On the list of most valuable brands, Google is ranked second by Forbes and fourth by Interbrand. It has received significant criticism involving issues such as privacy concerns, tax avoidance, censorship, search neutrality, antitrust and abuse of its monopoly position.\""
            ]
          },
          "metadata": {},
          "execution_count": 65
        }
      ]
    },
    {
      "cell_type": "code",
      "source": [
        "#load spacy\n",
        "NER_5 = spacy.load(\"en_core_web_md\")"
      ],
      "metadata": {
        "id": "rXXpqtg-PM78"
      },
      "execution_count": 66,
      "outputs": []
    },
    {
      "cell_type": "markdown",
      "source": [
        "###spaCy and displaCy"
      ],
      "metadata": {
        "id": "hEag7Y66PM7-"
      }
    },
    {
      "cell_type": "code",
      "source": [
        "#get the labels and entities\n",
        "Googledoc = NER_5(Google)\n",
        "\n",
        "Googleentities = []\n",
        "Googlelabels = []\n",
        "Googlestartpos = []\n",
        "Googleendpos = []\n",
        "\n",
        "for ent in Googledoc.ents:\n",
        "  Googleentities.append(ent)\n",
        "  Googlelabels.append(ent.label_)\n",
        "  Googlestartpos.append(ent.start_char)\n",
        "  Googleendpos.append(ent.end_char)\n",
        "    \n",
        "Googledf = pd.DataFrame({'GoogleEntities':Googleentities,'GoogleLabels':Googlelabels, 'Position_Start':Googlestartpos, 'Position_End':Googleendpos})\n",
        "\n",
        "Googledf\n",
        "\n",
        "Googledf.to_csv(r'/content/drive/MyDrive/Colab Notebooks/OKR_NEE_datasets/out.csv', index = False)"
      ],
      "metadata": {
        "id": "pNjwAzSEPM7-"
      },
      "execution_count": 67,
      "outputs": []
    },
    {
      "cell_type": "code",
      "source": [
        "#Count\n",
        "items_5 = [x.text for x in Googledoc.ents]\n",
        "y_5 = Counter(items_5).most_common(5) #top 5"
      ],
      "metadata": {
        "id": "c2ED9Ikxqalq"
      },
      "execution_count": 68,
      "outputs": []
    },
    {
      "cell_type": "code",
      "source": [
        "y_5[0][0] #highest frequency"
      ],
      "metadata": {
        "colab": {
          "base_uri": "https://localhost:8080/",
          "height": 0
        },
        "id": "v3pvii7JqaoL",
        "outputId": "ce9dbc1e-9e6f-41f7-8a7f-406f7294a4a8"
      },
      "execution_count": 69,
      "outputs": [
        {
          "output_type": "execute_result",
          "data": {
            "application/vnd.google.colaboratory.intrinsic+json": {
              "type": "string"
            },
            "text/plain": [
              "'Google'"
            ]
          },
          "metadata": {},
          "execution_count": 69
        }
      ]
    },
    {
      "cell_type": "code",
      "source": [
        "#visualization\n",
        "doc_5 = NER_5(Google)\n",
        "spacy.displacy.render(doc_5, style=\"ent\", jupyter=True)"
      ],
      "metadata": {
        "colab": {
          "base_uri": "https://localhost:8080/",
          "height": 0
        },
        "id": "WdvE1cq1DN6E",
        "outputId": "1aa96028-08e8-4349-c555-4d1fe5851e8d"
      },
      "execution_count": 70,
      "outputs": [
        {
          "output_type": "display_data",
          "data": {
            "text/html": [
              "<span class=\"tex2jax_ignore\"><div class=\"entities\" style=\"line-height: 2.5; direction: ltr\">\n",
              "<mark class=\"entity\" style=\"background: #7aecec; padding: 0.45em 0.6em; margin: 0 0.25em; line-height: 1; border-radius: 0.35em;\">\n",
              "    Google LLC\n",
              "    <span style=\"font-size: 0.8em; font-weight: bold; line-height: 1; border-radius: 0.35em; vertical-align: middle; margin-left: 0.5rem\">ORG</span>\n",
              "</mark>\n",
              " is an \n",
              "<mark class=\"entity\" style=\"background: #c887fb; padding: 0.45em 0.6em; margin: 0 0.25em; line-height: 1; border-radius: 0.35em;\">\n",
              "    American\n",
              "    <span style=\"font-size: 0.8em; font-weight: bold; line-height: 1; border-radius: 0.35em; vertical-align: middle; margin-left: 0.5rem\">NORP</span>\n",
              "</mark>\n",
              " multinational technology company that specializes in Internet-related services and products, which include online advertising technologies, a search engine, cloud computing, software, and hardware. It is considered one of the Big \n",
              "<mark class=\"entity\" style=\"background: #e4e7d2; padding: 0.45em 0.6em; margin: 0 0.25em; line-height: 1; border-radius: 0.35em;\">\n",
              "    Five\n",
              "    <span style=\"font-size: 0.8em; font-weight: bold; line-height: 1; border-radius: 0.35em; vertical-align: middle; margin-left: 0.5rem\">CARDINAL</span>\n",
              "</mark>\n",
              " companies in the \n",
              "<mark class=\"entity\" style=\"background: #c887fb; padding: 0.45em 0.6em; margin: 0 0.25em; line-height: 1; border-radius: 0.35em;\">\n",
              "    American\n",
              "    <span style=\"font-size: 0.8em; font-weight: bold; line-height: 1; border-radius: 0.35em; vertical-align: middle; margin-left: 0.5rem\">NORP</span>\n",
              "</mark>\n",
              " information technology industry, along with \n",
              "<mark class=\"entity\" style=\"background: #7aecec; padding: 0.45em 0.6em; margin: 0 0.25em; line-height: 1; border-radius: 0.35em;\">\n",
              "    Amazon\n",
              "    <span style=\"font-size: 0.8em; font-weight: bold; line-height: 1; border-radius: 0.35em; vertical-align: middle; margin-left: 0.5rem\">ORG</span>\n",
              "</mark>\n",
              ", \n",
              "<mark class=\"entity\" style=\"background: #7aecec; padding: 0.45em 0.6em; margin: 0 0.25em; line-height: 1; border-radius: 0.35em;\">\n",
              "    Facebook\n",
              "    <span style=\"font-size: 0.8em; font-weight: bold; line-height: 1; border-radius: 0.35em; vertical-align: middle; margin-left: 0.5rem\">ORG</span>\n",
              "</mark>\n",
              ", \n",
              "<mark class=\"entity\" style=\"background: #7aecec; padding: 0.45em 0.6em; margin: 0 0.25em; line-height: 1; border-radius: 0.35em;\">\n",
              "    Apple\n",
              "    <span style=\"font-size: 0.8em; font-weight: bold; line-height: 1; border-radius: 0.35em; vertical-align: middle; margin-left: 0.5rem\">ORG</span>\n",
              "</mark>\n",
              ", and \n",
              "<mark class=\"entity\" style=\"background: #7aecec; padding: 0.45em 0.6em; margin: 0 0.25em; line-height: 1; border-radius: 0.35em;\">\n",
              "    Microsoft\n",
              "    <span style=\"font-size: 0.8em; font-weight: bold; line-height: 1; border-radius: 0.35em; vertical-align: middle; margin-left: 0.5rem\">ORG</span>\n",
              "</mark>\n",
              ". \n",
              "<mark class=\"entity\" style=\"background: #7aecec; padding: 0.45em 0.6em; margin: 0 0.25em; line-height: 1; border-radius: 0.35em;\">\n",
              "    Google\n",
              "    <span style=\"font-size: 0.8em; font-weight: bold; line-height: 1; border-radius: 0.35em; vertical-align: middle; margin-left: 0.5rem\">ORG</span>\n",
              "</mark>\n",
              " was founded on \n",
              "<mark class=\"entity\" style=\"background: #bfe1d9; padding: 0.45em 0.6em; margin: 0 0.25em; line-height: 1; border-radius: 0.35em;\">\n",
              "    September 4, 1998\n",
              "    <span style=\"font-size: 0.8em; font-weight: bold; line-height: 1; border-radius: 0.35em; vertical-align: middle; margin-left: 0.5rem\">DATE</span>\n",
              "</mark>\n",
              " by \n",
              "<mark class=\"entity\" style=\"background: #aa9cfc; padding: 0.45em 0.6em; margin: 0 0.25em; line-height: 1; border-radius: 0.35em;\">\n",
              "    Larry Page\n",
              "    <span style=\"font-size: 0.8em; font-weight: bold; line-height: 1; border-radius: 0.35em; vertical-align: middle; margin-left: 0.5rem\">PERSON</span>\n",
              "</mark>\n",
              " and \n",
              "<mark class=\"entity\" style=\"background: #aa9cfc; padding: 0.45em 0.6em; margin: 0 0.25em; line-height: 1; border-radius: 0.35em;\">\n",
              "    Sergey Brin\n",
              "    <span style=\"font-size: 0.8em; font-weight: bold; line-height: 1; border-radius: 0.35em; vertical-align: middle; margin-left: 0.5rem\">PERSON</span>\n",
              "</mark>\n",
              " while they were \n",
              "<mark class=\"entity\" style=\"background: #f0d0ff; padding: 0.45em 0.6em; margin: 0 0.25em; line-height: 1; border-radius: 0.35em;\">\n",
              "    Ph.D.\n",
              "    <span style=\"font-size: 0.8em; font-weight: bold; line-height: 1; border-radius: 0.35em; vertical-align: middle; margin-left: 0.5rem\">WORK_OF_ART</span>\n",
              "</mark>\n",
              " students at \n",
              "<mark class=\"entity\" style=\"background: #7aecec; padding: 0.45em 0.6em; margin: 0 0.25em; line-height: 1; border-radius: 0.35em;\">\n",
              "    Stanford University\n",
              "    <span style=\"font-size: 0.8em; font-weight: bold; line-height: 1; border-radius: 0.35em; vertical-align: middle; margin-left: 0.5rem\">ORG</span>\n",
              "</mark>\n",
              " in \n",
              "<mark class=\"entity\" style=\"background: #feca74; padding: 0.45em 0.6em; margin: 0 0.25em; line-height: 1; border-radius: 0.35em;\">\n",
              "    California\n",
              "    <span style=\"font-size: 0.8em; font-weight: bold; line-height: 1; border-radius: 0.35em; vertical-align: middle; margin-left: 0.5rem\">GPE</span>\n",
              "</mark>\n",
              ". Together they own \n",
              "<mark class=\"entity\" style=\"background: #e4e7d2; padding: 0.45em 0.6em; margin: 0 0.25em; line-height: 1; border-radius: 0.35em;\">\n",
              "    about 14%\n",
              "    <span style=\"font-size: 0.8em; font-weight: bold; line-height: 1; border-radius: 0.35em; vertical-align: middle; margin-left: 0.5rem\">PERCENT</span>\n",
              "</mark>\n",
              " of its publicly-listed shares and control \n",
              "<mark class=\"entity\" style=\"background: #e4e7d2; padding: 0.45em 0.6em; margin: 0 0.25em; line-height: 1; border-radius: 0.35em;\">\n",
              "    56%\n",
              "    <span style=\"font-size: 0.8em; font-weight: bold; line-height: 1; border-radius: 0.35em; vertical-align: middle; margin-left: 0.5rem\">PERCENT</span>\n",
              "</mark>\n",
              " of the stockholder voting power through super-voting stock. The company went public via an initial public offering (IPO) in \n",
              "<mark class=\"entity\" style=\"background: #bfe1d9; padding: 0.45em 0.6em; margin: 0 0.25em; line-height: 1; border-radius: 0.35em;\">\n",
              "    2004\n",
              "    <span style=\"font-size: 0.8em; font-weight: bold; line-height: 1; border-radius: 0.35em; vertical-align: middle; margin-left: 0.5rem\">DATE</span>\n",
              "</mark>\n",
              ". In \n",
              "<mark class=\"entity\" style=\"background: #bfe1d9; padding: 0.45em 0.6em; margin: 0 0.25em; line-height: 1; border-radius: 0.35em;\">\n",
              "    2015\n",
              "    <span style=\"font-size: 0.8em; font-weight: bold; line-height: 1; border-radius: 0.35em; vertical-align: middle; margin-left: 0.5rem\">DATE</span>\n",
              "</mark>\n",
              ", \n",
              "<mark class=\"entity\" style=\"background: #7aecec; padding: 0.45em 0.6em; margin: 0 0.25em; line-height: 1; border-radius: 0.35em;\">\n",
              "    Google\n",
              "    <span style=\"font-size: 0.8em; font-weight: bold; line-height: 1; border-radius: 0.35em; vertical-align: middle; margin-left: 0.5rem\">ORG</span>\n",
              "</mark>\n",
              " was reorganized as a wholly owned subsidiary of \n",
              "<mark class=\"entity\" style=\"background: #7aecec; padding: 0.45em 0.6em; margin: 0 0.25em; line-height: 1; border-radius: 0.35em;\">\n",
              "    Alphabet Inc\n",
              "    <span style=\"font-size: 0.8em; font-weight: bold; line-height: 1; border-radius: 0.35em; vertical-align: middle; margin-left: 0.5rem\">ORG</span>\n",
              "</mark>\n",
              ".. Google is \n",
              "<mark class=\"entity\" style=\"background: #7aecec; padding: 0.45em 0.6em; margin: 0 0.25em; line-height: 1; border-radius: 0.35em;\">\n",
              "    Alphabet\n",
              "    <span style=\"font-size: 0.8em; font-weight: bold; line-height: 1; border-radius: 0.35em; vertical-align: middle; margin-left: 0.5rem\">ORG</span>\n",
              "</mark>\n",
              "'s largest subsidiary and is a holding company for \n",
              "<mark class=\"entity\" style=\"background: #7aecec; padding: 0.45em 0.6em; margin: 0 0.25em; line-height: 1; border-radius: 0.35em;\">\n",
              "    Alphabet\n",
              "    <span style=\"font-size: 0.8em; font-weight: bold; line-height: 1; border-radius: 0.35em; vertical-align: middle; margin-left: 0.5rem\">ORG</span>\n",
              "</mark>\n",
              "'s Internet properties and interests. \n",
              "<mark class=\"entity\" style=\"background: #aa9cfc; padding: 0.45em 0.6em; margin: 0 0.25em; line-height: 1; border-radius: 0.35em;\">\n",
              "    Sundar Pichai\n",
              "    <span style=\"font-size: 0.8em; font-weight: bold; line-height: 1; border-radius: 0.35em; vertical-align: middle; margin-left: 0.5rem\">PERSON</span>\n",
              "</mark>\n",
              " was appointed CEO of \n",
              "<mark class=\"entity\" style=\"background: #7aecec; padding: 0.45em 0.6em; margin: 0 0.25em; line-height: 1; border-radius: 0.35em;\">\n",
              "    Google\n",
              "    <span style=\"font-size: 0.8em; font-weight: bold; line-height: 1; border-radius: 0.35em; vertical-align: middle; margin-left: 0.5rem\">ORG</span>\n",
              "</mark>\n",
              " on \n",
              "<mark class=\"entity\" style=\"background: #bfe1d9; padding: 0.45em 0.6em; margin: 0 0.25em; line-height: 1; border-radius: 0.35em;\">\n",
              "    October 24, 2015\n",
              "    <span style=\"font-size: 0.8em; font-weight: bold; line-height: 1; border-radius: 0.35em; vertical-align: middle; margin-left: 0.5rem\">DATE</span>\n",
              "</mark>\n",
              ", replacing \n",
              "<mark class=\"entity\" style=\"background: #aa9cfc; padding: 0.45em 0.6em; margin: 0 0.25em; line-height: 1; border-radius: 0.35em;\">\n",
              "    Larry Page\n",
              "    <span style=\"font-size: 0.8em; font-weight: bold; line-height: 1; border-radius: 0.35em; vertical-align: middle; margin-left: 0.5rem\">PERSON</span>\n",
              "</mark>\n",
              ", who became the CEO of \n",
              "<mark class=\"entity\" style=\"background: #7aecec; padding: 0.45em 0.6em; margin: 0 0.25em; line-height: 1; border-radius: 0.35em;\">\n",
              "    Alphabet\n",
              "    <span style=\"font-size: 0.8em; font-weight: bold; line-height: 1; border-radius: 0.35em; vertical-align: middle; margin-left: 0.5rem\">ORG</span>\n",
              "</mark>\n",
              ". On \n",
              "<mark class=\"entity\" style=\"background: #bfe1d9; padding: 0.45em 0.6em; margin: 0 0.25em; line-height: 1; border-radius: 0.35em;\">\n",
              "    December 3, 2019\n",
              "    <span style=\"font-size: 0.8em; font-weight: bold; line-height: 1; border-radius: 0.35em; vertical-align: middle; margin-left: 0.5rem\">DATE</span>\n",
              "</mark>\n",
              ", \n",
              "<mark class=\"entity\" style=\"background: #feca74; padding: 0.45em 0.6em; margin: 0 0.25em; line-height: 1; border-radius: 0.35em;\">\n",
              "    Pichai\n",
              "    <span style=\"font-size: 0.8em; font-weight: bold; line-height: 1; border-radius: 0.35em; vertical-align: middle; margin-left: 0.5rem\">GPE</span>\n",
              "</mark>\n",
              " also became the CEO of \n",
              "<mark class=\"entity\" style=\"background: #7aecec; padding: 0.45em 0.6em; margin: 0 0.25em; line-height: 1; border-radius: 0.35em;\">\n",
              "    Alphabet\n",
              "    <span style=\"font-size: 0.8em; font-weight: bold; line-height: 1; border-radius: 0.35em; vertical-align: middle; margin-left: 0.5rem\">ORG</span>\n",
              "</mark>\n",
              ". In \n",
              "<mark class=\"entity\" style=\"background: #bfe1d9; padding: 0.45em 0.6em; margin: 0 0.25em; line-height: 1; border-radius: 0.35em;\">\n",
              "    2021\n",
              "    <span style=\"font-size: 0.8em; font-weight: bold; line-height: 1; border-radius: 0.35em; vertical-align: middle; margin-left: 0.5rem\">DATE</span>\n",
              "</mark>\n",
              ", \n",
              "<mark class=\"entity\" style=\"background: #7aecec; padding: 0.45em 0.6em; margin: 0 0.25em; line-height: 1; border-radius: 0.35em;\">\n",
              "    the Alphabet Workers Union\n",
              "    <span style=\"font-size: 0.8em; font-weight: bold; line-height: 1; border-radius: 0.35em; vertical-align: middle; margin-left: 0.5rem\">ORG</span>\n",
              "</mark>\n",
              " was founded, mainly composed of \n",
              "<mark class=\"entity\" style=\"background: #7aecec; padding: 0.45em 0.6em; margin: 0 0.25em; line-height: 1; border-radius: 0.35em;\">\n",
              "    Google\n",
              "    <span style=\"font-size: 0.8em; font-weight: bold; line-height: 1; border-radius: 0.35em; vertical-align: middle; margin-left: 0.5rem\">ORG</span>\n",
              "</mark>\n",
              " employees. The company's rapid growth since incorporation has included products, acquisitions, and partnerships beyond \n",
              "<mark class=\"entity\" style=\"background: #7aecec; padding: 0.45em 0.6em; margin: 0 0.25em; line-height: 1; border-radius: 0.35em;\">\n",
              "    Google\n",
              "    <span style=\"font-size: 0.8em; font-weight: bold; line-height: 1; border-radius: 0.35em; vertical-align: middle; margin-left: 0.5rem\">ORG</span>\n",
              "</mark>\n",
              "'s core search engine, (\n",
              "<mark class=\"entity\" style=\"background: #7aecec; padding: 0.45em 0.6em; margin: 0 0.25em; line-height: 1; border-radius: 0.35em;\">\n",
              "    Google Search\n",
              "    <span style=\"font-size: 0.8em; font-weight: bold; line-height: 1; border-radius: 0.35em; vertical-align: middle; margin-left: 0.5rem\">ORG</span>\n",
              "</mark>\n",
              "). It offers services designed for work and productivity (Google Docs, \n",
              "<mark class=\"entity\" style=\"background: #7aecec; padding: 0.45em 0.6em; margin: 0 0.25em; line-height: 1; border-radius: 0.35em;\">\n",
              "    Google Sheets\n",
              "    <span style=\"font-size: 0.8em; font-weight: bold; line-height: 1; border-radius: 0.35em; vertical-align: middle; margin-left: 0.5rem\">ORG</span>\n",
              "</mark>\n",
              ", and \n",
              "<mark class=\"entity\" style=\"background: #aa9cfc; padding: 0.45em 0.6em; margin: 0 0.25em; line-height: 1; border-radius: 0.35em;\">\n",
              "    Google Slides\n",
              "    <span style=\"font-size: 0.8em; font-weight: bold; line-height: 1; border-radius: 0.35em; vertical-align: middle; margin-left: 0.5rem\">PERSON</span>\n",
              "</mark>\n",
              "), email (\n",
              "<mark class=\"entity\" style=\"background: #7aecec; padding: 0.45em 0.6em; margin: 0 0.25em; line-height: 1; border-radius: 0.35em;\">\n",
              "    Gmail\n",
              "    <span style=\"font-size: 0.8em; font-weight: bold; line-height: 1; border-radius: 0.35em; vertical-align: middle; margin-left: 0.5rem\">ORG</span>\n",
              "</mark>\n",
              "), scheduling and time management (Google Calendar), cloud storage (Google Drive), instant messaging and video chat (Google Duo, \n",
              "<mark class=\"entity\" style=\"background: #7aecec; padding: 0.45em 0.6em; margin: 0 0.25em; line-height: 1; border-radius: 0.35em;\">\n",
              "    Google Chat\n",
              "    <span style=\"font-size: 0.8em; font-weight: bold; line-height: 1; border-radius: 0.35em; vertical-align: middle; margin-left: 0.5rem\">ORG</span>\n",
              "</mark>\n",
              ", and Google Meet), language translation (Google Translate), mapping and navigation (Google Maps, \n",
              "<mark class=\"entity\" style=\"background: #aa9cfc; padding: 0.45em 0.6em; margin: 0 0.25em; line-height: 1; border-radius: 0.35em;\">\n",
              "    Waze\n",
              "    <span style=\"font-size: 0.8em; font-weight: bold; line-height: 1; border-radius: 0.35em; vertical-align: middle; margin-left: 0.5rem\">PERSON</span>\n",
              "</mark>\n",
              ", Google Earth, and \n",
              "<mark class=\"entity\" style=\"background: #ddd; padding: 0.45em 0.6em; margin: 0 0.25em; line-height: 1; border-radius: 0.35em;\">\n",
              "    Street View\n",
              "    <span style=\"font-size: 0.8em; font-weight: bold; line-height: 1; border-radius: 0.35em; vertical-align: middle; margin-left: 0.5rem\">FAC</span>\n",
              "</mark>\n",
              "), podcast hosting (\n",
              "<mark class=\"entity\" style=\"background: #7aecec; padding: 0.45em 0.6em; margin: 0 0.25em; line-height: 1; border-radius: 0.35em;\">\n",
              "    Google Podcasts\n",
              "    <span style=\"font-size: 0.8em; font-weight: bold; line-height: 1; border-radius: 0.35em; vertical-align: middle; margin-left: 0.5rem\">ORG</span>\n",
              "</mark>\n",
              "), video sharing (\n",
              "<mark class=\"entity\" style=\"background: #7aecec; padding: 0.45em 0.6em; margin: 0 0.25em; line-height: 1; border-radius: 0.35em;\">\n",
              "    YouTube\n",
              "    <span style=\"font-size: 0.8em; font-weight: bold; line-height: 1; border-radius: 0.35em; vertical-align: middle; margin-left: 0.5rem\">ORG</span>\n",
              "</mark>\n",
              "), blog publishing (Blogger), note-taking (Google Keep and \n",
              "<mark class=\"entity\" style=\"background: #aa9cfc; padding: 0.45em 0.6em; margin: 0 0.25em; line-height: 1; border-radius: 0.35em;\">\n",
              "    Jamboard\n",
              "    <span style=\"font-size: 0.8em; font-weight: bold; line-height: 1; border-radius: 0.35em; vertical-align: middle; margin-left: 0.5rem\">PERSON</span>\n",
              "</mark>\n",
              "), and photo organizing and editing (Google Photos). The company leads the development of the \n",
              "<mark class=\"entity\" style=\"background: #7aecec; padding: 0.45em 0.6em; margin: 0 0.25em; line-height: 1; border-radius: 0.35em;\">\n",
              "    Android\n",
              "    <span style=\"font-size: 0.8em; font-weight: bold; line-height: 1; border-radius: 0.35em; vertical-align: middle; margin-left: 0.5rem\">ORG</span>\n",
              "</mark>\n",
              " mobile operating system, the Google Chrome web browser, and Chrome OS (a lightweight, proprietary operating system based on the free and open-source \n",
              "<mark class=\"entity\" style=\"background: #7aecec; padding: 0.45em 0.6em; margin: 0 0.25em; line-height: 1; border-radius: 0.35em;\">\n",
              "    Chromium\n",
              "    <span style=\"font-size: 0.8em; font-weight: bold; line-height: 1; border-radius: 0.35em; vertical-align: middle; margin-left: 0.5rem\">ORG</span>\n",
              "</mark>\n",
              " OS operating system). \n",
              "<mark class=\"entity\" style=\"background: #7aecec; padding: 0.45em 0.6em; margin: 0 0.25em; line-height: 1; border-radius: 0.35em;\">\n",
              "    Google\n",
              "    <span style=\"font-size: 0.8em; font-weight: bold; line-height: 1; border-radius: 0.35em; vertical-align: middle; margin-left: 0.5rem\">ORG</span>\n",
              "</mark>\n",
              " has moved increasingly into hardware; from \n",
              "<mark class=\"entity\" style=\"background: #bfe1d9; padding: 0.45em 0.6em; margin: 0 0.25em; line-height: 1; border-radius: 0.35em;\">\n",
              "    2010 to 2015\n",
              "    <span style=\"font-size: 0.8em; font-weight: bold; line-height: 1; border-radius: 0.35em; vertical-align: middle; margin-left: 0.5rem\">DATE</span>\n",
              "</mark>\n",
              ", it partnered with major electronics manufacturers in the production of its Google \n",
              "<mark class=\"entity\" style=\"background: #7aecec; padding: 0.45em 0.6em; margin: 0 0.25em; line-height: 1; border-radius: 0.35em;\">\n",
              "    Nexus\n",
              "    <span style=\"font-size: 0.8em; font-weight: bold; line-height: 1; border-radius: 0.35em; vertical-align: middle; margin-left: 0.5rem\">ORG</span>\n",
              "</mark>\n",
              " devices, and it released multiple hardware products in \n",
              "<mark class=\"entity\" style=\"background: #bfe1d9; padding: 0.45em 0.6em; margin: 0 0.25em; line-height: 1; border-radius: 0.35em;\">\n",
              "    2016\n",
              "    <span style=\"font-size: 0.8em; font-weight: bold; line-height: 1; border-radius: 0.35em; vertical-align: middle; margin-left: 0.5rem\">DATE</span>\n",
              "</mark>\n",
              ", including the Google Pixel line of smartphones, \n",
              "<mark class=\"entity\" style=\"background: #7aecec; padding: 0.45em 0.6em; margin: 0 0.25em; line-height: 1; border-radius: 0.35em;\">\n",
              "    Google Home\n",
              "    <span style=\"font-size: 0.8em; font-weight: bold; line-height: 1; border-radius: 0.35em; vertical-align: middle; margin-left: 0.5rem\">ORG</span>\n",
              "</mark>\n",
              " smart speaker, \n",
              "<mark class=\"entity\" style=\"background: #7aecec; padding: 0.45em 0.6em; margin: 0 0.25em; line-height: 1; border-radius: 0.35em;\">\n",
              "    Google Wifi mesh wireless router\n",
              "    <span style=\"font-size: 0.8em; font-weight: bold; line-height: 1; border-radius: 0.35em; vertical-align: middle; margin-left: 0.5rem\">ORG</span>\n",
              "</mark>\n",
              ". \n",
              "<mark class=\"entity\" style=\"background: #7aecec; padding: 0.45em 0.6em; margin: 0 0.25em; line-height: 1; border-radius: 0.35em;\">\n",
              "    Google\n",
              "    <span style=\"font-size: 0.8em; font-weight: bold; line-height: 1; border-radius: 0.35em; vertical-align: middle; margin-left: 0.5rem\">ORG</span>\n",
              "</mark>\n",
              " has also experimented with becoming an Internet carrier (\n",
              "<mark class=\"entity\" style=\"background: #7aecec; padding: 0.45em 0.6em; margin: 0 0.25em; line-height: 1; border-radius: 0.35em;\">\n",
              "    Google Fiber\n",
              "    <span style=\"font-size: 0.8em; font-weight: bold; line-height: 1; border-radius: 0.35em; vertical-align: middle; margin-left: 0.5rem\">ORG</span>\n",
              "</mark>\n",
              " and Google Fi). \n",
              "<mark class=\"entity\" style=\"background: #7aecec; padding: 0.45em 0.6em; margin: 0 0.25em; line-height: 1; border-radius: 0.35em;\">\n",
              "    Google.com\n",
              "    <span style=\"font-size: 0.8em; font-weight: bold; line-height: 1; border-radius: 0.35em; vertical-align: middle; margin-left: 0.5rem\">ORG</span>\n",
              "</mark>\n",
              " is the most visited website worldwide. Several other \n",
              "<mark class=\"entity\" style=\"background: #7aecec; padding: 0.45em 0.6em; margin: 0 0.25em; line-height: 1; border-radius: 0.35em;\">\n",
              "    Google\n",
              "    <span style=\"font-size: 0.8em; font-weight: bold; line-height: 1; border-radius: 0.35em; vertical-align: middle; margin-left: 0.5rem\">ORG</span>\n",
              "</mark>\n",
              "-owned websites also are on the list of most popular websites, including \n",
              "<mark class=\"entity\" style=\"background: #7aecec; padding: 0.45em 0.6em; margin: 0 0.25em; line-height: 1; border-radius: 0.35em;\">\n",
              "    YouTube\n",
              "    <span style=\"font-size: 0.8em; font-weight: bold; line-height: 1; border-radius: 0.35em; vertical-align: middle; margin-left: 0.5rem\">ORG</span>\n",
              "</mark>\n",
              " and Blogger. On the list of most valuable brands, \n",
              "<mark class=\"entity\" style=\"background: #7aecec; padding: 0.45em 0.6em; margin: 0 0.25em; line-height: 1; border-radius: 0.35em;\">\n",
              "    Google\n",
              "    <span style=\"font-size: 0.8em; font-weight: bold; line-height: 1; border-radius: 0.35em; vertical-align: middle; margin-left: 0.5rem\">ORG</span>\n",
              "</mark>\n",
              " is ranked \n",
              "<mark class=\"entity\" style=\"background: #e4e7d2; padding: 0.45em 0.6em; margin: 0 0.25em; line-height: 1; border-radius: 0.35em;\">\n",
              "    second\n",
              "    <span style=\"font-size: 0.8em; font-weight: bold; line-height: 1; border-radius: 0.35em; vertical-align: middle; margin-left: 0.5rem\">ORDINAL</span>\n",
              "</mark>\n",
              " by \n",
              "<mark class=\"entity\" style=\"background: #7aecec; padding: 0.45em 0.6em; margin: 0 0.25em; line-height: 1; border-radius: 0.35em;\">\n",
              "    Forbes\n",
              "    <span style=\"font-size: 0.8em; font-weight: bold; line-height: 1; border-radius: 0.35em; vertical-align: middle; margin-left: 0.5rem\">ORG</span>\n",
              "</mark>\n",
              " and \n",
              "<mark class=\"entity\" style=\"background: #e4e7d2; padding: 0.45em 0.6em; margin: 0 0.25em; line-height: 1; border-radius: 0.35em;\">\n",
              "    fourth\n",
              "    <span style=\"font-size: 0.8em; font-weight: bold; line-height: 1; border-radius: 0.35em; vertical-align: middle; margin-left: 0.5rem\">ORDINAL</span>\n",
              "</mark>\n",
              " by \n",
              "<mark class=\"entity\" style=\"background: #7aecec; padding: 0.45em 0.6em; margin: 0 0.25em; line-height: 1; border-radius: 0.35em;\">\n",
              "    Interbrand\n",
              "    <span style=\"font-size: 0.8em; font-weight: bold; line-height: 1; border-radius: 0.35em; vertical-align: middle; margin-left: 0.5rem\">ORG</span>\n",
              "</mark>\n",
              ". It has received significant criticism involving issues such as privacy concerns, tax avoidance, censorship, search neutrality, antitrust and abuse of its monopoly position.</div></span>"
            ],
            "text/plain": [
              "<IPython.core.display.HTML object>"
            ]
          },
          "metadata": {}
        }
      ]
    },
    {
      "cell_type": "markdown",
      "source": [
        "###Score"
      ],
      "metadata": {
        "id": "HG6iWTBeflRR"
      }
    },
    {
      "cell_type": "code",
      "source": [
        "#equate\n",
        "nlp_5 = NER_5"
      ],
      "metadata": {
        "id": "XwxyBsrXfm2Q"
      },
      "execution_count": 71,
      "outputs": []
    },
    {
      "cell_type": "code",
      "source": [
        "#working code\n",
        "\n",
        "Googleexamples = []\n",
        "\n",
        "data_5 = [(Google, {\"entities\": [(0,10,'ORG'), (17,25,'NORP'), (241,244,'CARDINAL'), (278,286,'NORP'), (331,337,'ORG'),\n",
        "(339,347,'ORG'), (349,354,'ORG'), (360,369,'ORG'), (371,377,'ORG'), (393,410,'DATE'),\n",
        "(414,424,'PERSON'), (429,440,'PERSON'), (475,494,'ORG'), (498,508,'GPE'), (528,537,'PERCENT'),\n",
        "(580,583,'PERCENT'), (708,712,'DATE'), (717,721,'DATE'), (723,729,'ORG'), (778,790,'ORG'),\n",
        "(793,799,'ORG'), (803,811,'ORG'), (862,870,'ORG'), (908,921,'PERSON'), (943,949,'ORG'),\n",
        "(953,969,'DATE'), (981,991,'PERSON'), (1015,1023,'ORG'), (1028,1044,'DATE'), (1046,1052,'PERSON'),\n",
        "(1076,1084,'ORG'), (1089,1093,'DATE'), (1095,1121,'ORG'), (1154,1160,'ORG'), (1280,1286,'ORG'),\n",
        "(1381,1392,'PRODUCT'), (1413,1426,'PRODUCT'), (1476,1491,'PRODUCT'), (1509,1521,'PRODUCT'), (1558,1568,'PRODUCT'),\n",
        "(1587,1598,'PRODUCT'), (1679,1683,'PRODUCT'), (1703,1714,'PRODUCT'), (1767,1774,'ORG'), (1794,1801,'ORG'),\n",
        "(1833,1841,'PRODUCT'), (1935,1942,'ORG'), (1972,1978,'ORG'), (1979,1985,'PRODUCT'), (2003,2012,'PRODUCT'),\n",
        "(2092,2103,'ORG'), (2123,2129,'ORG'), (2173,2185,'DATE'), (2262,2268,'ORG'), (2269,2274,'PRODUCT'),\n",
        "(2330,2334,'DATE'), (2350,2356,'ORG'), (2357,2362,'PRODUCT'), (2384,2395,'PRODUCT'), (2411,2422,'ORG'),\n",
        "(2445,2451,'ORG'), (2509,2521,'PRODUCT'), (2526,2535,'PRODUCT'), (2538,2548,'ORG'), (2602,2608,'ORG'),\n",
        "(2681,2688,'ORG'), (2693,2700,'PRODUCT'), (2739,2745,'ORG'), (2756,2762,'ORDINAL'), (2766,2772,'ORG'),\n",
        "(2777,2783,'ORDINAL'), (2787,2797,'ORG')]})]\n",
        "\n",
        "for text_5, annots_5 in data_5:\n",
        "    doc_5 = nlp_5.make_doc(text_5)\n",
        "    Googleexamples.append(Example.from_dict(doc_5, annots_5))\n",
        "\n",
        "#output to txt\n",
        "f = sys.stdout\n",
        "f = open('score_output.txt', 'a') #append to opened common file\n",
        " \n",
        "print(\"#Google score\", file=f)\n",
        "print(nlp_5.evaluate(Googleexamples), file=f) #Global and local entity metrics\n",
        "f.close() #close file"
      ],
      "metadata": {
        "id": "MZXsL80hfm4n"
      },
      "execution_count": 72,
      "outputs": []
    },
    {
      "cell_type": "code",
      "source": [
        "print(nlp_5.evaluate(Googleexamples))"
      ],
      "metadata": {
        "colab": {
          "base_uri": "https://localhost:8080/"
        },
        "id": "rCdSfLTwRQf2",
        "outputId": "494d10e9-4fcc-4e36-8610-0f6368701b88"
      },
      "execution_count": 73,
      "outputs": [
        {
          "output_type": "stream",
          "name": "stdout",
          "text": [
            "{'token_acc': 1.0, 'token_p': 1.0, 'token_r': 1.0, 'token_f': 1.0, 'tag_acc': None, 'sents_p': None, 'sents_r': None, 'sents_f': None, 'dep_uas': None, 'dep_las': None, 'dep_las_per_type': None, 'pos_acc': None, 'morph_acc': None, 'morph_micro_p': None, 'morph_micro_r': None, 'morph_micro_f': None, 'morph_per_feat': None, 'lemma_acc': None, 'ents_p': 0.7301587301587301, 'ents_r': 0.6388888888888888, 'ents_f': 0.6814814814814814, 'ents_per_type': {'ORG': {'p': 0.7297297297297297, 'r': 0.7941176470588235, 'f': 0.7605633802816901}, 'NORP': {'p': 1.0, 'r': 1.0, 'f': 1.0}, 'CARDINAL': {'p': 0.0, 'r': 0.0, 'f': 0.0}, 'DATE': {'p': 1.0, 'r': 1.0, 'f': 1.0}, 'PERSON': {'p': 0.5714285714285714, 'r': 0.8, 'f': 0.6666666666666666}, 'WORK_OF_ART': {'p': 0.0, 'r': 0.0, 'f': 0.0}, 'GPE': {'p': 0.5, 'r': 1.0, 'f': 0.6666666666666666}, 'PERCENT': {'p': 1.0, 'r': 1.0, 'f': 1.0}, 'FAC': {'p': 0.0, 'r': 0.0, 'f': 0.0}, 'ORDINAL': {'p': 1.0, 'r': 1.0, 'f': 1.0}, 'PRODUCT': {'p': 0.0, 'r': 0.0, 'f': 0.0}}, 'speed': 5302.986010321187}\n"
          ]
        }
      ]
    },
    {
      "cell_type": "markdown",
      "source": [
        "###Loop"
      ],
      "metadata": {
        "id": "-vtx1SSvPM7-"
      }
    },
    {
      "cell_type": "code",
      "source": [
        "#dataframing the entities and labels\n",
        "for ind in Googledf.index:\n",
        "  print(Googledf['GoogleEntities'][ind], Googledf['GoogleLabels'][ind])"
      ],
      "metadata": {
        "colab": {
          "base_uri": "https://localhost:8080/"
        },
        "outputId": "bc88e395-b0fd-41fc-c5b8-55d975bc8912",
        "id": "rWorqY75PM7-"
      },
      "execution_count": 74,
      "outputs": [
        {
          "output_type": "stream",
          "name": "stdout",
          "text": [
            "Google LLC ORG\n",
            "American NORP\n",
            "Five CARDINAL\n",
            "American NORP\n",
            "Amazon ORG\n",
            "Facebook ORG\n",
            "Apple ORG\n",
            "Microsoft ORG\n",
            "Google ORG\n",
            "September 4, 1998 DATE\n",
            "Larry Page PERSON\n",
            "Sergey Brin PERSON\n",
            "Ph.D. WORK_OF_ART\n",
            "Stanford University ORG\n",
            "California GPE\n",
            "about 14% PERCENT\n",
            "56% PERCENT\n",
            "2004 DATE\n",
            "2015 DATE\n",
            "Google ORG\n",
            "Alphabet Inc ORG\n",
            "Alphabet ORG\n",
            "Alphabet ORG\n",
            "Sundar Pichai PERSON\n",
            "Google ORG\n",
            "October 24, 2015 DATE\n",
            "Larry Page PERSON\n",
            "Alphabet ORG\n",
            "December 3, 2019 DATE\n",
            "Pichai GPE\n",
            "Alphabet ORG\n",
            "2021 DATE\n",
            "the Alphabet Workers Union ORG\n",
            "Google ORG\n",
            "Google ORG\n",
            "Google Search ORG\n",
            "Google Sheets ORG\n",
            "Google Slides PERSON\n",
            "Gmail ORG\n",
            "Google Chat ORG\n",
            "Waze PERSON\n",
            "Street View FAC\n",
            "Google Podcasts ORG\n",
            "YouTube ORG\n",
            "Jamboard PERSON\n",
            "Android ORG\n",
            "Chromium ORG\n",
            "Google ORG\n",
            "2010 to 2015 DATE\n",
            "Nexus ORG\n",
            "2016 DATE\n",
            "Google Home ORG\n",
            "Google Wifi mesh wireless router ORG\n",
            "Google ORG\n",
            "Google Fiber ORG\n",
            "Google.com ORG\n",
            "Google ORG\n",
            "YouTube ORG\n",
            "Google ORG\n",
            "second ORDINAL\n",
            "Forbes ORG\n",
            "fourth ORDINAL\n",
            "Interbrand ORG\n"
          ]
        }
      ]
    },
    {
      "cell_type": "code",
      "source": [
        "#convert entities to list\n",
        "GooglelistEntities = Googledf['GoogleEntities'].tolist()"
      ],
      "metadata": {
        "id": "khDr6o_KPM7-"
      },
      "execution_count": 75,
      "outputs": []
    },
    {
      "cell_type": "code",
      "source": [
        "#entities sampling\n",
        "GooglelistEntities[0]"
      ],
      "metadata": {
        "colab": {
          "base_uri": "https://localhost:8080/"
        },
        "outputId": "3be64ec1-52ab-4f6f-d413-69c5754c629f",
        "id": "9L9n_3kdPM7-"
      },
      "execution_count": 76,
      "outputs": [
        {
          "output_type": "execute_result",
          "data": {
            "text/plain": [
              "Google LLC"
            ]
          },
          "metadata": {},
          "execution_count": 76
        }
      ]
    },
    {
      "cell_type": "code",
      "source": [
        "#convert labels to list\n",
        "GooglelistLabels = Googledf['GoogleLabels'].tolist()"
      ],
      "metadata": {
        "id": "XbcpJOriPM7-"
      },
      "execution_count": 77,
      "outputs": []
    },
    {
      "cell_type": "code",
      "source": [
        "#label sampling\n",
        "GooglelistLabels[0]"
      ],
      "metadata": {
        "colab": {
          "base_uri": "https://localhost:8080/",
          "height": 0
        },
        "outputId": "be09d6ad-a687-40f7-d6d5-811e53aee1bd",
        "id": "Egc9BHf9PM7-"
      },
      "execution_count": 78,
      "outputs": [
        {
          "output_type": "execute_result",
          "data": {
            "application/vnd.google.colaboratory.intrinsic+json": {
              "type": "string"
            },
            "text/plain": [
              "'ORG'"
            ]
          },
          "metadata": {},
          "execution_count": 78
        }
      ]
    },
    {
      "cell_type": "code",
      "source": [
        "#For Google\n",
        "\n",
        "PropLabel_5 = y_5[0][0]\n",
        "\n",
        "#output to owl\n",
        "f = sys.stdout\n",
        "f = open('p107443_output.owl', 'a') #append to opened common file\n",
        "\n",
        "#Google SubClasses\n",
        "print(\"\\n#Google SubClasses\", file=f)\n",
        "print(\"faang:{proplab_5} rdf:type rdfs:Class .\".format(proplab_5=PropLabel_5), file=f) #Class\n",
        "print(\"faang:{proplab_5} rdfs:subClassOf faang:FAANG .\".format(proplab_5=PropLabel_5), file=f) #Google SubClass\n",
        "\n",
        "#Google Individuals\n",
        "print(\"\\n#Google Individuals\", file=f)\n",
        "print(\"faang:{proplab_5}PERSON rdf:type faang:{proplab_5} .\".format(proplab_5=PropLabel_5), file=f) \n",
        "print(\"faang:{proplab_5}NORP rdf:type faang:{proplab_5} .\".format(proplab_5=PropLabel_5), file=f) \n",
        "print(\"faang:{proplab_5}FAC rdf:type faang:{proplab_5} .\".format(proplab_5=PropLabel_5), file=f) \n",
        "print(\"faang:{proplab_5}ORG rdf:type faang:{proplab_5} .\".format(proplab_5=PropLabel_5), file=f) \n",
        "print(\"faang:{proplab_5}GPE rdf:type faang:{proplab_5} .\".format(proplab_5=PropLabel_5), file=f) \n",
        "print(\"faang:{proplab_5}LOC rdf:type faang:{proplab_5} .\".format(proplab_5=PropLabel_5), file=f) \n",
        "print(\"faang:{proplab_5}PRODUCT rdf:type faang:{proplab_5} .\".format(proplab_5=PropLabel_5), file=f) \n",
        "print(\"faang:{proplab_5}EVENT rdf:type faang:{proplab_5} .\".format(proplab_5=PropLabel_5), file=f) \n",
        "print(\"faang:{proplab_5}WORK_OF_ART rdf:type faang:{proplab_5} .\".format(proplab_5=PropLabel_5), file=f) \n",
        "print(\"faang:{proplab_5}LAW rdf:type faang:{proplab_5} .\".format(proplab_5=PropLabel_5), file=f) \n",
        "print(\"faang:{proplab_5}LANGUAGE rdf:type faang:{proplab_5} .\".format(proplab_5=PropLabel_5), file=f) \n",
        "print(\"faang:{proplab_5}DATE rdf:type faang:{proplab_5} .\".format(proplab_5=PropLabel_5), file=f) \n",
        "print(\"faang:{proplab_5}TIME rdf:type faang:{proplab_5} .\".format(proplab_5=PropLabel_5), file=f) \n",
        "print(\"faang:{proplab_5}PERCENT rdf:type faang:{proplab_5} .\".format(proplab_5=PropLabel_5), file=f) \n",
        "print(\"faang:{proplab_5}MONEY rdf:type faang:{proplab_5} .\".format(proplab_5=PropLabel_5), file=f) \n",
        "print(\"faang:{proplab_5}QUANTITY rdf:type faang:{proplab_5} .\".format(proplab_5=PropLabel_5), file=f) \n",
        "print(\"faang:{proplab_5}ORDINAL rdf:type faang:{proplab_5} .\".format(proplab_5=PropLabel_5), file=f) \n",
        "print(\"faang:{proplab_5}CARDINAL rdf:type faang:{proplab_5} .\".format(proplab_5=PropLabel_5), file=f) \n",
        "\n",
        "#Specific Google Triples\n",
        "print(\"\\n#Google Triples\", file=f)\n",
        "for i in range(len(GooglelistEntities)):\n",
        "  if GooglelistLabels[i]=='PERSON':\n",
        "    print('faang:{proplab_5}PERSON faang:{lab} \"{ent}\"^^xsd:string .' .format(proplab_5=PropLabel_5, lab='hasPersonName', ent=GooglelistEntities[i]), file=f)\n",
        "  elif GooglelistLabels[i]=='NORP':\n",
        "    print('faang:{proplab_5}NORP faang:{lab} \"{ent}\"^^xsd:string .' .format(proplab_5=PropLabel_5, lab='hasNationalityReligiousPolitical', ent=GooglelistEntities[i]), file=f)\n",
        "  elif GooglelistLabels[i]=='FAC':\n",
        "    print('faang:{proplab_5}FAC faang:{lab} \"{ent}\"^^xsd:string .' .format(proplab_5=PropLabel_5, lab='hasBuildingsAirportsHighwaysBridges', ent=GooglelistEntities[i]), file=f)\n",
        "  elif GooglelistLabels[i]=='ORG':\n",
        "    print('faang:{proplab_5}ORG faang:{lab} \"{ent}\"^^xsd:string .' .format(proplab_5=PropLabel_5, lab='hasCompaniesAgenciesInstitutions', ent=GooglelistEntities[i]), file=f)\n",
        "  elif GooglelistLabels[i]=='GPE':\n",
        "    print('faang:{proplab_5}GPE faang:{lab} \"{ent}\"^^xsd:string .' .format(proplab_5=PropLabel_5, lab='hasCountriesCitiesState', ent=GooglelistEntities[i]), file=f)\n",
        "  elif GooglelistLabels[i]=='LOC':\n",
        "    print('faang:{proplab_5}LOC faang:{lab} \"{ent}\"^^xsd:string .' .format(proplab_5=PropLabel_5, lab='hasLocation', ent=GooglelistEntities[i]), file=f)\n",
        "  elif GooglelistLabels[i]=='PRODUCT':\n",
        "    print('faang:{proplab_5}PRODUCT faang:{lab} \"{ent}\"^^xsd:string .' .format(proplab_5=PropLabel_5, lab='hasProduct', ent=GooglelistEntities[i]), file=f)\n",
        "  elif GooglelistLabels[i]=='EVENT':\n",
        "    print('faang:{proplab_5}EVENT faang:{lab} \"{ent}\"^^xsd:string .' .format(proplab_5=PropLabel_5, lab='hasEvent', ent=GooglelistEntities[i]), file=f)\n",
        "  elif GooglelistLabels[i]=='WORK_OF_ART':\n",
        "    print('faang:{proplab_5}WORK_OF_ART faang:{lab} \"{ent}\"^^xsd:string .' .format(proplab_5=PropLabel_5, lab='hasWorkOfArt', ent=GooglelistEntities[i]), file=f)\n",
        "  elif GooglelistLabels[i]=='LAW':\n",
        "    print('faang:{proplab_5}LAW faang:{lab} \"{ent}\"^^xsd:string .' .format(proplab_5=PropLabel_5, lab='hasLaw', ent=GooglelistEntities[i]), file=f)\n",
        "  elif GooglelistLabels[i]=='LANGUAGE':\n",
        "    print('faang:{proplab_5}LANGUAGE faang:{lab} \"{ent}\"^^xsd:string .' .format(proplab_5=PropLabel_5, lab='hasLanguage', ent=GooglelistEntities[i]), file=f)\n",
        "  elif GooglelistLabels[i]=='DATE':\n",
        "    print('faang:{proplab_5}DATE faang:{lab} \"{ent}\"^^xsd:string .' .format(proplab_5=PropLabel_5, lab='hasDate', ent=GooglelistEntities[i]), file=f)\n",
        "  elif GooglelistLabels[i]=='TIME':\n",
        "    print('faang:{proplab_5}TIME faang:{lab} \"{ent}\"^^xsd:string .' .format(proplab_5=PropLabel_5, lab='hasTime', ent=GooglelistEntities[i]), file=f)\n",
        "  elif GooglelistLabels[i]=='PERCENT':\n",
        "    print('faang:{proplab_5}PERCENT faang:{lab} \"{ent}\"^^xsd:string .' .format(proplab_5=PropLabel_5, lab='hasPercent', ent=GooglelistEntities[i]), file=f)\n",
        "  elif GooglelistLabels[i]=='MONEY':\n",
        "    print('faang:{proplab_5}MONEY faang:{lab} \"{ent}\"^^xsd:string .' .format(proplab_5=PropLabel_5, lab='hasMoney', ent=GooglelistEntities[i]), file=f)\n",
        "  elif GooglelistLabels[i]=='QUANTITY':\n",
        "    print('faang:{proplab_5}QUANTITY faang:{lab} \"{ent}\"^^xsd:string .' .format(proplab_5=PropLabel_5, lab='hasQuantity', ent=GooglelistEntities[i]), file=f)\n",
        "  elif GooglelistLabels[i]=='ORDINAL':\n",
        "    print('faang:{proplab_5}ORDINAL faang:{lab} \"{ent}\"^^xsd:string .' .format(proplab_5=PropLabel_5, lab='hasOrdinal', ent=GooglelistEntities[i]), file=f)\n",
        "  elif GooglelistLabels[i]=='CARDINAL':\n",
        "    print('faang:{proplab_5}CARDINAL faang:{lab} \"{ent}\"^^xsd:string .' .format(proplab_5=PropLabel_5, lab='hasCardinal', ent=GooglelistEntities[i]), file=f)\n",
        "f.close() #close file"
      ],
      "metadata": {
        "id": "jW0VChzdPM7_"
      },
      "execution_count": 79,
      "outputs": []
    }
  ]
}